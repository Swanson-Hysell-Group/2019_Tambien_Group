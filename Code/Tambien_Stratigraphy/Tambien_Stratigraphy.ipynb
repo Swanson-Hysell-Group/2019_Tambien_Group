{
 "cells": [
  {
   "cell_type": "markdown",
   "metadata": {},
   "source": [
    "# Tambien Stratigraphy\n",
    "\n",
    "This jupyter notebook (Python 3 kernel) plots and analyzes the geochemical and lithostratigraphic data collected from the Tambien Group of Ethiopia."
   ]
  },
  {
   "cell_type": "markdown",
   "metadata": {},
   "source": [
    "## Modules\n",
    "\n",
    "Import standard modules included in most Python 3 distributions:"
   ]
  },
  {
   "cell_type": "code",
   "execution_count": 1,
   "metadata": {},
   "outputs": [],
   "source": [
    "import pandas as pd\n",
    "import numpy as np\n",
    "import matplotlib.pyplot as plt\n",
    "import matplotlib.gridspec as gridspec\n",
    "from scipy import stats\n",
    "from sklearn.preprocessing import StandardScaler\n",
    "from sklearn.decomposition import PCA\n",
    "%matplotlib inline"
   ]
  },
  {
   "cell_type": "markdown",
   "metadata": {},
   "source": [
    "## pystrat\n",
    "\n",
    "This notebook requires the pystrat module (https://github.com/yuempark/pystrat) to work.\n",
    "\n",
    "For further information on its implementation, the reader is referred to the documentation within pystrat.\n",
    "\n",
    "Since this module is still in development and this is constantly evolving, we include a snapshot of it within this repository that will allow the execution of the code included in this notebook:"
   ]
  },
  {
   "cell_type": "code",
   "execution_count": 2,
   "metadata": {},
   "outputs": [],
   "source": [
    "import sys\n",
    "sys.path.insert(0, '../../pystrat')\n",
    "from pystrat import *"
   ]
  },
  {
   "cell_type": "markdown",
   "metadata": {},
   "source": [
    "## Data\n",
    "\n",
    "Import all the Tambien Group data that was collected by our group using the `read_data()` function from pystrat:"
   ]
  },
  {
   "cell_type": "code",
   "execution_count": 3,
   "metadata": {},
   "outputs": [],
   "source": [
    "header_line = 4\n",
    "\n",
    "# pre-2015\n",
    "T1 = read_data('Data/pre-2015/T1.csv', header=header_line)\n",
    "T3 = read_data('Data/pre-2015/T3.csv', header=header_line)\n",
    "T4 = read_data('Data/pre-2015/T4.csv', header=header_line)\n",
    "T5 = read_data('Data/pre-2015/T5.csv', header=header_line)\n",
    "T6 = read_data('Data/pre-2015/T6_2010.csv', header=header_line)\n",
    "T7 = read_data('Data/pre-2015/T7_2010_2013.csv', header=header_line)\n",
    "T9 = read_data('Data/pre-2015/T9.csv', header=header_line)\n",
    "T10 = read_data('Data/pre-2015/T10.csv', header=header_line)\n",
    "T11 = read_data('Data/pre-2015/T11.csv', header=header_line)\n",
    "T14 = read_data('Data/pre-2015/T14.csv', header=header_line)\n",
    "T15 = read_data('Data/pre-2015/T15.csv', header=header_line)\n",
    "T16 = read_data('Data/pre-2015/T16.csv', header=header_line)\n",
    "T17 = read_data('Data/pre-2015/T17.csv', header=header_line)\n",
    "T18 = read_data('Data/pre-2015/T18.csv', header=header_line)\n",
    "T20 = read_data('Data/pre-2015/T20.csv', header=header_line)\n",
    "T21 = read_data('Data/pre-2015/T21.csv', header=header_line)\n",
    "T22 = read_data('Data/pre-2015/T22.csv', header=header_line)\n",
    "T23 = read_data('Data/pre-2015/T23.csv', header=header_line)\n",
    "T27 = read_data('Data/pre-2015/T27.csv', header=header_line)\n",
    "T28 = read_data('Data/pre-2015/T28.csv', header=header_line)\n",
    "T29 = read_data('Data/pre-2015/T29.csv', header=header_line)\n",
    "T30 = read_data('Data/pre-2015/T30.csv', header=header_line)\n",
    "T35 = read_data('Data/pre-2015/T35.csv', header=header_line)\n",
    "Negash_Clasts = pd.read_csv('Data/pre-2015/Negash_Clasts.csv')\n",
    "\n",
    "# 2015\n",
    "T1b = read_data('Data/2015/T1b.csv', header=header_line)\n",
    "T6_2015 = read_data('Data/2015/T6_2015.csv', header=header_line)\n",
    "T37 = read_data('Data/2015/T37.csv', header=header_line)\n",
    "T38 = read_data('Data/2015/T38.csv', header=header_line)\n",
    "T39 = read_data('Data/2015/T39.csv', header=header_line)\n",
    "T40 = read_data('Data/2015/T40.csv', header=header_line)\n",
    "T41 = read_data('Data/2015/T41.csv', header=header_line)\n",
    "T42 = read_data('Data/2015/T42.csv', header=header_line)\n",
    "T43 = read_data('Data/2015/T43.csv', header=header_line)\n",
    "T44 = read_data('Data/2015/T44.csv', header=header_line)\n",
    "T45 = read_data('Data/2015/T45.csv', header=header_line)\n",
    "T46 = read_data('Data/2015/T46.csv', header=header_line)\n",
    "T47 = read_data('Data/2015/T47.csv', header=header_line)\n",
    "T48 = read_data('Data/2015/T48.csv', header=header_line)\n",
    "T49 = read_data('Data/2015/T49.csv', header=header_line)\n",
    "T50 = read_data('Data/2015/T50.csv', header=header_line)\n",
    "T51 = read_data('Data/2015/T51.csv', header=header_line)\n",
    "T52 = read_data('Data/2015/T52.csv', header=header_line)\n",
    "T53 = read_data('Data/2015/T53.csv', header=header_line)\n",
    "T54 = read_data('Data/2015/T54.csv', header=header_line)\n",
    "T55 = read_data('Data/2015/T55.csv', header=header_line)\n",
    "T56 = read_data('Data/2015/T56.csv', header=header_line)\n",
    "Samre_Clasts = pd.read_csv('Data/2015/Samre_Clasts.csv')\n",
    "\n",
    "# 2017\n",
    "T58 = read_data('Data/2017/T58.csv', header=header_line)\n",
    "T60 = read_data('Data/2017/T60.csv', header=header_line)\n",
    "T61 = read_data('Data/2017/T61.csv', header=header_line)\n",
    "T62 = read_data('Data/2017/T62.csv', header=header_line)\n",
    "T63 = read_data('Data/2017/T63.csv', header=header_line)\n",
    "T64 = read_data('Data/2017/T64.csv', header=header_line)\n",
    "T65 = read_data('Data/2017/T65.csv', header=header_line)\n",
    "T66 = read_data('Data/2017/T66.csv', header=header_line)\n",
    "Y01 = read_data('Data/2017/Y01.csv', header=header_line)\n",
    "Y02 = read_data('Data/2017/Y02.csv', header=header_line)\n",
    "Y03 = read_data('Data/2017/Y03.csv', header=header_line)\n",
    "Y04 = read_data('Data/2017/Y04.csv', header=header_line)\n",
    "Y05 = read_data('Data/2017/Y05.csv', header=header_line)\n",
    "Y06 = read_data('Data/2017/Y06.csv', header=header_line)\n",
    "Y07 = read_data('Data/2017/Y07.csv', header=header_line)\n",
    "Y08 = read_data('Data/2017/Y08.csv', header=header_line)\n",
    "Y09 = read_data('Data/2017/Y09.csv', header=header_line)\n",
    "Y10 = read_data('Data/2017/Y10.csv', header=header_line)\n",
    "\n",
    "# a list with all the Berkeley/Princeton Group sections\n",
    "all_sections = [T1, T3, T4, T5, T6, T7, T9, T10,\n",
    "                T11, T14, T15, T16, T17, T18, T20,\n",
    "                T21, T22, T23, T27, T28, T29, T30,\n",
    "                T35, T37, T38, T39, T40,\n",
    "                T41, T42, T43, T44, T45, T46, T47, T48, T49, T50,\n",
    "                T51, T52, T53, T54, T55, T56, T60,\n",
    "                T61, T62, T63, T64, T65, T66,\n",
    "                Y01, Y02, Y03, Y04, Y05, Y06, Y07, Y08, Y09, Y10]\n",
    "\n",
    "# make a list of the section names in the same order as the list above\n",
    "all_section_names = []\n",
    "for i in range(len(all_sections)):\n",
    "    for key, val in list(locals().items()):\n",
    "        if val is all_sections[i]:\n",
    "            all_section_names.append(key)\n",
    "            break"
   ]
  },
  {
   "cell_type": "markdown",
   "metadata": {},
   "source": [
    "Import data from Miller et al. (2009), and pull out only the data for which we have a good understanding of its context:\n",
    "\n",
    "> Miller, N. R., Stern, R. J., Avigad, D., Beyth, M., and Schilman, B., 2009, Cryogenian slate-carbonate sequences of the Tambien Group, Northern Ethiopia (I): Pre-“Sturtian” chemostratigraphy and regional correlations: Precambrian Research, vol. 170, pp. 129–156, doi:10.1016/j.precamres.2008.12.004."
   ]
  },
  {
   "cell_type": "code",
   "execution_count": 4,
   "metadata": {},
   "outputs": [],
   "source": [
    "Miller2009a = pd.read_csv('Data/pre-2015/Miller2009a_data.csv')\n",
    "\n",
    "# just pull out data that we are interested in, then clean it up\n",
    "Miller2009a_MaiKenetal = Miller2009a[(Miller2009a['section']=='Mai Kenetal A') |\n",
    "                                     (Miller2009a['section']=='Mai Kenetal B')].copy()\n",
    "Miller2009a_Negash = Miller2009a[(Miller2009a['section']=='West Negash Madahne Alem') |\n",
    "                                 (Miller2009a['section']=='West Negash B') |\n",
    "                                 (Miller2009a['section']=='West Negash A')].copy()\n",
    "Miller2009a_MaiKenetal.sort_values(by='strat_height', inplace=True)\n",
    "Miller2009a_Negash.sort_values(by='strat_height', inplace=True)\n",
    "Miller2009a_MaiKenetal.reset_index(drop=True, inplace=True)\n",
    "Miller2009a_Negash.reset_index(drop=True, inplace=True)\n",
    "\n",
    "# drop diamictite data\n",
    "Miller2009a_Negash.drop([40,41,42], inplace=True)\n",
    "Miller2009a_Negash.reset_index(drop=True, inplace=True)\n",
    "\n",
    "# drop some non-carbonate data\n",
    "Miller2009a_MaiKenetal.drop([0], inplace=True)\n",
    "Miller2009a_MaiKenetal.reset_index(drop=True, inplace=True)"
   ]
  },
  {
   "cell_type": "markdown",
   "metadata": {},
   "source": [
    "ICP-OES analysis on bulk element concentrations sometimes produces non-sensical results (i.e. negative concentrations) when the concentration of a particular element is below the detection limit (BDL) of the spectrometer. Therefore, we get rid of these data:"
   ]
  },
  {
   "cell_type": "code",
   "execution_count": 5,
   "metadata": {},
   "outputs": [],
   "source": [
    "for section in all_sections:\n",
    "    if 'CARB_Sr_ppm' in section.columns:\n",
    "        for i in range(len(section.index)):\n",
    "            if section['CARB_Ca_ppm'][i] < 0:\n",
    "                section.loc[i,'CARB_Ca_ppm'] = float('NaN')\n",
    "            if section['CARB_Mg_ppm'][i] < 0:\n",
    "                section.loc[i,'CARB_Mg_ppm'] = float('NaN')\n",
    "            if section['CARB_Al_ppm'][i] < 0:\n",
    "                section.loc[i,'CARB_Al_ppm'] = float('NaN')\n",
    "            if section['CARB_Fe_ppm'][i] < 0:\n",
    "                section.loc[i,'CARB_Fe_ppm'] = float('NaN')\n",
    "            if section['CARB_K_ppm'][i] < 0:\n",
    "                section.loc[i,'CARB_K_ppm'] = float('NaN')\n",
    "            if section['CARB_Mn_ppm'][i] < 0:\n",
    "                section.loc[i,'CARB_Mn_ppm'] = float('NaN')\n",
    "            if section['CARB_Na_ppm'][i] < 0:\n",
    "                section.loc[i,'CARB_Na_ppm'] = float('NaN')\n",
    "            if section['CARB_Sr_ppm'][i] < 0:\n",
    "                section.loc[i,'CARB_Sr_ppm'] = float('NaN')"
   ]
  },
  {
   "cell_type": "markdown",
   "metadata": {},
   "source": [
    "Create a master dataframe with all the carbonate data (excluding diamictite clast data):"
   ]
  },
  {
   "cell_type": "code",
   "execution_count": 6,
   "metadata": {},
   "outputs": [
    {
     "name": "stderr",
     "output_type": "stream",
     "text": [
      "/Users/yuempark/anaconda3/lib/python3.6/site-packages/pandas/core/frame.py:6211: FutureWarning: Sorting because non-concatenation axis is not aligned. A future version\n",
      "of pandas will change to not sort by default.\n",
      "\n",
      "To accept the future behavior, pass 'sort=False'.\n",
      "\n",
      "To retain the current behavior and silence the warning, pass 'sort=True'.\n",
      "\n",
      "  sort=sort)\n"
     ]
    }
   ],
   "source": [
    "# initiate the dataframe\n",
    "carb_df_cols = ['section','CARB_SAMPLE','CARB_REMARKS','CARB_HEIGHT','CARB_UNIT',\n",
    "                'CARB_d13C','CARB_d13C_std','CARB_d18O','CARB_d18O_std',\n",
    "                'CARB_mts_mtx','CARB_d44_40Ca','CARB_87Sr/86Sr',\n",
    "                'CARB_Al_ppm','CARB_Ca_ppm','CARB_Fe_ppm','CARB_Mg_ppm',\n",
    "                'CARB_Mn_ppm','CARB_K_ppm','CARB_Na_ppm','CARB_Sr_ppm']\n",
    "carb_df = pd.DataFrame(columns=carb_df_cols)\n",
    "\n",
    "# iterate through all the sections\n",
    "for i in range(len(all_sections)):\n",
    "    \n",
    "    # get the names of the CARB columns in the section\n",
    "    CARB_cols = []\n",
    "    for j in range(len(all_sections[i].columns)):\n",
    "        if 'CARB' in all_sections[i].columns[j]:\n",
    "            CARB_cols.append(all_sections[i].columns[j])\n",
    "            \n",
    "    if len(CARB_cols) > 0:\n",
    "        \n",
    "        # pull out those columns, remove NaN's, and add a section column\n",
    "        CARB_cols_df = all_sections[i][CARB_cols].copy()\n",
    "        CARB_cols_df = CARB_cols_df[~np.isnan(CARB_cols_df['CARB_SAMPLE'])].copy()\n",
    "        CARB_cols_df['section'] = [all_section_names[i]] * len(CARB_cols_df.index)\n",
    "\n",
    "        # append to the master dataframe\n",
    "        carb_df = carb_df.append(CARB_cols_df, ignore_index=True)\n",
    "        \n",
    "# if the mts_mtx column is empty, assume that it is a mtx sample\n",
    "for i in range(len(carb_df.index)):\n",
    "    if pd.isnull(carb_df['CARB_mts_mtx'][i]):\n",
    "        carb_df.loc[i, 'CARB_mts_mtx'] = 'mtx'\n",
    "        \n",
    "# reorder the columns\n",
    "carb_df = carb_df[carb_df_cols]"
   ]
  },
  {
   "cell_type": "markdown",
   "metadata": {},
   "source": [
    "Do the same for the Miller et al. (2009) data:"
   ]
  },
  {
   "cell_type": "code",
   "execution_count": 7,
   "metadata": {},
   "outputs": [],
   "source": [
    "# pull out the columns that we want and rename them\n",
    "Miller2009a_MaiKenetal = pd.DataFrame({'section':Miller2009a_MaiKenetal['section'],\n",
    "                                       'CARB_SAMPLE':Miller2009a_MaiKenetal['transect/sample_id'],\n",
    "                                       'CARB_HEIGHT':Miller2009a_MaiKenetal['strat_height'],\n",
    "                                       'CARB_87Sr/86Sr':Miller2009a_MaiKenetal['87Sr/86Sr'],\n",
    "                                       'CARB_Sr_ppm':Miller2009a_MaiKenetal['Sr_ppm'],\n",
    "                                       'CARB_Fe_ppm':Miller2009a_MaiKenetal['Fe_ppm'],\n",
    "                                       'CARB_Mn_ppm':Miller2009a_MaiKenetal['Mn_ppm'],\n",
    "                                       'CARB_d13C':Miller2009a_MaiKenetal['d13C'],\n",
    "                                       'CARB_d18O':Miller2009a_MaiKenetal['d18O']})\n",
    "Miller2009a_Negash = pd.DataFrame({'section':Miller2009a_Negash['section'],\n",
    "                                   'CARB_SAMPLE':Miller2009a_Negash['transect/sample_id'],\n",
    "                                   'CARB_HEIGHT':Miller2009a_Negash['strat_height'],\n",
    "                                   'CARB_87Sr/86Sr':Miller2009a_Negash['87Sr/86Sr'],\n",
    "                                   'CARB_Sr_ppm':Miller2009a_Negash['Sr_ppm'],\n",
    "                                   'CARB_Fe_ppm':Miller2009a_Negash['Fe_ppm'],\n",
    "                                   'CARB_Mn_ppm':Miller2009a_Negash['Mn_ppm'],\n",
    "                                   'CARB_d13C':Miller2009a_Negash['d13C'],\n",
    "                                   'CARB_d18O':Miller2009a_Negash['d18O']})\n",
    "\n",
    "# rename the sections\n",
    "Miller2009a_Negash['section'] = ['Miller2009a Negash'] * len(Miller2009a_Negash.index)\n",
    "Miller2009a_MaiKenetal['section'] = ['Miller2009a Mai Kenetal'] * len(Miller2009a_MaiKenetal.index)\n",
    "\n",
    "# add a mts_mtx column\n",
    "Miller2009a_Negash['CARB_mts_mtx'] = ['mtx'] * len(Miller2009a_Negash.index)\n",
    "Miller2009a_MaiKenetal['CARB_mts_mtx'] = ['mtx'] * len(Miller2009a_MaiKenetal.index)\n",
    "\n",
    "# add to the master dataframe\n",
    "carb_df = carb_df.append(Miller2009a_MaiKenetal, ignore_index=True)\n",
    "carb_df = carb_df.append(Miller2009a_Negash, ignore_index=True)"
   ]
  },
  {
   "cell_type": "markdown",
   "metadata": {},
   "source": [
    "## Sr Alteration\n",
    "\n",
    "This section uses [Mn], [Sr], and $^{87}$Sr/$^{86}$Sr to determine which samples have been altered.\n",
    "\n",
    "Below is a function that plots carbonate data that passes/fails selected [Sr] and [Mn]/[Sr] thresholds:"
   ]
  },
  {
   "cell_type": "code",
   "execution_count": 8,
   "metadata": {},
   "outputs": [],
   "source": [
    "def plot_Sr_thresholds(df, Sr_threshold, MnSr_threshold):\n",
    "    \"\"\"\n",
    "    Plot [Sr] vs. 87Sr/86Sr and [Mn]/[Sr] vs. 87Sr/86Sr, with the thresholds marked.\n",
    "    \n",
    "    Args:\n",
    "        - df = dataframe with carbonate data\n",
    "        - Sr_threshold = threshold [Sr] to be plotted\n",
    "        - MnSr_threshold = threshold [Mn]/[Sr] to be plotted\n",
    "        \n",
    "    Returns:\n",
    "        - fig (figure): figure handle\n",
    "        - ax (axes): axes handles\n",
    "    \"\"\"\n",
    "    fig, ax = plt.subplots(1, 2, figsize=(9,4), sharey=True)\n",
    "    \n",
    "    # create a Mn/Sr column\n",
    "    df['CARB_Mn/Sr'] = df['CARB_Mn_ppm'] / df['CARB_Sr_ppm']\n",
    "    \n",
    "    # split the data according to the thresholds\n",
    "    mtx_pass = df[(df['CARB_mts_mtx']=='mtx') & (df['CARB_Sr_ppm']>=Sr_threshold) & (df['CARB_Mn/Sr']<=MnSr_threshold)]\n",
    "    mts_pass = df[(df['CARB_mts_mtx']=='mts') & (df['CARB_Sr_ppm']>=Sr_threshold) & (df['CARB_Mn/Sr']<=MnSr_threshold)]\n",
    "    mtx_fail = df[(df['CARB_mts_mtx']=='mtx') & ((df['CARB_Sr_ppm']<Sr_threshold) | (df['CARB_Mn/Sr']>MnSr_threshold))]\n",
    "    mts_fail = df[(df['CARB_mts_mtx']=='mts') & ((df['CARB_Sr_ppm']<Sr_threshold) | (df['CARB_Mn/Sr']>MnSr_threshold))]\n",
    "    \n",
    "    # plot\n",
    "    ax[0].scatter(mtx_fail['CARB_Sr_ppm'],mtx_fail['CARB_87Sr/86Sr'],\n",
    "                  marker='o',c='C7',edgecolors='none',label='altered')\n",
    "    ax[0].scatter(mts_fail['CARB_Sr_ppm'],mts_fail['CARB_87Sr/86Sr'],\n",
    "                  marker='^',facecolors='w',edgecolors='C7',linewidths=1,label='altered (MTS)')\n",
    "    ax[0].scatter(mtx_pass['CARB_Sr_ppm'],mtx_pass['CARB_87Sr/86Sr'],\n",
    "                  marker='o',c='C1',edgecolors='none',label='primary')\n",
    "    ax[0].scatter(mts_pass['CARB_Sr_ppm'],mts_pass['CARB_87Sr/86Sr'],\n",
    "                  marker='^',facecolors='w',edgecolors='C1',linewidths=1,label='primary (MTS)')\n",
    "    \n",
    "    ax[1].scatter(mtx_fail['CARB_Mn/Sr'],mtx_fail['CARB_87Sr/86Sr'],\n",
    "                  marker='o',c='C7',edgecolors='none',label='altered')\n",
    "    ax[1].scatter(mts_fail['CARB_Mn/Sr'],mts_fail['CARB_87Sr/86Sr'],\n",
    "                  marker='^',facecolors='w',edgecolors='C7',linewidths=1,label='altered (MTS)')\n",
    "    ax[1].scatter(mtx_pass['CARB_Mn/Sr'],mtx_pass['CARB_87Sr/86Sr'],\n",
    "                  marker='o',c='C1',edgecolors='none',label='primary')\n",
    "    ax[1].scatter(mts_pass['CARB_Mn/Sr'],mts_pass['CARB_87Sr/86Sr'],\n",
    "                  marker='^',facecolors='w',edgecolors='C1',linewidths=1,label='primary (MTS)')\n",
    "    \n",
    "    # prettify\n",
    "    ax[0].axvline(Sr_threshold,color='k')\n",
    "    ax[0].set_ylabel('$^{87}$Sr/$^{86}$Sr')\n",
    "    ax[0].set_xlabel('[Sr] (ppm)')\n",
    "    ax[0].grid(ls='--')\n",
    "    \n",
    "    ax[1].axvline(MnSr_threshold,color='k')\n",
    "    ax[1].set_xlabel('[Mn]/[Sr]')\n",
    "    ax[1].legend(bbox_to_anchor=(1.02, 1), loc=2, borderaxespad=0)\n",
    "    ax[1].grid(ls='--')\n",
    "    \n",
    "    return fig, ax"
   ]
  },
  {
   "cell_type": "markdown",
   "metadata": {},
   "source": [
    "### Berkeley/Princeton Group's Data"
   ]
  },
  {
   "cell_type": "code",
   "execution_count": 9,
   "metadata": {},
   "outputs": [
    {
     "data": {
      "image/png": "[encoded data removed]",
      "text/plain": [
       "<Figure size 648x288 with 2 Axes>"
      ]
     },
     "metadata": {
      "needs_background": "light"
     },
     "output_type": "display_data"
    }
   ],
   "source": [
    "Sr_threshold = 500\n",
    "MnSr_threshold = 0.35\n",
    "\n",
    "fig, ax = plot_Sr_thresholds(carb_df, Sr_threshold, MnSr_threshold)\n",
    "ax[0].set_ylim(0.705, 0.707)\n",
    "ax[0].set_xlim(0,4000)\n",
    "ax[1].set_xlim(0,3)\n",
    "plt.show(fig)"
   ]
  },
  {
   "cell_type": "markdown",
   "metadata": {},
   "source": [
    "Compare molar tooth structure (MTS) data to adjacent matrix (MTX) data.\n",
    "\n",
    "This code generates Figure DR4 in the data repository."
   ]
  },
  {
   "cell_type": "code",
   "execution_count": 10,
   "metadata": {},
   "outputs": [
    {
     "data": {
      "image/png": "[encoded data removed]",
      "text/plain": [
       "<Figure size 648x288 with 2 Axes>"
      ]
     },
     "metadata": {
      "needs_background": "light"
     },
     "output_type": "display_data"
    }
   ],
   "source": [
    "mts_Sr_vals = np.array([])\n",
    "mtx_Sr_vals = np.array([])\n",
    "mts_C_vals = np.array([])\n",
    "mtx_C_vals = np.array([])\n",
    "\n",
    "for i in range(len(carb_df.index)):\n",
    "    mts_Sr_val = np.nan\n",
    "    mtx_Sr_val = np.nan\n",
    "    mts_C_val = np.nan\n",
    "    mtx_C_val = np.nan\n",
    "    \n",
    "    # stop iterating if we hit a mts\n",
    "    if carb_df['CARB_mts_mtx'][i] == 'mts':\n",
    "        mts_Sr_val = carb_df['CARB_87Sr/86Sr'][i]\n",
    "        mts_C_val = carb_df['CARB_d13C'][i]\n",
    "        \n",
    "        # find a matching mtx sample, if any\n",
    "        for j in range(len(carb_df.index)):\n",
    "            if carb_df['CARB_SAMPLE'][j]==carb_df['CARB_SAMPLE'][i] and\\\n",
    "               carb_df['CARB_mts_mtx'][j]=='mtx' and\\\n",
    "               carb_df['section'][j]==carb_df['section'][i]:\n",
    "                mtx_Sr_val = carb_df['CARB_87Sr/86Sr'][j]\n",
    "                mtx_C_val = carb_df['CARB_d13C'][j]\n",
    "                break\n",
    "\n",
    "        # if we have matching data, append it\n",
    "        if np.isfinite(mtx_Sr_val) and np.isfinite(mts_Sr_val):  \n",
    "            mts_Sr_vals = np.append(mts_Sr_vals, mts_Sr_val)\n",
    "            mtx_Sr_vals = np.append(mtx_Sr_vals, mtx_Sr_val)\n",
    "\n",
    "        if np.isfinite(mtx_C_val) and np.isfinite(mts_C_val):\n",
    "            mts_C_vals = np.append(mts_C_vals, mts_C_val)\n",
    "            mtx_C_vals = np.append(mtx_C_vals, mtx_C_val)\n",
    "\n",
    "fig, ax = plt.subplots(1, 2, figsize=(9,4))\n",
    "\n",
    "ax[0].plot([0,1],[0,1],color='k',linestyle='--')\n",
    "ax[1].plot([-30,30],[-30,30],color='k',linestyle='--')\n",
    "            \n",
    "ax[0].scatter(mtx_Sr_vals, mts_Sr_vals)\n",
    "ax[1].scatter(mtx_C_vals, mts_C_vals)\n",
    "            \n",
    "ax[0].set_xlim(0.7065, 0.707)\n",
    "ax[0].set_ylim(0.7065, 0.707)\n",
    "ax[0].set_xlabel('matrix $^{87}$Sr/$^{86}$Sr')\n",
    "ax[0].set_ylabel('molar tooth structure $^{87}$Sr/$^{86}$Sr')\n",
    "ax[0].set_axisbelow(True)\n",
    "ax[0].grid(ls='--')\n",
    "ax[0].text(0.9, 0.05, 'n = ' + str(len(mtx_Sr_vals)),\n",
    "           horizontalalignment='center', verticalalignment='center', transform=ax[0].transAxes)\n",
    "\n",
    "ax[1].yaxis.set_label_position(\"right\")\n",
    "ax[1].yaxis.tick_right()\n",
    "ax[1].set_xlim(-5, 10)\n",
    "ax[1].set_ylim(-5, 10)\n",
    "ax[1].set_xticks([-5,0,5,10])\n",
    "ax[1].set_yticks([-5,0,5,10])\n",
    "ax[1].set_xlabel('matrix $\\delta^{13}$C')\n",
    "ax[1].set_ylabel('molar tooth structure $\\delta^{13}$C', rotation=270, labelpad=20)\n",
    "ax[1].set_axisbelow(True)\n",
    "ax[1].grid(ls='--')\n",
    "ax[1].text(0.9, 0.05, 'n = ' + str(len(mtx_C_vals)),\n",
    "           horizontalalignment='center', verticalalignment='center', transform=ax[1].transAxes)\n",
    "\n",
    "#plt.savefig('../../Manuscript/Figures/MTS_MTX_Comparison.pdf', bbox_inches='tight')\n",
    "plt.show(fig)"
   ]
  },
  {
   "cell_type": "markdown",
   "metadata": {},
   "source": [
    "### Miller et al. (2009) Data"
   ]
  },
  {
   "cell_type": "code",
   "execution_count": 11,
   "metadata": {},
   "outputs": [
    {
     "data": {
      "image/png": "[encoded data removed]",
      "text/plain": [
       "<Figure size 648x288 with 2 Axes>"
      ]
     },
     "metadata": {
      "needs_background": "light"
     },
     "output_type": "display_data"
    }
   ],
   "source": [
    "Miller2009a_carb_df = carb_df[(carb_df['section']=='Miller2009a Mai Kenetal') |\n",
    "                              (carb_df['section']=='Miller2009a Negash')].copy()\n",
    "\n",
    "# note that we are using the same thresholds as the data collected in the Berkeley/Princeton Groups\n",
    "fig, ax = plot_Sr_thresholds(Miller2009a_carb_df, Sr_threshold, MnSr_threshold)\n",
    "ax[0].set_ylim(0.7045, 0.7075)\n",
    "ax[0].set_xlim(0,3500)\n",
    "ax[1].set_xlim(0,8)\n",
    "plt.show(fig)"
   ]
  },
  {
   "cell_type": "markdown",
   "metadata": {},
   "source": [
    "### Together\n",
    "\n",
    "Combine the Berkeley/Princeton Group's data with that from Miller et al. (2009).\n",
    "\n",
    "This code produces Figure 11 in the manuscript (some minor modifications to the figure were made outside of Python):"
   ]
  },
  {
   "cell_type": "code",
   "execution_count": 12,
   "metadata": {},
   "outputs": [
    {
     "data": {
      "image/png": "[encoded data removed]",
      "text/plain": [
       "<Figure size 648x648 with 4 Axes>"
      ]
     },
     "metadata": {
      "needs_background": "light"
     },
     "output_type": "display_data"
    }
   ],
   "source": [
    "fig, ax = plt.subplots(2, 2, figsize=(9,9), sharey='row')\n",
    "\n",
    "# split the data according to the thresholds\n",
    "mtx_pass = carb_df[(carb_df['CARB_mts_mtx']=='mtx') &\n",
    "                   (carb_df['CARB_Sr_ppm']>=Sr_threshold) &\n",
    "                   (carb_df['CARB_Mn/Sr']<=MnSr_threshold)]\n",
    "mts_pass = carb_df[(carb_df['CARB_mts_mtx']=='mts') &\n",
    "                   (carb_df['CARB_Sr_ppm']>=Sr_threshold) &\n",
    "                   (carb_df['CARB_Mn/Sr']<=MnSr_threshold)]\n",
    "mtx_fail = carb_df[(carb_df['CARB_mts_mtx']=='mtx') &\n",
    "                   ((carb_df['CARB_Sr_ppm']<Sr_threshold) | (carb_df['CARB_Mn/Sr']>MnSr_threshold))]\n",
    "mts_fail = carb_df[(carb_df['CARB_mts_mtx']=='mts') &\n",
    "                   ((carb_df['CARB_Sr_ppm']<Sr_threshold) | (carb_df['CARB_Mn/Sr']>MnSr_threshold))]\n",
    "\n",
    "# note that all Miller data is mtx\n",
    "Miller_mtx_pass = Miller2009a_carb_df[(Miller2009a_carb_df['CARB_Sr_ppm']>=Sr_threshold) &\n",
    "                                      (Miller2009a_carb_df['CARB_Mn/Sr']<=MnSr_threshold)]\n",
    "Miller_mtx_fail = Miller2009a_carb_df[(Miller2009a_carb_df['CARB_Sr_ppm']<Sr_threshold) |\n",
    "                                      (Miller2009a_carb_df['CARB_Mn/Sr']>MnSr_threshold)]\n",
    "\n",
    "# plot\n",
    "ax[0][0].scatter(Miller_mtx_fail['CARB_Sr_ppm'],Miller_mtx_fail['CARB_87Sr/86Sr'],\n",
    "                 marker='s',c='C7',edgecolors='none',label='altered (Miller et al., 2009)')\n",
    "ax[0][0].scatter(mtx_fail['CARB_Sr_ppm'],mtx_fail['CARB_87Sr/86Sr'],\n",
    "                 marker='o',c='C7',edgecolors='none',label='altered')\n",
    "ax[0][0].scatter(mts_fail['CARB_Sr_ppm'],mts_fail['CARB_87Sr/86Sr'],\n",
    "                 marker='^',facecolors='C7',edgecolors='k',linewidths=1,label='altered (MTS)')\n",
    "ax[0][0].scatter(Miller_mtx_pass['CARB_Sr_ppm'],Miller_mtx_pass['CARB_87Sr/86Sr'],\n",
    "                 marker='s',c='C1',edgecolors='none',label='primary (Miller et al., 2009)')\n",
    "ax[0][0].scatter(mtx_pass['CARB_Sr_ppm'],mtx_pass['CARB_87Sr/86Sr'],\n",
    "                 marker='o',c='C1',edgecolors='none',label='primary')\n",
    "ax[0][0].scatter(mts_pass['CARB_Sr_ppm'],mts_pass['CARB_87Sr/86Sr'],\n",
    "                 marker='^',facecolors='C1',edgecolors='k',linewidths=1,label='primary (MTS)')\n",
    "\n",
    "ax[0][1].scatter(Miller_mtx_fail['CARB_Mn/Sr'],Miller_mtx_fail['CARB_87Sr/86Sr'],\n",
    "                 marker='s',c='C7',edgecolors='none',label='altered (Miller et al., 2009)')\n",
    "ax[0][1].scatter(mtx_fail['CARB_Mn/Sr'],mtx_fail['CARB_87Sr/86Sr'],\n",
    "                 marker='o',c='C7',edgecolors='none',label='altered')\n",
    "ax[0][1].scatter(mts_fail['CARB_Mn/Sr'],mts_fail['CARB_87Sr/86Sr'],\n",
    "                 marker='^',facecolors='C7',edgecolors='k',linewidths=1,label='altered (MTS)')\n",
    "ax[0][1].scatter(Miller_mtx_pass['CARB_Mn/Sr'],Miller_mtx_pass['CARB_87Sr/86Sr'],\n",
    "                 marker='s',c='C1',edgecolors='none',label='primary (Miller et al., 2009)')\n",
    "ax[0][1].scatter(mtx_pass['CARB_Mn/Sr'],mtx_pass['CARB_87Sr/86Sr'],\n",
    "                 marker='o',c='C1',edgecolors='none',label='primary')\n",
    "ax[0][1].scatter(mts_pass['CARB_Mn/Sr'],mts_pass['CARB_87Sr/86Sr'],\n",
    "                 marker='^',facecolors='C1',edgecolors='k',linewidths=1,label='primary (MTS)')\n",
    "\n",
    "ax[1][0].scatter(Miller_mtx_fail['CARB_Mn_ppm'],Miller_mtx_fail['CARB_Sr_ppm'],\n",
    "                 marker='s',c='C7',edgecolors='none',label='altered (Miller et al., 2009)')\n",
    "ax[1][0].scatter(mtx_fail['CARB_Mn_ppm'],mtx_fail['CARB_Sr_ppm'],\n",
    "                 marker='o',c='C7',edgecolors='none',label='altered')\n",
    "ax[1][0].scatter(mts_fail['CARB_Mn_ppm'],mts_fail['CARB_Sr_ppm'],\n",
    "                 marker='^',facecolors='C7',edgecolors='k',linewidths=1,label='altered (MTS)')\n",
    "ax[1][0].scatter(Miller_mtx_pass['CARB_Mn_ppm'],Miller_mtx_pass['CARB_Sr_ppm'],\n",
    "                 marker='s',c='C1',edgecolors='none',label='primary (Miller et al., 2009)')\n",
    "ax[1][0].scatter(mtx_pass['CARB_Mn_ppm'],mtx_pass['CARB_Sr_ppm'],\n",
    "                 marker='o',c='C1',edgecolors='none',label='primary')\n",
    "ax[1][0].scatter(mts_pass['CARB_Mn_ppm'],mts_pass['CARB_Sr_ppm'],\n",
    "                 marker='^',facecolors='C1',edgecolors='k',linewidths=1,label='primary (MTS)')\n",
    "\n",
    "ax[1][1].scatter(Miller_mtx_fail['CARB_d18O'],Miller_mtx_fail['CARB_Sr_ppm'],\n",
    "                 marker='s',c='C7',edgecolors='none',label='altered (Miller et al., 2009)')\n",
    "ax[1][1].scatter(mtx_fail['CARB_d18O'],mtx_fail['CARB_Sr_ppm'],\n",
    "                 marker='o',c='C7',edgecolors='none',label='altered')\n",
    "ax[1][1].scatter(mts_fail['CARB_d18O'],mts_fail['CARB_Sr_ppm'],\n",
    "                 marker='^',facecolors='C7',edgecolors='k',linewidths=1,label='altered (MTS)')\n",
    "ax[1][1].scatter(Miller_mtx_pass['CARB_d18O'],Miller_mtx_pass['CARB_Sr_ppm'],\n",
    "                 marker='s',c='C1',edgecolors='none',label='primary (Miller et al., 2009)')\n",
    "ax[1][1].scatter(mtx_pass['CARB_d18O'],mtx_pass['CARB_Sr_ppm'],\n",
    "                 marker='o',c='C1',edgecolors='none',label='primary')\n",
    "ax[1][1].scatter(mts_pass['CARB_d18O'],mts_pass['CARB_Sr_ppm'],\n",
    "                 marker='^',facecolors='C1',edgecolors='k',linewidths=1,label='primary (MTS)')\n",
    "\n",
    "# prettify\n",
    "ax[0][0].axvline(Sr_threshold,color='k')\n",
    "ax[0][0].set_ylabel('$^{87}$Sr/$^{86}$Sr')\n",
    "ax[0][0].set_xlabel('[Sr] (ppm)')\n",
    "ax[0][0].set_axisbelow(True)\n",
    "ax[0][0].grid(ls='--')\n",
    "ax[0][0].set_ylim(0.7045,0.707)\n",
    "ax[0][0].set_xlim(0,4000)\n",
    "\n",
    "ax[0][1].axvline(MnSr_threshold,color='k')\n",
    "ax[0][1].set_xlabel('[Mn]/[Sr]')\n",
    "ax[0][1].legend(bbox_to_anchor=(1.02, 1), loc=2, borderaxespad=0)\n",
    "ax[0][1].set_axisbelow(True)\n",
    "ax[0][1].grid(ls='--')\n",
    "ax[0][1].set_xlim(0,2.5)\n",
    "\n",
    "ax[1][0].axhline(Sr_threshold,color='k')\n",
    "ax[1][0].set_xlabel('[Mn]/[Sr]')\n",
    "ax[1][0].set_axisbelow(True)\n",
    "ax[1][0].grid(ls='--')\n",
    "ax[1][0].plot(np.linspace(0,10000)*MnSr_threshold,np.linspace(0,10000),color='k')\n",
    "ax[1][0].set_xlabel('[Mn] (ppm)')\n",
    "ax[1][0].set_ylabel('[Sr] (ppm)')\n",
    "ax[1][0].set_ylim(0,4000)\n",
    "ax[1][0].set_xlim(0,9000)\n",
    "\n",
    "ax[1][1].axhline(Sr_threshold,color='k')\n",
    "ax[1][1].set_xlabel('$\\delta^{18}$O')\n",
    "ax[1][1].set_axisbelow(True)\n",
    "ax[1][1].grid(ls='--')\n",
    "ax[1][1].set_xlim(-15,5)\n",
    "    \n",
    "#plt.savefig('../../Manuscript/Figures/Sr_Diagenesis_raw.pdf')\n",
    "plt.show(fig)"
   ]
  },
  {
   "cell_type": "markdown",
   "metadata": {},
   "source": [
    "## Stratigraphy\n",
    "\n",
    "Plot the data (lithostratigraphy and any geochemical data) collected from each section.\n",
    "\n",
    "Below is a function that determines what data is available for each section, and plots them accordingly:"
   ]
  },
  {
   "cell_type": "code",
   "execution_count": 13,
   "metadata": {},
   "outputs": [],
   "source": [
    "def plot_section_data(data, formatting, strat_ratio):\n",
    "    \"\"\"\n",
    "    Plots the section data.\n",
    "    \n",
    "    Args:\n",
    "        - data (dataframe): properly formatted data\n",
    "        - formatting (dataframe): properly formatted formatting\n",
    "        - strat_ratio (float): stratigraphic ratio used for plotting\n",
    "        \n",
    "    Returns:\n",
    "        - fig (figure): figure handle\n",
    "        - ax (axes): axes handles\n",
    "    \"\"\"\n",
    "    # perform the integrity check\n",
    "    integrity_check(data, formatting)\n",
    "    \n",
    "    # determine which version to plot and plot\n",
    "    if 'CARB_Sr_ppm' in data.columns:\n",
    "        fig, ax = initiate_figure(data, formatting, strat_ratio, 16, [0.15,0.15,0.1,0.1,0.1,0.1,0.1,0.1,0.1],\n",
    "                                  linewidth=0.5)\n",
    "        \n",
    "        data_mtx = data[data['CARB_mts_mtx']=='mtx']\n",
    "        data_mts = data[data['CARB_mts_mtx']=='mts']\n",
    "        \n",
    "        add_data_axis(fig, ax, 2, data_mtx['CARB_d13C'], data_mtx['CARB_HEIGHT'], 'scatter')\n",
    "        add_data_axis(fig, ax, 2, data_mts['CARB_d13C'], data_mts['CARB_HEIGHT'], 'scatter',\n",
    "                      marker='^', facecolors='w', edgecolors='seagreen', linewidths=1)\n",
    "        ax[2].set_xlabel('$\\delta^{13}$C')\n",
    "        ax[2].set_xlim(-15,10)\n",
    "        ax[2].set_xticks([-15,-10,-5,0,5,10])\n",
    "        ax[2].xaxis.grid(ls='--')\n",
    "        \n",
    "        add_data_axis(fig, ax, 3, data_mtx['CARB_d18O'], data_mtx['CARB_HEIGHT'], 'scatter')\n",
    "        add_data_axis(fig, ax, 3, data_mts['CARB_d18O'], data_mts['CARB_HEIGHT'], 'scatter', \n",
    "                      marker='^', facecolors='w', edgecolors='seagreen', linewidths=1)\n",
    "        ax[3].set_xlabel('$\\delta^{18}$O')\n",
    "        ax[3].set_xlim(-20,5)\n",
    "        ax[3].set_xticks([-20,-15,-10,-5,0,5])\n",
    "        ax[3].xaxis.grid(ls='--')\n",
    "        \n",
    "        add_data_axis(fig, ax, 4, data_mtx['CARB_87Sr/86Sr'], data_mtx['CARB_HEIGHT'], 'scatter')\n",
    "        add_data_axis(fig, ax, 4, data_mts['CARB_87Sr/86Sr'], data_mts['CARB_HEIGHT'], 'scatter',\n",
    "                      marker='^', facecolors='w', edgecolors='seagreen', linewidths=1)\n",
    "        ax[4].set_xlabel('$^{87}$Sr/$^{86}$Sr')\n",
    "        ax[4].set_xlim(0.706,0.707)\n",
    "        ax[4].set_xticks([0.706,0.70625,0.7065,0.70675,0.707])\n",
    "        ax[4].set_xticklabels([0.706,'',0.7065,'',0.707])\n",
    "        ax[4].xaxis.grid(ls='--')\n",
    "        \n",
    "        add_data_axis(fig, ax, 5, data_mtx['CARB_Sr_ppm'], data_mtx['CARB_HEIGHT'], 'scatter')\n",
    "        add_data_axis(fig, ax, 5, data_mts['CARB_Sr_ppm'], data_mts['CARB_HEIGHT'], 'scatter',\n",
    "                      marker='^', facecolors='w', edgecolors='seagreen', linewidths=1)\n",
    "        ax[5].set_xlabel('[Sr] (ppm)')\n",
    "        ax[5].set_xlim(0,4000)\n",
    "        ax[5].set_xticks([0,1000,2000,3000,4000])\n",
    "        ax[5].xaxis.grid(ls='--')\n",
    "        \n",
    "        add_data_axis(fig, ax, 6, data_mtx['CARB_Mn_ppm']/data_mtx['CARB_Sr_ppm'],data_mtx['CARB_HEIGHT'],'scatter')\n",
    "        add_data_axis(fig, ax, 6, data_mts['CARB_Mn_ppm']/data_mts['CARB_Sr_ppm'],data_mts['CARB_HEIGHT'],'scatter',\n",
    "                      marker='^', facecolors='w', edgecolors='seagreen', linewidths=1)\n",
    "        ax[6].set_xlabel('[Mn]/[Sr]')\n",
    "        ax[6].set_xlim(0,8)\n",
    "        ax[6].set_xticks([0,2,4,6,8])\n",
    "        ax[6].xaxis.grid(ls='--')\n",
    "        \n",
    "        add_data_axis(fig, ax, 7, data_mtx['CARB_Mg_ppm']/data_mtx['CARB_Ca_ppm'],data_mtx['CARB_HEIGHT'],'scatter')\n",
    "        add_data_axis(fig, ax, 7, data_mts['CARB_Mg_ppm']/data_mts['CARB_Ca_ppm'],data_mts['CARB_HEIGHT'],'scatter',\n",
    "                      marker='^', facecolors='w', edgecolors='seagreen', linewidths=1)\n",
    "        ax[7].set_xlabel('[Mg]/[Ca]')\n",
    "        ax[7].set_xlim(0,0.8)\n",
    "        ax[7].set_xticks([0,0.2,0.4,0.6,0.8])\n",
    "        ax[7].xaxis.grid(ls='--')\n",
    "        \n",
    "        add_data_axis(fig, ax, 8, data_mtx['CARB_Sr_ppm']/data_mtx['CARB_Ca_ppm'],data_mtx['CARB_HEIGHT'],'scatter')\n",
    "        add_data_axis(fig, ax, 8, data_mts['CARB_Sr_ppm']/data_mts['CARB_Ca_ppm'],data_mts['CARB_HEIGHT'],'scatter',\n",
    "                      marker='^', facecolors='w', edgecolors='seagreen', linewidths=1)\n",
    "        ax[8].set_xlabel('[Sr]/[Ca]')\n",
    "        ax[8].set_xlim(0,0.01)\n",
    "        ax[8].set_xticks([0,0.0025,0.005,0.0075,0.01])\n",
    "        ax[8].set_xticklabels([0,'',0.005,'',0.01])\n",
    "        ax[8].xaxis.grid(ls='--')\n",
    "        \n",
    "        for i in range(1,len(ax)):\n",
    "            for tick in ax[i].xaxis.get_major_ticks():\n",
    "                tick.label.set_fontsize(7)\n",
    "        \n",
    "    elif 'CARB_d13C' in data.columns:\n",
    "        fig, ax = initiate_figure(data, formatting, strat_ratio, 8, [0.25, 0.25, 0.25, 0.25], linewidth=0.5)\n",
    "        \n",
    "        data_mtx = data[data['CARB_mts_mtx']=='mtx']\n",
    "        data_mts = data[data['CARB_mts_mtx']=='mts']\n",
    "\n",
    "        add_data_axis(fig, ax, 2, data_mtx['CARB_d13C'], data_mtx['CARB_HEIGHT'], 'scatter')\n",
    "        add_data_axis(fig, ax, 2, data_mts['CARB_d13C'], data_mts['CARB_HEIGHT'], 'scatter',\n",
    "                      marker='^', facecolors='w', edgecolors='seagreen', linewidths=1)\n",
    "        ax[2].set_xlabel('$\\delta^{13}$C')\n",
    "        ax[2].set_xlim(-15,10)\n",
    "        ax[2].set_xticks([-15,-10,-5,0,5,10])\n",
    "        ax[2].xaxis.grid(ls='--')\n",
    "\n",
    "        add_data_axis(fig, ax, 3, data_mtx['CARB_d18O'], data_mtx['CARB_HEIGHT'], 'scatter')\n",
    "        add_data_axis(fig, ax, 3, data_mts['CARB_d18O'], data_mts['CARB_HEIGHT'], 'scatter',\n",
    "                      marker='^', facecolors='w', edgecolors='seagreen', linewidths=1)\n",
    "        ax[3].set_xlabel('$\\delta^{18}$O')\n",
    "        ax[3].set_xlim(-20,5)\n",
    "        ax[3].set_xticks([-20,-15,-10,-5,0,5])\n",
    "        ax[3].xaxis.grid(ls='--')\n",
    "        \n",
    "    else:\n",
    "        fig, ax = initiate_figure(data, formatting, strat_ratio, 4, [0.5, 0.5], linewidth=0.5)\n",
    "\n",
    "    return fig, ax\n",
    "\n",
    "strat_ratio = 0.02\n",
    "strat_ratio_minis = 0.2"
   ]
  },
  {
   "cell_type": "markdown",
   "metadata": {},
   "source": [
    "### Siliciclastic Filter"
   ]
  },
  {
   "cell_type": "markdown",
   "metadata": {},
   "source": [
    "It is difficult to assess whether geochemical data from carbonates has been altered by secondary processes. One way of doing so is by assessing how close samples are to siliciclastic units, and filtering them based on this distance."
   ]
  },
  {
   "cell_type": "code",
   "execution_count": null,
   "metadata": {},
   "outputs": [],
   "source": [
    "def filter_altered(data, section, ds, strat_ratio, include_cover, include_carb_si, include_si_carb):\n",
    "    \"\"\"\n",
    "    Filter carbonate data based on proximity to siliciclastics.\n",
    "    \n",
    "    Args:\n",
    "        - data (dataframe): properly formatted data\n",
    "        - section (string): name of section\n",
    "        - ds (array): array of d's to test, where d is the distance within which to reject data (in metres)\n",
    "        - strat_ratio (float): stratigraphic ratio used for plotting\n",
    "        - include_cover (boolean): if true, count cover as a siliciclastic\n",
    "        - include_carb_si (boolean): if true, count carb-sts as a siliciclastic\n",
    "        - include_si_carb (boolean): if true, count sts_carb as a siliciclastic\n",
    "        \n",
    "    Returns:\n",
    "        - fig (figure): figure handle\n",
    "        - ax (axes): axis handles\n",
    "    \"\"\"\n",
    "    # a list of siliciclastic units\n",
    "    si_units = ['br','bcg','di2','di1','sill','dyke','cgl','di3','gw','dicss','ccg','di','gcg','pcg','ig',\n",
    "                'pcg-fss','m','gcg-sts','vcss','css-sts','css','mss','mss-sts','sst','mves','rhy','ch','gss',\n",
    "                'rhyolite','fss','fss-gcg','fss-pcg','fss-sts','tuff','vfss','vesicular','ves','amyg','sts',\n",
    "                'sts-bs','bs','slt','bs-sts','sts-css','sts-fss','shl','sts-mss']\n",
    "    \n",
    "    # the optional additions\n",
    "    if include_cover:\n",
    "        si_units.append('cover')\n",
    "    if include_carb_si:\n",
    "        si_units.extend(['gr-sts','gr-shl','ri-sts','ri-shl','R-shl','R-ml','R-sts','gr-fss','gr-ml','ri-ml'])\n",
    "    if include_si_carb:\n",
    "        si_units.extend(['ml-R','sts-R','ml-ri','sts-ri','shl-gr','sts-ml','bs-ml','ml-gr','bs-gr','shl-ri','shl-R',\n",
    "                         'sts-gr','fss-gr','ml'])\n",
    "        \n",
    "    # create arrays that store the start and end of siliciclastic units\n",
    "    si_units_start = np.array([])\n",
    "    si_units_end = np.array([])\n",
    "    strat_height = 0.0\n",
    "    \n",
    "    for i in range(len(data.index)):\n",
    "        if pd.notnull(data['THICKNESS'][i]):\n",
    "            this_thickness = data['THICKNESS'][i]\n",
    "            if data['GRAIN_SIZE'][i] in si_units:\n",
    "                si_units_start = np.append(si_units_start, strat_height)\n",
    "                si_units_end = np.append(si_units_end, np.round(strat_height + this_thickness, 2))\n",
    "            strat_height = np.round(strat_height + this_thickness, 2)\n",
    "        else:\n",
    "            break\n",
    "            \n",
    "    # initiate column\n",
    "    data['CARB_si_d'] = np.nan\n",
    "        \n",
    "    if len(si_units_start)!=0:\n",
    "        # iterate through the samples\n",
    "        for i in range(len(data.index)):\n",
    "            if pd.notnull(data['CARB_HEIGHT'][i]):\n",
    "\n",
    "                # special case for when the sample is below the first siliciclastic unit\n",
    "                if data['CARB_HEIGHT'][i]<=si_units_start[0]:\n",
    "\n",
    "                    # get the distance to the unit (if it's on the boundary, give it 1cm)\n",
    "                    min_d = si_units_start[0] - data['CARB_HEIGHT'][i]\n",
    "                    if min_d == 0:\n",
    "                        data.loc[i,'CARB_si_d'] = 0.01\n",
    "                    else:\n",
    "                        data.loc[i,'CARB_si_d'] = min_d\n",
    "\n",
    "                # special case for when the sample is above the last siliciclastic unit\n",
    "                elif data['CARB_HEIGHT'][i]>=si_units_end[-1]:\n",
    "\n",
    "                    # get the distance to the unit (if it's on the boundary, give it 1cm)\n",
    "                    min_d = data['CARB_HEIGHT'][i] - si_units_end[-1]\n",
    "                    if min_d == 0:\n",
    "                        data.loc[i,'CARB_si_d'] = 0.01\n",
    "                    else:\n",
    "                        data.loc[i,'CARB_si_d'] = min_d\n",
    "                            \n",
    "                # special case for then the sample is within the last siliciclastic unit\n",
    "                elif data['CARB_HEIGHT'][i]>si_units_start[-1] and data['CARB_HEIGHT'][i]<si_units_end[-1]:\n",
    "                    data.loc[i,'CARB_si_d'] = 0.0\n",
    "\n",
    "                else:\n",
    "                    # iterate through the siliciclastic units\n",
    "                    for j in range(len(si_units_start)-1):\n",
    "\n",
    "                        # if the sample is from within the siliciclastic unit\n",
    "                        if data['CARB_HEIGHT'][i]>si_units_start[j] and data['CARB_HEIGHT'][i]<si_units_end[j]:\n",
    "                            data.loc[i,'CARB_si_d'] = 0.0\n",
    "\n",
    "                            break\n",
    "\n",
    "                        # stop when we are sandwiched between two siliciclastic units\n",
    "                        elif data['CARB_HEIGHT'][i]>=si_units_end[j] and data['CARB_HEIGHT'][i]<=si_units_start[j+1]:\n",
    "\n",
    "                            # get the distance to the two units\n",
    "                            bot_d = data['CARB_HEIGHT'][i] - si_units_end[j]\n",
    "                            top_d = si_units_start[j+1] - data['CARB_HEIGHT'][i]\n",
    "\n",
    "                            # select the smaller of the two\n",
    "                            if bot_d < top_d:\n",
    "                                min_d = bot_d\n",
    "                            else:\n",
    "                                min_d = top_d\n",
    "                                \n",
    "                            if min_d == 0:\n",
    "                                data.loc[i,'CARB_si_d'] = 0.01\n",
    "                            else:\n",
    "                                data.loc[i,'CARB_si_d'] = min_d\n",
    "                            \n",
    "\n",
    "                            break\n",
    "\n",
    "            else:\n",
    "                break\n",
    "    \n",
    "    # the case where there are no siliciclastic units in the section\n",
    "    else:\n",
    "        for i in range(len(data.index)):\n",
    "            if pd.notnull(data['CARB_HEIGHT'][i]):\n",
    "                data.loc[i,'CARB_si_d'] = np.inf\n",
    "            \n",
    "    # transfer the results to carb_df\n",
    "    for i in range(len(carb_df.index)):\n",
    "        if carb_df['section'][i]==section:\n",
    "            for j in range(len(data.index)):\n",
    "                if carb_df['CARB_HEIGHT'][i]==data['CARB_HEIGHT'][j]:\n",
    "                    carb_df.loc[i,'CARB_si_d'] = data['CARB_si_d'][j]\n",
    "                    break\n",
    "                    \n",
    "    # print some statistics\n",
    "    print(str(data['CARB_d13C'].count()) + ' = total number of d13C values')\n",
    "    for i in range(len(ds)):\n",
    "        n_samples = 0\n",
    "        for j in range(len(data.index)):\n",
    "            if data['CARB_si_d'][j]>=ds[i] and np.isfinite(data['CARB_d13C'][j]):\n",
    "                n_samples = n_samples + 1\n",
    "        print(str(n_samples) + ' = number of carbonate samples after ' + str(ds[i]) + ' m filter')\n",
    "    \n",
    "    # plot results\n",
    "    width_ratios = [1,1]\n",
    "    width_ratios.extend([1]*len(ds))\n",
    "    fig, ax = initiate_figure(data, formatting, strat_ratio, 12, width_ratios, linewidth=0.5)\n",
    "    \n",
    "    for i in range(2,len(ds)+2):\n",
    "        add_data_axis(fig, ax, i,\n",
    "                      data[data['CARB_si_d']<ds[i-2]]['CARB_d13C'],\n",
    "                      data[data['CARB_si_d']<ds[i-2]]['CARB_HEIGHT'],\n",
    "                      'scatter', c='C7')\n",
    "        add_data_axis(fig, ax, i,\n",
    "                      data[data['CARB_si_d']>=ds[i-2]]['CARB_d13C'],\n",
    "                      data[data['CARB_si_d']>=ds[i-2]]['CARB_HEIGHT'],\n",
    "                      'scatter', c='C1')\n",
    "        ax[i].set_xlabel('$\\delta^{13}$C')\n",
    "        ax[i].set_xlim(-15,10)\n",
    "        ax[i].set_xticks([-15,-10,-5,0,5,10])\n",
    "        ax[i].xaxis.grid(ls='--')\n",
    "        ax[i].set_title(str(ds[i-2]) + ' m')\n",
    "    \n",
    "    return fig, ax"
   ]
  },
  {
   "cell_type": "markdown",
   "metadata": {},
   "source": [
    "Universal values to use for the filter:"
   ]
  },
  {
   "cell_type": "code",
   "execution_count": null,
   "metadata": {},
   "outputs": [],
   "source": [
    "ds = [0.01, 0.1, 0.2, 0.6, 1.0, 5.0]\n",
    "include_cover = True\n",
    "include_carb_si = True\n",
    "include_si_carb = True"
   ]
  },
  {
   "cell_type": "markdown",
   "metadata": {},
   "source": [
    "### Legend\n",
    "\n",
    "Plot the legend used for the lithostratigraphy:"
   ]
  },
  {
   "cell_type": "code",
   "execution_count": null,
   "metadata": {},
   "outputs": [],
   "source": [
    "formatting = read_formatting('../Data/formatting.csv')\n",
    "\n",
    "fig, ax = plot_legend(formatting)\n",
    "plt.show(fig)"
   ]
  },
  {
   "cell_type": "markdown",
   "metadata": {},
   "source": [
    "### Pre-2015 Sections"
   ]
  },
  {
   "cell_type": "markdown",
   "metadata": {},
   "source": [
    "#### T1"
   ]
  },
  {
   "cell_type": "code",
   "execution_count": null,
   "metadata": {
    "scrolled": false
   },
   "outputs": [],
   "source": [
    "fig, ax = plot_section_data(T1, formatting, strat_ratio)\n",
    "plt.show(fig)"
   ]
  },
  {
   "cell_type": "code",
   "execution_count": null,
   "metadata": {
    "scrolled": false
   },
   "outputs": [],
   "source": [
    "fig, ax = filter_altered(T1, 'T1', ds, strat_ratio, include_cover, include_carb_si, include_si_carb)\n",
    "plt.show(fig)"
   ]
  },
  {
   "cell_type": "markdown",
   "metadata": {},
   "source": [
    "Remove altered points:\n",
    "\n",
    "Outlier point from a thin carbonate bed between siliciclastics."
   ]
  },
  {
   "cell_type": "raw",
   "metadata": {
    "collapsed": true
   },
   "source": [
    "for i in range(len(T1.index)):\n",
    "    if (T1['CARB_HEIGHT'][i] == 1222.7):\n",
    "        T1.loc[i,'CARB_d13C'] = float('NaN')\n",
    "        \n",
    "for i in range(len(carb_df.index)):\n",
    "    if (carb_df['CARB_HEIGHT'][i] == 1222.7) and (carb_df['section'][i] == 'T1'):\n",
    "        carb_df.loc[i,'CARB_d13C'] = float('NaN')"
   ]
  },
  {
   "cell_type": "markdown",
   "metadata": {},
   "source": [
    "#### T3"
   ]
  },
  {
   "cell_type": "code",
   "execution_count": null,
   "metadata": {},
   "outputs": [],
   "source": [
    "fig, ax = plot_section_data(T3, formatting, strat_ratio)\n",
    "plt.show(fig)"
   ]
  },
  {
   "cell_type": "code",
   "execution_count": null,
   "metadata": {},
   "outputs": [],
   "source": [
    "fig, ax = filter_altered(T3, 'T3', ds, strat_ratio, include_cover, include_carb_si, include_si_carb)\n",
    "plt.show(fig)"
   ]
  },
  {
   "cell_type": "markdown",
   "metadata": {},
   "source": [
    "#### T4"
   ]
  },
  {
   "cell_type": "code",
   "execution_count": null,
   "metadata": {},
   "outputs": [],
   "source": [
    "fig, ax = plot_section_data(T4, formatting, strat_ratio_minis)\n",
    "plt.show(fig)"
   ]
  },
  {
   "cell_type": "markdown",
   "metadata": {},
   "source": [
    "#### T5"
   ]
  },
  {
   "cell_type": "code",
   "execution_count": null,
   "metadata": {
    "scrolled": false
   },
   "outputs": [],
   "source": [
    "fig, ax = plot_section_data(T5, formatting, strat_ratio)\n",
    "plt.show(fig)"
   ]
  },
  {
   "cell_type": "code",
   "execution_count": null,
   "metadata": {},
   "outputs": [],
   "source": [
    "fig, ax = filter_altered(T5, 'T5', ds, strat_ratio, include_cover, include_carb_si, include_si_carb)\n",
    "plt.show(fig)"
   ]
  },
  {
   "cell_type": "markdown",
   "metadata": {},
   "source": [
    "#### T6 - 2010"
   ]
  },
  {
   "cell_type": "code",
   "execution_count": null,
   "metadata": {},
   "outputs": [],
   "source": [
    "fig, ax = plot_section_data(T6, formatting, strat_ratio_minis)\n",
    "plt.show(fig)"
   ]
  },
  {
   "cell_type": "code",
   "execution_count": null,
   "metadata": {},
   "outputs": [],
   "source": [
    "fig, ax = filter_altered(T6, 'T6', ds, strat_ratio, include_cover, include_carb_si, include_si_carb)\n",
    "plt.show(fig)"
   ]
  },
  {
   "cell_type": "markdown",
   "metadata": {},
   "source": [
    "#### T7 - 2010, 2013"
   ]
  },
  {
   "cell_type": "code",
   "execution_count": null,
   "metadata": {},
   "outputs": [],
   "source": [
    "fig, ax = plot_section_data(T7, formatting, strat_ratio)\n",
    "plt.show(fig)"
   ]
  },
  {
   "cell_type": "code",
   "execution_count": null,
   "metadata": {},
   "outputs": [],
   "source": [
    "fig, ax = filter_altered(T7, 'T7', ds, strat_ratio, include_cover, include_carb_si, include_si_carb)\n",
    "plt.show(fig)"
   ]
  },
  {
   "cell_type": "markdown",
   "metadata": {},
   "source": [
    "#### T9"
   ]
  },
  {
   "cell_type": "code",
   "execution_count": null,
   "metadata": {},
   "outputs": [],
   "source": [
    "fig, ax = plot_section_data(T9, formatting, strat_ratio)\n",
    "plt.show(fig)"
   ]
  },
  {
   "cell_type": "code",
   "execution_count": null,
   "metadata": {},
   "outputs": [],
   "source": [
    "fig, ax = filter_altered(T9, 'T9', ds, strat_ratio, include_cover, include_carb_si, include_si_carb)\n",
    "plt.show(fig)"
   ]
  },
  {
   "cell_type": "markdown",
   "metadata": {},
   "source": [
    "#### T10"
   ]
  },
  {
   "cell_type": "code",
   "execution_count": null,
   "metadata": {},
   "outputs": [],
   "source": [
    "fig, ax = plot_section_data(T10, formatting, strat_ratio)\n",
    "plt.show(fig)"
   ]
  },
  {
   "cell_type": "code",
   "execution_count": null,
   "metadata": {},
   "outputs": [],
   "source": [
    "fig, ax = filter_altered(T10, 'T10', ds, strat_ratio, include_cover, include_carb_si, include_si_carb)\n",
    "plt.show(fig)"
   ]
  },
  {
   "cell_type": "markdown",
   "metadata": {},
   "source": [
    "#### T11"
   ]
  },
  {
   "cell_type": "code",
   "execution_count": null,
   "metadata": {},
   "outputs": [],
   "source": [
    "fig, ax = plot_section_data(T11, formatting, strat_ratio_minis)\n",
    "plt.show(fig)"
   ]
  },
  {
   "cell_type": "markdown",
   "metadata": {},
   "source": [
    "#### T14"
   ]
  },
  {
   "cell_type": "code",
   "execution_count": null,
   "metadata": {},
   "outputs": [],
   "source": [
    "fig, ax = plot_section_data(T14, formatting, strat_ratio)\n",
    "plt.show(fig)"
   ]
  },
  {
   "cell_type": "markdown",
   "metadata": {},
   "source": [
    "#### T15"
   ]
  },
  {
   "cell_type": "code",
   "execution_count": null,
   "metadata": {},
   "outputs": [],
   "source": [
    "fig, ax = plot_section_data(T15, formatting, strat_ratio)\n",
    "plt.show(fig)"
   ]
  },
  {
   "cell_type": "markdown",
   "metadata": {},
   "source": [
    "#### T16"
   ]
  },
  {
   "cell_type": "code",
   "execution_count": null,
   "metadata": {},
   "outputs": [],
   "source": [
    "fig, ax = plot_section_data(T16, formatting, strat_ratio)\n",
    "plt.show(fig)"
   ]
  },
  {
   "cell_type": "code",
   "execution_count": null,
   "metadata": {},
   "outputs": [],
   "source": [
    "fig, ax = filter_altered(T16, 'T16', ds, strat_ratio, include_cover, include_carb_si, include_si_carb)\n",
    "plt.show(fig)"
   ]
  },
  {
   "cell_type": "markdown",
   "metadata": {},
   "source": [
    "#### T17"
   ]
  },
  {
   "cell_type": "code",
   "execution_count": null,
   "metadata": {},
   "outputs": [],
   "source": [
    "fig, ax = plot_section_data(T17, formatting, strat_ratio_minis)\n",
    "plt.show(fig)"
   ]
  },
  {
   "cell_type": "markdown",
   "metadata": {},
   "source": [
    "#### T18"
   ]
  },
  {
   "cell_type": "code",
   "execution_count": null,
   "metadata": {},
   "outputs": [],
   "source": [
    "fig, ax = plot_section_data(T18, formatting, strat_ratio)\n",
    "plt.show(fig)"
   ]
  },
  {
   "cell_type": "code",
   "execution_count": null,
   "metadata": {},
   "outputs": [],
   "source": [
    "fig, ax = filter_altered(T18, 'T18', ds, strat_ratio, include_cover, include_carb_si, include_si_carb)\n",
    "plt.show(fig)"
   ]
  },
  {
   "cell_type": "markdown",
   "metadata": {},
   "source": [
    "#### T20"
   ]
  },
  {
   "cell_type": "code",
   "execution_count": null,
   "metadata": {},
   "outputs": [],
   "source": [
    "fig, ax = plot_section_data(T20, formatting, strat_ratio)\n",
    "plt.show(fig)"
   ]
  },
  {
   "cell_type": "markdown",
   "metadata": {},
   "source": [
    "#### T21"
   ]
  },
  {
   "cell_type": "code",
   "execution_count": null,
   "metadata": {},
   "outputs": [],
   "source": [
    "fig, ax = plot_section_data(T21, formatting, strat_ratio)\n",
    "plt.show(fig)"
   ]
  },
  {
   "cell_type": "markdown",
   "metadata": {},
   "source": [
    "#### T22"
   ]
  },
  {
   "cell_type": "code",
   "execution_count": null,
   "metadata": {
    "scrolled": false
   },
   "outputs": [],
   "source": [
    "fig, ax = plot_section_data(T22, formatting, strat_ratio)\n",
    "plt.show(fig)"
   ]
  },
  {
   "cell_type": "code",
   "execution_count": null,
   "metadata": {
    "scrolled": false
   },
   "outputs": [],
   "source": [
    "fig, ax = filter_altered(T22, 'T22', ds, strat_ratio, include_cover, include_carb_si, include_si_carb)\n",
    "plt.show(fig)"
   ]
  },
  {
   "cell_type": "markdown",
   "metadata": {},
   "source": [
    "#### T23"
   ]
  },
  {
   "cell_type": "code",
   "execution_count": null,
   "metadata": {},
   "outputs": [],
   "source": [
    "fig, ax = plot_section_data(T23, formatting, strat_ratio)\n",
    "plt.show(fig)"
   ]
  },
  {
   "cell_type": "code",
   "execution_count": null,
   "metadata": {},
   "outputs": [],
   "source": [
    "fig, ax = filter_altered(T23, 'T23', ds, strat_ratio, include_cover, include_carb_si, include_si_carb)\n",
    "plt.show(fig)"
   ]
  },
  {
   "cell_type": "markdown",
   "metadata": {},
   "source": [
    "Remove altered points:\n",
    "Points are from thin carbonate beds between siliciclastics. The points are also inconsistent with the data from other sections in the carbonate dominated Mariam Bokhakho Formation to the west."
   ]
  },
  {
   "cell_type": "raw",
   "metadata": {
    "collapsed": true
   },
   "source": [
    "for i in range(len(T23.index)):\n",
    "    if T23['CARB_HEIGHT'][i] > 685:\n",
    "        T23.loc[i,'CARB_d13C'] = float('NaN')\n",
    "\n",
    "for i in range(len(carb_df.index)):\n",
    "    if carb_df['section'][i] == 'T23':\n",
    "        if carb_df['CARB_HEIGHT'][i] > 685:\n",
    "            carb_df.loc[i,'CARB_d13C'] = float('NaN')"
   ]
  },
  {
   "cell_type": "markdown",
   "metadata": {},
   "source": [
    "#### T27"
   ]
  },
  {
   "cell_type": "code",
   "execution_count": null,
   "metadata": {},
   "outputs": [],
   "source": [
    "fig, ax = plot_section_data(T27, formatting, strat_ratio)\n",
    "plt.show(fig)"
   ]
  },
  {
   "cell_type": "code",
   "execution_count": null,
   "metadata": {},
   "outputs": [],
   "source": [
    "fig, ax = filter_altered(T27, 'T27', ds, strat_ratio, include_cover, include_carb_si, include_si_carb)\n",
    "plt.show(fig)"
   ]
  },
  {
   "cell_type": "markdown",
   "metadata": {},
   "source": [
    "#### T28"
   ]
  },
  {
   "cell_type": "code",
   "execution_count": null,
   "metadata": {},
   "outputs": [],
   "source": [
    "fig, ax = plot_section_data(T28, formatting, strat_ratio)\n",
    "plt.show(fig)"
   ]
  },
  {
   "cell_type": "code",
   "execution_count": null,
   "metadata": {},
   "outputs": [],
   "source": [
    "fig, ax = filter_altered(T28, 'T28', ds, strat_ratio, include_cover, include_carb_si, include_si_carb)\n",
    "plt.show(fig)"
   ]
  },
  {
   "cell_type": "markdown",
   "metadata": {},
   "source": [
    "#### T29"
   ]
  },
  {
   "cell_type": "code",
   "execution_count": null,
   "metadata": {},
   "outputs": [],
   "source": [
    "fig, ax = plot_section_data(T29, formatting, strat_ratio)\n",
    "plt.show(fig)"
   ]
  },
  {
   "cell_type": "code",
   "execution_count": null,
   "metadata": {},
   "outputs": [],
   "source": [
    "fig, ax = filter_altered(T29, 'T29', ds, strat_ratio, include_cover, include_carb_si, include_si_carb)\n",
    "plt.show(fig)"
   ]
  },
  {
   "cell_type": "markdown",
   "metadata": {},
   "source": [
    "Remove altered points:\n",
    "\n",
    "Points show anomalously high Mn/Sr, and are from thin carbonate beds between siliciclastics. The points are also inconsistent with the data from other sections in the carbonate dominated Mariam Bokhakho Formation to the west."
   ]
  },
  {
   "cell_type": "raw",
   "metadata": {
    "collapsed": true
   },
   "source": [
    "for i in range(len(T29.index)):\n",
    "    if T29['CARB_HEIGHT'][i] > 200:\n",
    "        T29.loc[i,'CARB_d13C'] = float('NaN')\n",
    "\n",
    "for i in range(len(carb_df.index)):\n",
    "    if carb_df['section'][i] == 'T29':\n",
    "        if carb_df['CARB_HEIGHT'][i] > 200:\n",
    "            carb_df.loc[i,'CARB_d13C'] = float('NaN')\n",
    "            \n",
    "for i in range(len(T29.index)):\n",
    "    if T29['CARB_HEIGHT'][i] < 100:\n",
    "        T29.loc[i,'CARB_d13C'] = float('NaN')\n",
    "\n",
    "for i in range(len(carb_df.index)):\n",
    "    if carb_df['section'][i] == 'T29':\n",
    "        if carb_df['CARB_HEIGHT'][i] < 100:\n",
    "            carb_df.loc[i,'CARB_d13C'] = float('NaN')"
   ]
  },
  {
   "cell_type": "markdown",
   "metadata": {},
   "source": [
    "#### T30"
   ]
  },
  {
   "cell_type": "code",
   "execution_count": null,
   "metadata": {},
   "outputs": [],
   "source": [
    "fig, ax = plot_section_data(T30, formatting, strat_ratio)\n",
    "plt.show(fig)"
   ]
  },
  {
   "cell_type": "code",
   "execution_count": null,
   "metadata": {},
   "outputs": [],
   "source": [
    "fig, ax = filter_altered(T30, 'T30', ds, strat_ratio, include_cover, include_carb_si, include_si_carb)\n",
    "plt.show(fig)"
   ]
  },
  {
   "cell_type": "markdown",
   "metadata": {},
   "source": [
    "Remove altered points:\n",
    "\n",
    "Points are from thin carbonate beds between siliciclastics. The points are also inconsistent with the data from other sections in the carbonate dominated Mariam Bokhakho Formation to the west."
   ]
  },
  {
   "cell_type": "raw",
   "metadata": {
    "collapsed": true
   },
   "source": [
    "for i in range(len(T30.index)):\n",
    "    if T30['CARB_HEIGHT'][i] > 40:\n",
    "        T30.loc[i,'CARB_d13C'] = float('NaN')\n",
    "\n",
    "for i in range(len(carb_df.index)):\n",
    "    if carb_df['section'][i] == 'T30':\n",
    "        if carb_df['CARB_HEIGHT'][i] > 40:\n",
    "            carb_df.loc[i,'CARB_d13C'] = float('NaN')"
   ]
  },
  {
   "cell_type": "markdown",
   "metadata": {},
   "source": [
    "#### T35"
   ]
  },
  {
   "cell_type": "code",
   "execution_count": null,
   "metadata": {},
   "outputs": [],
   "source": [
    "fig, ax = plot_section_data(T35, formatting, strat_ratio)\n",
    "plt.show(fig)"
   ]
  },
  {
   "cell_type": "markdown",
   "metadata": {},
   "source": [
    "### 2015 Sections"
   ]
  },
  {
   "cell_type": "markdown",
   "metadata": {},
   "source": [
    "#### T1b"
   ]
  },
  {
   "cell_type": "code",
   "execution_count": null,
   "metadata": {},
   "outputs": [],
   "source": [
    "fig, ax = plot_section_data(T1b, formatting, strat_ratio)\n",
    "plt.show(fig)"
   ]
  },
  {
   "cell_type": "markdown",
   "metadata": {},
   "source": [
    "#### T6 - 2015"
   ]
  },
  {
   "cell_type": "code",
   "execution_count": null,
   "metadata": {},
   "outputs": [],
   "source": [
    "fig, ax = plot_section_data(T6_2015, formatting, strat_ratio)\n",
    "plt.show(fig)"
   ]
  },
  {
   "cell_type": "markdown",
   "metadata": {},
   "source": [
    "#### T37"
   ]
  },
  {
   "cell_type": "code",
   "execution_count": null,
   "metadata": {},
   "outputs": [],
   "source": [
    "fig, ax = plot_section_data(T37, formatting, strat_ratio)\n",
    "plt.show(fig)"
   ]
  },
  {
   "cell_type": "code",
   "execution_count": null,
   "metadata": {},
   "outputs": [],
   "source": [
    "fig, ax = filter_altered(T37, 'T37', ds, strat_ratio, include_cover, include_carb_si, include_si_carb)\n",
    "plt.show(fig)"
   ]
  },
  {
   "cell_type": "markdown",
   "metadata": {},
   "source": [
    "#### T38"
   ]
  },
  {
   "cell_type": "code",
   "execution_count": null,
   "metadata": {},
   "outputs": [],
   "source": [
    "fig, ax = plot_section_data(T38, formatting, strat_ratio)\n",
    "plt.show(fig)"
   ]
  },
  {
   "cell_type": "code",
   "execution_count": null,
   "metadata": {},
   "outputs": [],
   "source": [
    "fig, ax = filter_altered(T38, 'T38', ds, strat_ratio, include_cover, include_carb_si, include_si_carb)\n",
    "plt.show(fig)"
   ]
  },
  {
   "cell_type": "markdown",
   "metadata": {},
   "source": [
    "#### T39"
   ]
  },
  {
   "cell_type": "code",
   "execution_count": null,
   "metadata": {
    "scrolled": false
   },
   "outputs": [],
   "source": [
    "fig, ax = plot_section_data(T39, formatting, strat_ratio)\n",
    "plt.show(fig)"
   ]
  },
  {
   "cell_type": "code",
   "execution_count": null,
   "metadata": {},
   "outputs": [],
   "source": [
    "fig, ax = filter_altered(T39, 'T39', ds, strat_ratio, include_cover, include_carb_si, include_si_carb)\n",
    "plt.show(fig)"
   ]
  },
  {
   "cell_type": "markdown",
   "metadata": {},
   "source": [
    "Remove altered points:\n",
    "\n",
    "Points show anomalous Mn/Sr (so high that is off scale in this plot), and are from thin carbonate beds between siliciclastics."
   ]
  },
  {
   "cell_type": "raw",
   "metadata": {
    "collapsed": true
   },
   "source": [
    "for i in range(len(T39.index)):\n",
    "    if (T39['CARB_HEIGHT'][i] == 865.1) or\\\n",
    "       (T39['CARB_HEIGHT'][i] == 865.2) or\\\n",
    "       (T39['CARB_HEIGHT'][i] == 870.2):\n",
    "        T39.loc[i,'CARB_d13C'] = float('NaN')\n",
    "        \n",
    "for i in range(len(carb_df.index)):\n",
    "    if (carb_df['CARB_HEIGHT'][i] == 865.1) and (carb_df['section'][i] == 'T39'):\n",
    "        carb_df.loc[i,'CARB_d13C'] = float('NaN')\n",
    "    elif (carb_df['CARB_HEIGHT'][i] == 865.2) and (carb_df['section'][i] == 'T39'):\n",
    "        carb_df.loc[i,'CARB_d13C'] = float('NaN')\n",
    "    elif (carb_df['CARB_HEIGHT'][i] == 870.2) and (carb_df['section'][i] == 'T39'):\n",
    "        carb_df.loc[i,'CARB_d13C'] = float('NaN')"
   ]
  },
  {
   "cell_type": "markdown",
   "metadata": {},
   "source": [
    "#### T40"
   ]
  },
  {
   "cell_type": "code",
   "execution_count": null,
   "metadata": {},
   "outputs": [],
   "source": [
    "fig, ax = plot_section_data(T40, formatting, strat_ratio)\n",
    "plt.show(fig)"
   ]
  },
  {
   "cell_type": "code",
   "execution_count": null,
   "metadata": {},
   "outputs": [],
   "source": [
    "fig, ax = filter_altered(T40, 'T40', ds, strat_ratio, include_cover, include_carb_si, include_si_carb)\n",
    "plt.show(fig)"
   ]
  },
  {
   "cell_type": "markdown",
   "metadata": {},
   "source": [
    "Remove altered points:\n",
    "\n",
    "Points show anomalously high Mn/Sr, and are from thin carbonate beds between siliciclastics. The points are also inconsistent with the data from other sections in the carbonate dominated Mariam Bokhakho Formation to the west."
   ]
  },
  {
   "cell_type": "raw",
   "metadata": {
    "collapsed": true
   },
   "source": [
    "for i in range(len(T40.index)):\n",
    "    if (T40['CARB_HEIGHT'][i] == 365.1) or\\\n",
    "       (T40['CARB_HEIGHT'][i] == 366.7) or\\\n",
    "       (T40['CARB_HEIGHT'][i] == 367.9):\n",
    "        T40.loc[i,'CARB_d13C'] = float('NaN')\n",
    "        \n",
    "for i in range(len(carb_df.index)):\n",
    "    if (carb_df['CARB_HEIGHT'][i] == 365.1) and (carb_df['section'][i] == 'T40'):\n",
    "        carb_df.loc[i,'CARB_d13C'] = float('NaN')\n",
    "    elif (carb_df['CARB_HEIGHT'][i] == 366.7) and (carb_df['section'][i] == 'T40'):\n",
    "        carb_df.loc[i,'CARB_d13C'] = float('NaN')\n",
    "    elif (carb_df['CARB_HEIGHT'][i] == 367.9) and (carb_df['section'][i] == 'T40'):\n",
    "        carb_df.loc[i,'CARB_d13C'] = float('NaN')\n",
    "        \n",
    "for i in range(len(T40.index)):\n",
    "    if T40['CARB_HEIGHT'][i] > 464:\n",
    "        T40.loc[i,'CARB_d13C'] = float('NaN')\n",
    "\n",
    "for i in range(len(carb_df.index)):\n",
    "    if carb_df['section'][i] == 'T40':\n",
    "        if carb_df['CARB_HEIGHT'][i] > 464:\n",
    "            carb_df.loc[i,'CARB_d13C'] = float('NaN')"
   ]
  },
  {
   "cell_type": "markdown",
   "metadata": {},
   "source": [
    "#### T41"
   ]
  },
  {
   "cell_type": "code",
   "execution_count": null,
   "metadata": {
    "scrolled": false
   },
   "outputs": [],
   "source": [
    "fig, ax = plot_section_data(T41, formatting, strat_ratio)\n",
    "plt.show(fig)"
   ]
  },
  {
   "cell_type": "code",
   "execution_count": null,
   "metadata": {},
   "outputs": [],
   "source": [
    "fig, ax = filter_altered(T41, 'T41', ds, strat_ratio, include_cover, include_carb_si, include_si_carb)\n",
    "plt.show(fig)"
   ]
  },
  {
   "cell_type": "markdown",
   "metadata": {},
   "source": [
    "In T41, the interpretation is that the initial downturn is the descent into the Bitter Springs Anomaly. Values from other basins around the world suggest that global $\\delta^{13}$C during the Anomaly was ~-5. Therefore, if we assume the other basins record true global $\\delta^{13}$C during the anomaly, we may expect to find some bulk element signature of alteration for samples that deviate from $\\delta^{13}$C = -5.\n",
    "Below we see that the relationships are not linear, but do suggest alteration for samples $\\delta^{13}$C < -5."
   ]
  },
  {
   "cell_type": "raw",
   "metadata": {
    "collapsed": true
   },
   "source": [
    "fig, ax = plt.subplots(1, 3, figsize=(9,3), sharey=True)\n",
    "ax[0].scatter((T41['CARB_Mn_ppm']/T41['CARB_Sr_ppm']), T41['CARB_d13C'])\n",
    "ax[0].set_xlabel('[Mn]/[Sr]')\n",
    "ax[0].set_ylabel('$\\delta^{13}$C')\n",
    "ax[0].set_xlim(0,8)\n",
    "\n",
    "ax[1].scatter((T41['CARB_Al_ppm']/T41['CARB_Ca_ppm']), T41['CARB_d13C'])\n",
    "ax[1].set_xlim(0,0.004)\n",
    "ax[1].set_xlabel('[Al]/[Ca]')\n",
    "\n",
    "ax[2].scatter((T41['CARB_Sr_ppm']/T41['CARB_Ca_ppm']), T41['CARB_d13C'])\n",
    "ax[2].set_xlim(0,0.004)\n",
    "ax[2].set_xlabel('[Sr]/[Ca]')\n",
    "plt.show(fig)"
   ]
  },
  {
   "cell_type": "markdown",
   "metadata": {},
   "source": [
    "Remove altered points:\n",
    "\n",
    "See above."
   ]
  },
  {
   "cell_type": "raw",
   "metadata": {
    "collapsed": true
   },
   "source": [
    "for i in range(len(T41.index)):\n",
    "    if T41['CARB_HEIGHT'][i] > 200 and T41['CARB_HEIGHT'][i] < 325:\n",
    "        T41.loc[i,'CARB_d13C'] = float('NaN')\n",
    "\n",
    "for i in range(len(carb_df.index)):\n",
    "    if carb_df['section'][i] == 'T41':\n",
    "        if (carb_df['CARB_HEIGHT'][i] > 200) and (carb_df['CARB_HEIGHT'][i] < 325):\n",
    "            carb_df.loc[i,'CARB_d13C'] = float('NaN')"
   ]
  },
  {
   "cell_type": "markdown",
   "metadata": {},
   "source": [
    "#### T42"
   ]
  },
  {
   "cell_type": "code",
   "execution_count": null,
   "metadata": {},
   "outputs": [],
   "source": [
    "fig, ax = plot_section_data(T42, formatting, strat_ratio)\n",
    "plt.show(fig)"
   ]
  },
  {
   "cell_type": "code",
   "execution_count": null,
   "metadata": {},
   "outputs": [],
   "source": [
    "fig, ax = filter_altered(T42, 'T42', ds, strat_ratio, include_cover, include_carb_si, include_si_carb)\n",
    "plt.show(fig)"
   ]
  },
  {
   "cell_type": "markdown",
   "metadata": {},
   "source": [
    "#### T43"
   ]
  },
  {
   "cell_type": "code",
   "execution_count": null,
   "metadata": {},
   "outputs": [],
   "source": [
    "fig, ax = plot_section_data(T43, formatting, strat_ratio)\n",
    "plt.show(fig)"
   ]
  },
  {
   "cell_type": "code",
   "execution_count": null,
   "metadata": {},
   "outputs": [],
   "source": [
    "fig, ax = filter_altered(T43, 'T43', ds, strat_ratio, include_cover, include_carb_si, include_si_carb)\n",
    "plt.show(fig)"
   ]
  },
  {
   "cell_type": "markdown",
   "metadata": {},
   "source": [
    "Remove altered points:\n",
    "\n",
    "Points are from thin carbonate beds between siliciclastics."
   ]
  },
  {
   "cell_type": "raw",
   "metadata": {
    "collapsed": true
   },
   "source": [
    "for i in range(len(T43.index)):\n",
    "    if T43['CARB_HEIGHT'][i] > 0:\n",
    "        T43.loc[i,'CARB_d13C'] = float('NaN')\n",
    "\n",
    "for i in range(len(carb_df.index)):\n",
    "    if carb_df['section'][i] == 'T43':\n",
    "        if carb_df['CARB_HEIGHT'][i] > 0:\n",
    "            carb_df.loc[i,'CARB_d13C'] = float('NaN')"
   ]
  },
  {
   "cell_type": "markdown",
   "metadata": {},
   "source": [
    "#### T44"
   ]
  },
  {
   "cell_type": "code",
   "execution_count": null,
   "metadata": {},
   "outputs": [],
   "source": [
    "fig, ax = plot_section_data(T44, formatting, strat_ratio)\n",
    "plt.show(fig)"
   ]
  },
  {
   "cell_type": "code",
   "execution_count": null,
   "metadata": {},
   "outputs": [],
   "source": [
    "fig, ax = filter_altered(T44, 'T44', ds, strat_ratio, include_cover, include_carb_si, include_si_carb)\n",
    "plt.show(fig)"
   ]
  },
  {
   "cell_type": "markdown",
   "metadata": {},
   "source": [
    "Remove altered points:\n",
    "\n",
    "Points are from thin carbonate beds between siliciclastics. The points are also inconsistent with all other post-Islay Anomaly Matheos Formation data."
   ]
  },
  {
   "cell_type": "raw",
   "metadata": {
    "collapsed": true
   },
   "source": [
    "for i in range(len(T44.index)):\n",
    "    if (T44['CARB_HEIGHT'][i] > 85) and (T44['CARB_HEIGHT'][i] < 100):\n",
    "        T44.loc[i,'CARB_d13C'] = float('NaN')\n",
    "\n",
    "for i in range(len(carb_df.index)):\n",
    "    if carb_df['section'][i] == 'T44':\n",
    "        if (carb_df['CARB_HEIGHT'][i] > 85) and (carb_df['CARB_HEIGHT'][i] < 100):\n",
    "            carb_df.loc[i,'CARB_d13C'] = float('NaN')"
   ]
  },
  {
   "cell_type": "markdown",
   "metadata": {},
   "source": [
    "#### T45"
   ]
  },
  {
   "cell_type": "code",
   "execution_count": null,
   "metadata": {},
   "outputs": [],
   "source": [
    "fig, ax = plot_section_data(T45, formatting, strat_ratio)\n",
    "plt.show(fig)"
   ]
  },
  {
   "cell_type": "code",
   "execution_count": null,
   "metadata": {},
   "outputs": [],
   "source": [
    "fig, ax = filter_altered(T45, 'T45', ds, strat_ratio, include_cover, include_carb_si, include_si_carb)\n",
    "plt.show(fig)"
   ]
  },
  {
   "cell_type": "markdown",
   "metadata": {},
   "source": [
    "Remove altered points:\n",
    "\n",
    "Points show anomalously high Mn/Sr, and are from thin carbonate beds between siliciclastics. The points are also inconsistent with the data from other sections in the carbonate dominated Mariam Bokhakho Formation to the west."
   ]
  },
  {
   "cell_type": "raw",
   "metadata": {
    "collapsed": true
   },
   "source": [
    "for i in range(len(T45.index)):\n",
    "    if T45['CARB_HEIGHT'][i] > 120:\n",
    "        T45.loc[i,'CARB_d13C'] = float('NaN')\n",
    "        \n",
    "for i in range(len(carb_df.index)):\n",
    "    if carb_df['section'][i] == 'T45':\n",
    "        if carb_df['CARB_HEIGHT'][i] > 120:\n",
    "            carb_df.loc[i,'CARB_d13C'] = float('NaN')"
   ]
  },
  {
   "cell_type": "markdown",
   "metadata": {},
   "source": [
    "#### T46"
   ]
  },
  {
   "cell_type": "code",
   "execution_count": null,
   "metadata": {},
   "outputs": [],
   "source": [
    "fig, ax = plot_section_data(T46, formatting, strat_ratio)\n",
    "plt.show(fig)"
   ]
  },
  {
   "cell_type": "code",
   "execution_count": null,
   "metadata": {},
   "outputs": [],
   "source": [
    "fig, ax = filter_altered(T46, 'T46', ds, strat_ratio, include_cover, include_carb_si, include_si_carb)\n",
    "plt.show(fig)"
   ]
  },
  {
   "cell_type": "markdown",
   "metadata": {},
   "source": [
    "#### T47"
   ]
  },
  {
   "cell_type": "code",
   "execution_count": null,
   "metadata": {},
   "outputs": [],
   "source": [
    "fig, ax = plot_section_data(T47, formatting, strat_ratio)\n",
    "plt.show(fig)"
   ]
  },
  {
   "cell_type": "markdown",
   "metadata": {},
   "source": [
    "#### T48"
   ]
  },
  {
   "cell_type": "code",
   "execution_count": null,
   "metadata": {},
   "outputs": [],
   "source": [
    "fig, ax = plot_section_data(T48, formatting, strat_ratio)\n",
    "plt.show(fig)"
   ]
  },
  {
   "cell_type": "code",
   "execution_count": null,
   "metadata": {},
   "outputs": [],
   "source": [
    "fig, ax = filter_altered(T48, 'T48', ds, strat_ratio, include_cover, include_carb_si, include_si_carb)\n",
    "plt.show(fig)"
   ]
  },
  {
   "cell_type": "markdown",
   "metadata": {},
   "source": [
    "#### T49"
   ]
  },
  {
   "cell_type": "code",
   "execution_count": null,
   "metadata": {},
   "outputs": [],
   "source": [
    "fig, ax = plot_section_data(T49, formatting, strat_ratio)\n",
    "plt.show(fig)"
   ]
  },
  {
   "cell_type": "code",
   "execution_count": null,
   "metadata": {},
   "outputs": [],
   "source": [
    "fig, ax = filter_altered(T49, 'T49', ds, strat_ratio, include_cover, include_carb_si, include_si_carb)\n",
    "plt.show(fig)"
   ]
  },
  {
   "cell_type": "markdown",
   "metadata": {},
   "source": [
    "Remove altered points:\n",
    "\n",
    "Points are from thin carbonate beds between siliciclastics."
   ]
  },
  {
   "cell_type": "raw",
   "metadata": {
    "collapsed": true
   },
   "source": [
    "for i in range(len(T49.index)):\n",
    "    if T49['CARB_HEIGHT'][i] > 11.5:\n",
    "        T49.loc[i,'CARB_d13C'] = float('NaN')\n",
    "\n",
    "for i in range(len(carb_df.index)):\n",
    "    if carb_df['section'][i] == 'T49':\n",
    "        if carb_df['CARB_HEIGHT'][i] > 11.5:\n",
    "            carb_df.loc[i,'CARB_d13C'] = float('NaN')"
   ]
  },
  {
   "cell_type": "markdown",
   "metadata": {},
   "source": [
    "#### T50"
   ]
  },
  {
   "cell_type": "code",
   "execution_count": null,
   "metadata": {},
   "outputs": [],
   "source": [
    "fig, ax = plot_section_data(T50, formatting, strat_ratio)\n",
    "plt.show(fig)"
   ]
  },
  {
   "cell_type": "code",
   "execution_count": null,
   "metadata": {},
   "outputs": [],
   "source": [
    "fig, ax = filter_altered(T50, 'T50', ds, strat_ratio, include_cover, include_carb_si, include_si_carb)\n",
    "plt.show(fig)"
   ]
  },
  {
   "cell_type": "markdown",
   "metadata": {},
   "source": [
    "Remove altered points:\n",
    "\n",
    "Points are from thin carbonate beds between siliciclastics."
   ]
  },
  {
   "cell_type": "raw",
   "metadata": {
    "collapsed": true
   },
   "source": [
    "for i in range(len(T50.index)):\n",
    "    if T50['CARB_HEIGHT'][i] > 43:\n",
    "        T50.loc[i,'CARB_d13C'] = float('NaN')\n",
    "\n",
    "for i in range(len(carb_df.index)):\n",
    "    if carb_df['section'][i] == 'T50':\n",
    "        if carb_df['CARB_HEIGHT'][i] > 43:\n",
    "            carb_df.loc[i,'CARB_d13C'] = float('NaN')"
   ]
  },
  {
   "cell_type": "markdown",
   "metadata": {},
   "source": [
    "#### T51"
   ]
  },
  {
   "cell_type": "code",
   "execution_count": null,
   "metadata": {},
   "outputs": [],
   "source": [
    "fig, ax = plot_section_data(T51, formatting, strat_ratio)\n",
    "plt.show(fig)"
   ]
  },
  {
   "cell_type": "code",
   "execution_count": null,
   "metadata": {
    "scrolled": false
   },
   "outputs": [],
   "source": [
    "fig, ax = filter_altered(T51, 'T51', ds, strat_ratio, include_cover, include_carb_si, include_si_carb)\n",
    "plt.show(fig)"
   ]
  },
  {
   "cell_type": "markdown",
   "metadata": {},
   "source": [
    "Remove altered points:\n",
    "\n",
    "Points are from thin carbonate beds between siliciclastics. The points are also inconsistent with the data from other sections in the carbonate dominated Mariam Bokhakho Formation to the west."
   ]
  },
  {
   "cell_type": "raw",
   "metadata": {
    "collapsed": true
   },
   "source": [
    "for i in range(len(T51.index)):\n",
    "    if T51['CARB_HEIGHT'][i] > 80:\n",
    "        T51.loc[i,'CARB_d13C'] = float('NaN')\n",
    "\n",
    "for i in range(len(carb_df.index)):\n",
    "    if carb_df['section'][i] == 'T51':\n",
    "        if carb_df['CARB_HEIGHT'][i] > 80:\n",
    "            carb_df.loc[i,'CARB_d13C'] = float('NaN')"
   ]
  },
  {
   "cell_type": "markdown",
   "metadata": {},
   "source": [
    "#### T52"
   ]
  },
  {
   "cell_type": "code",
   "execution_count": null,
   "metadata": {},
   "outputs": [],
   "source": [
    "fig, ax = plot_section_data(T52, formatting, strat_ratio)\n",
    "plt.show(fig)"
   ]
  },
  {
   "cell_type": "code",
   "execution_count": null,
   "metadata": {},
   "outputs": [],
   "source": [
    "fig, ax = filter_altered(T52, 'T52', ds, strat_ratio, include_cover, include_carb_si, include_si_carb)\n",
    "plt.show(fig)"
   ]
  },
  {
   "cell_type": "markdown",
   "metadata": {},
   "source": [
    "Remove altered points:\n",
    "\n",
    "Points show anomalously high Mn/Sr, and are from thin carbonate beds between siliciclastics. The points are also inconsistent with the data from other sections in the carbonate dominated Mariam Bokhakho Formation to the west."
   ]
  },
  {
   "cell_type": "raw",
   "metadata": {
    "collapsed": true
   },
   "source": [
    "for i in range(len(T52.index)):\n",
    "    if T52['CARB_HEIGHT'][i] > 150:\n",
    "        T52.loc[i,'CARB_d13C'] = float('NaN')\n",
    "        \n",
    "for i in range(len(carb_df.index)):\n",
    "    if carb_df['section'][i] == 'T52':\n",
    "        if carb_df['CARB_HEIGHT'][i] > 150:\n",
    "            carb_df.loc[i,'CARB_d13C'] = float('NaN')"
   ]
  },
  {
   "cell_type": "markdown",
   "metadata": {},
   "source": [
    "#### T53"
   ]
  },
  {
   "cell_type": "code",
   "execution_count": null,
   "metadata": {},
   "outputs": [],
   "source": [
    "fig, ax = plot_section_data(T53, formatting, strat_ratio)\n",
    "plt.show(fig)"
   ]
  },
  {
   "cell_type": "code",
   "execution_count": null,
   "metadata": {},
   "outputs": [],
   "source": [
    "fig, ax = filter_altered(T53, 'T53', ds, strat_ratio, include_cover, include_carb_si, include_si_carb)\n",
    "plt.show(fig)"
   ]
  },
  {
   "cell_type": "markdown",
   "metadata": {},
   "source": [
    "#### T54"
   ]
  },
  {
   "cell_type": "code",
   "execution_count": null,
   "metadata": {},
   "outputs": [],
   "source": [
    "fig, ax = plot_section_data(T54, formatting, strat_ratio)\n",
    "plt.show(fig)"
   ]
  },
  {
   "cell_type": "code",
   "execution_count": null,
   "metadata": {},
   "outputs": [],
   "source": [
    "fig, ax = filter_altered(T54, 'T54', ds, strat_ratio, include_cover, include_carb_si, include_si_carb)\n",
    "plt.show(fig)"
   ]
  },
  {
   "cell_type": "markdown",
   "metadata": {},
   "source": [
    "#### T55"
   ]
  },
  {
   "cell_type": "code",
   "execution_count": null,
   "metadata": {},
   "outputs": [],
   "source": [
    "fig, ax = plot_section_data(T55, formatting, strat_ratio)\n",
    "plt.show(fig)"
   ]
  },
  {
   "cell_type": "code",
   "execution_count": null,
   "metadata": {},
   "outputs": [],
   "source": [
    "fig, ax = filter_altered(T55, 'T55', ds, strat_ratio, include_cover, include_carb_si, include_si_carb)\n",
    "plt.show(fig)"
   ]
  },
  {
   "cell_type": "markdown",
   "metadata": {},
   "source": [
    "#### T56"
   ]
  },
  {
   "cell_type": "code",
   "execution_count": null,
   "metadata": {},
   "outputs": [],
   "source": [
    "fig, ax = plot_section_data(T56, formatting, strat_ratio)\n",
    "plt.show(fig)"
   ]
  },
  {
   "cell_type": "markdown",
   "metadata": {},
   "source": [
    "### 2017 Sections"
   ]
  },
  {
   "cell_type": "markdown",
   "metadata": {},
   "source": [
    "#### T58\n",
    "\n",
    "Up N on the W limb of the Manta Gedel Syncline.\n",
    "\n",
    "Upper Mariam Bohkahko, Negash."
   ]
  },
  {
   "cell_type": "code",
   "execution_count": null,
   "metadata": {},
   "outputs": [],
   "source": [
    "fig, ax = plot_section_data(T58, formatting, strat_ratio)\n",
    "plt.show(fig)"
   ]
  },
  {
   "cell_type": "markdown",
   "metadata": {},
   "source": [
    "#### T60\n",
    "\n",
    "Up N on the W limb of the Manta Gedel Syncline.\n",
    "\n",
    "Upper Didikama, basal Matheos."
   ]
  },
  {
   "cell_type": "code",
   "execution_count": null,
   "metadata": {},
   "outputs": [],
   "source": [
    "fig, ax = plot_section_data(T60, formatting, strat_ratio)\n",
    "plt.show(fig)"
   ]
  },
  {
   "cell_type": "markdown",
   "metadata": {},
   "source": [
    "#### T61\n",
    "\n",
    "On the E limb of the syncline just SE of the nose of the Manta Gedel Syncline.\n",
    "\n",
    "Upper Matheos, Mariam Bohkahko, basal Negash."
   ]
  },
  {
   "cell_type": "code",
   "execution_count": null,
   "metadata": {},
   "outputs": [],
   "source": [
    "fig, ax = plot_section_data(T61, formatting, strat_ratio)\n",
    "plt.show(fig)"
   ]
  },
  {
   "cell_type": "code",
   "execution_count": null,
   "metadata": {},
   "outputs": [],
   "source": [
    "fig, ax = filter_altered(T61, 'T61', ds, strat_ratio, include_cover, include_carb_si, include_si_carb)\n",
    "plt.show(fig)"
   ]
  },
  {
   "cell_type": "markdown",
   "metadata": {},
   "source": [
    "Remove altered points:\n",
    "\n",
    "The points are inconsistent with the data from other sections in the carbonate dominated Mariam Bokhakho Formation to the west."
   ]
  },
  {
   "cell_type": "raw",
   "metadata": {
    "collapsed": true
   },
   "source": [
    "for i in range(len(T61.index)):\n",
    "    if T61['CARB_HEIGHT'][i] > 140 and T61['CARB_HEIGHT'][i] < 210:\n",
    "        T61.loc[i,'CARB_d13C'] = float('NaN')\n",
    "\n",
    "for i in range(len(carb_df.index)):\n",
    "    if carb_df['section'][i] == 'T61':\n",
    "        if (carb_df['CARB_HEIGHT'][i] > 140) and (carb_df['CARB_HEIGHT'][i] < 210):\n",
    "            carb_df.loc[i,'CARB_d13C'] = float('NaN')"
   ]
  },
  {
   "cell_type": "markdown",
   "metadata": {},
   "source": [
    "#### T62\n",
    "\n",
    "On the W limb of the Manta Gedel Syncline, near the nose.\n",
    "\n",
    "Upper Didikama, Matheos, Mariam Bohkahko, basal Negash."
   ]
  },
  {
   "cell_type": "code",
   "execution_count": null,
   "metadata": {},
   "outputs": [],
   "source": [
    "fig, ax = plot_section_data(T62, formatting, strat_ratio)\n",
    "plt.show(fig)"
   ]
  },
  {
   "cell_type": "markdown",
   "metadata": {},
   "source": [
    "#### T63\n",
    "\n",
    "On the E limb of the E syncline in the Samre Fold-Thrust Belt.\n",
    "\n",
    "Tsaliet, Matheos, Mariam Bohkahko, basal Negash."
   ]
  },
  {
   "cell_type": "code",
   "execution_count": null,
   "metadata": {},
   "outputs": [],
   "source": [
    "fig, ax = plot_section_data(T63, formatting, strat_ratio)\n",
    "plt.show(fig)"
   ]
  },
  {
   "cell_type": "code",
   "execution_count": null,
   "metadata": {},
   "outputs": [],
   "source": [
    "fig, ax = filter_altered(T63, 'T63', ds, strat_ratio, include_cover, include_carb_si, include_si_carb)\n",
    "plt.show(fig)"
   ]
  },
  {
   "cell_type": "markdown",
   "metadata": {},
   "source": [
    "#### T64\n",
    "\n",
    "On the E limb of the E syncline in the Samre Fold-Thrust Belt.\n",
    "\n",
    "Upper Mariam Bohkahko, Negash.\n",
    "\n",
    "Note that the top of this section should correlate with the base of T65."
   ]
  },
  {
   "cell_type": "code",
   "execution_count": null,
   "metadata": {},
   "outputs": [],
   "source": [
    "fig, ax = plot_section_data(T64, formatting, strat_ratio)\n",
    "plt.show(fig)"
   ]
  },
  {
   "cell_type": "code",
   "execution_count": null,
   "metadata": {},
   "outputs": [],
   "source": [
    "fig, ax = filter_altered(T64, 'T64', ds, strat_ratio, include_cover, include_carb_si, include_si_carb)\n",
    "plt.show(fig)"
   ]
  },
  {
   "cell_type": "markdown",
   "metadata": {},
   "source": [
    "#### T65\n",
    "\n",
    "On the E limb of the E syncline in the Samre Fold-Thrust Belt.\n",
    "\n",
    "Negash.\n",
    "\n",
    "Note that the bottom of this section should correlate with the top of T64."
   ]
  },
  {
   "cell_type": "code",
   "execution_count": null,
   "metadata": {},
   "outputs": [],
   "source": [
    "fig, ax = plot_section_data(T65, formatting, strat_ratio)\n",
    "plt.show(fig)"
   ]
  },
  {
   "cell_type": "markdown",
   "metadata": {
    "collapsed": true
   },
   "source": [
    "#### T66\n",
    "\n",
    "On the E limb of the syncline just SE of the nose of the Manta Gedel Syncline.\n",
    "\n",
    "Upper Mariam Bohkahko, basal Negash."
   ]
  },
  {
   "cell_type": "code",
   "execution_count": null,
   "metadata": {},
   "outputs": [],
   "source": [
    "fig, ax = plot_section_data(T66, formatting, strat_ratio)\n",
    "plt.show(fig)"
   ]
  },
  {
   "cell_type": "markdown",
   "metadata": {},
   "source": [
    "#### Y\n",
    "\n",
    "On the W limb of Manta Gedel Syncline, near the nose.\n",
    "\n",
    "Mini-sections moving from N to S.\n",
    "\n",
    "Upper Mariam Bohkahko, basal Negash."
   ]
  },
  {
   "cell_type": "markdown",
   "metadata": {},
   "source": [
    "Y01:"
   ]
  },
  {
   "cell_type": "code",
   "execution_count": null,
   "metadata": {},
   "outputs": [],
   "source": [
    "fig, ax = plot_section_data(Y01, formatting, strat_ratio_minis)\n",
    "plt.show(fig)"
   ]
  },
  {
   "cell_type": "markdown",
   "metadata": {},
   "source": [
    "Y02:"
   ]
  },
  {
   "cell_type": "code",
   "execution_count": null,
   "metadata": {},
   "outputs": [],
   "source": [
    "fig, ax = plot_section_data(Y02, formatting, strat_ratio_minis)\n",
    "plt.show(fig)"
   ]
  },
  {
   "cell_type": "markdown",
   "metadata": {},
   "source": [
    "Y03:"
   ]
  },
  {
   "cell_type": "code",
   "execution_count": null,
   "metadata": {},
   "outputs": [],
   "source": [
    "fig, ax = plot_section_data(Y03, formatting, strat_ratio_minis)\n",
    "plt.show(fig)"
   ]
  },
  {
   "cell_type": "markdown",
   "metadata": {},
   "source": [
    "Y04:"
   ]
  },
  {
   "cell_type": "code",
   "execution_count": null,
   "metadata": {},
   "outputs": [],
   "source": [
    "fig, ax = plot_section_data(Y04, formatting, strat_ratio_minis)\n",
    "plt.show(fig)"
   ]
  },
  {
   "cell_type": "markdown",
   "metadata": {},
   "source": [
    "Y05:"
   ]
  },
  {
   "cell_type": "code",
   "execution_count": null,
   "metadata": {},
   "outputs": [],
   "source": [
    "fig, ax = plot_section_data(Y05, formatting, strat_ratio_minis)\n",
    "plt.show(fig)"
   ]
  },
  {
   "cell_type": "markdown",
   "metadata": {},
   "source": [
    "Y06:"
   ]
  },
  {
   "cell_type": "code",
   "execution_count": null,
   "metadata": {},
   "outputs": [],
   "source": [
    "fig, ax = plot_section_data(Y06, formatting, strat_ratio_minis)\n",
    "plt.show(fig)"
   ]
  },
  {
   "cell_type": "markdown",
   "metadata": {},
   "source": [
    "Y07:"
   ]
  },
  {
   "cell_type": "code",
   "execution_count": null,
   "metadata": {},
   "outputs": [],
   "source": [
    "fig, ax = plot_section_data(Y07, formatting, strat_ratio_minis)\n",
    "plt.show(fig)"
   ]
  },
  {
   "cell_type": "markdown",
   "metadata": {},
   "source": [
    "Y08:"
   ]
  },
  {
   "cell_type": "code",
   "execution_count": null,
   "metadata": {},
   "outputs": [],
   "source": [
    "fig, ax = plot_section_data(Y08, formatting, strat_ratio_minis)\n",
    "plt.show(fig)"
   ]
  },
  {
   "cell_type": "markdown",
   "metadata": {},
   "source": [
    "Y09:"
   ]
  },
  {
   "cell_type": "code",
   "execution_count": null,
   "metadata": {},
   "outputs": [],
   "source": [
    "fig, ax = plot_section_data(Y09, formatting, strat_ratio_minis)\n",
    "plt.show(fig)"
   ]
  },
  {
   "cell_type": "markdown",
   "metadata": {},
   "source": [
    "Y10:"
   ]
  },
  {
   "cell_type": "code",
   "execution_count": null,
   "metadata": {},
   "outputs": [],
   "source": [
    "fig, ax = plot_section_data(Y10, formatting, strat_ratio_minis)\n",
    "plt.show(fig)"
   ]
  },
  {
   "cell_type": "markdown",
   "metadata": {},
   "source": [
    "### Miller et al. (2009)\n",
    "\n",
    "A function for plotting the data from Miller et al. (2009), since its format is slightly different to that of our data:"
   ]
  },
  {
   "cell_type": "code",
   "execution_count": null,
   "metadata": {},
   "outputs": [],
   "source": [
    "def plot_Miller_data(data):\n",
    "    \"\"\"\n",
    "    Plot the geochemical data in Miller et al. (2009).\n",
    "    \n",
    "    Args:\n",
    "        - data (dataframe): geochemical data in Miller et al. (2009)\n",
    "        \n",
    "    Returns:\n",
    "        - fig (figure): figure handle\n",
    "        - ax (axes): axes handles\n",
    "    \"\"\"\n",
    "    fig, ax = plt.subplots(1, 5, sharey=True, figsize=(10,8))\n",
    "    \n",
    "    ax[0].scatter(data['CARB_d13C'], data['CARB_HEIGHT'])\n",
    "    ax[0].set_xlabel('$\\delta^{13}$C')\n",
    "    ax[0].set_xlim(-15,10)\n",
    "    ax[0].set_xticks([-15,-10,-5,0,5,10])\n",
    "    ax[0].xaxis.grid(ls='--')\n",
    "    \n",
    "    ax[1].scatter(data['CARB_d18O'], data['CARB_HEIGHT'])\n",
    "    ax[1].set_xlabel('$\\delta^{18}$O')\n",
    "    ax[1].set_xlim(-20,5)\n",
    "    ax[1].set_xticks([-20,-15,-10,-5,0,5])\n",
    "    ax[1].xaxis.grid(ls='--')\n",
    "    \n",
    "    ax[2].scatter(data['CARB_87Sr/86Sr'], data['CARB_HEIGHT'])\n",
    "    ax[2].set_xlabel('$^{87}$Sr/$^{86}$Sr')\n",
    "    ax[2].set_xlim(0.706,0.707)\n",
    "    ax[2].set_xticks([0.706,0.70625,0.7065,0.70675,0.707])\n",
    "    ax[2].set_xticklabels([0.706,'',0.7065,'',0.707])\n",
    "    ax[2].xaxis.grid(ls='--')\n",
    "    \n",
    "    ax[3].scatter(data['CARB_Sr_ppm'], data['CARB_HEIGHT'])\n",
    "    ax[3].set_xlabel('[Sr] (ppm)')\n",
    "    ax[3].set_xlim(0,4000)\n",
    "    ax[3].set_xticks([0,1000,2000,3000,4000])\n",
    "    ax[3].xaxis.grid(ls='--')\n",
    "    \n",
    "    ax[4].scatter(data['CARB_Mn_ppm']/data['CARB_Sr_ppm'], data['CARB_HEIGHT'])\n",
    "    ax[4].set_xlabel('[Mn]/[Sr]')\n",
    "    ax[4].set_xlim(0,8)\n",
    "    ax[4].set_xticks([0,2,4,6,8])\n",
    "    ax[4].xaxis.grid(ls='--')\n",
    "    \n",
    "    ax[0].set_ylabel('stratigraphic height [m]')\n",
    "    \n",
    "    for i in range(len(ax)):\n",
    "        for tick in ax[i].xaxis.get_major_ticks():\n",
    "            tick.label.set_fontsize(7)\n",
    "    \n",
    "    return fig, ax"
   ]
  },
  {
   "cell_type": "markdown",
   "metadata": {},
   "source": [
    "#### Mai Kenetal"
   ]
  },
  {
   "cell_type": "code",
   "execution_count": null,
   "metadata": {},
   "outputs": [],
   "source": [
    "fig, ax = plot_Miller_data(Miller2009a_MaiKenetal)\n",
    "plt.show(fig)"
   ]
  },
  {
   "cell_type": "markdown",
   "metadata": {},
   "source": [
    "Shift down the lowest sample so that it matches our pre-Bitter Springs Stage data:"
   ]
  },
  {
   "cell_type": "code",
   "execution_count": null,
   "metadata": {},
   "outputs": [],
   "source": [
    "for i in range(len(Miller2009a_MaiKenetal.index)):\n",
    "    if Miller2009a_MaiKenetal['CARB_HEIGHT'][i] < 800:\n",
    "        Miller2009a_MaiKenetal.loc[i,'CARB_HEIGHT'] = Miller2009a_MaiKenetal['CARB_HEIGHT'][i] - 120.5\n",
    "        \n",
    "for i in range(len(carb_df.index)):\n",
    "    if carb_df['section'][i] == 'Miller2009a Mai Kenetal':\n",
    "        if carb_df['CARB_HEIGHT'][i] < 800:\n",
    "            carb_df.loc[i,'CARB_HEIGHT'] = carb_df['CARB_HEIGHT'][i] - 120.5"
   ]
  },
  {
   "cell_type": "markdown",
   "metadata": {},
   "source": [
    "Just make all samples pass the siliciclastic filter:"
   ]
  },
  {
   "cell_type": "code",
   "execution_count": null,
   "metadata": {},
   "outputs": [],
   "source": [
    "for i in range(len(carb_df.index)):\n",
    "    if carb_df['section'][i] == 'Miller2009a Mai Kenetal':\n",
    "        if pd.notnull(carb_df['CARB_HEIGHT'][i]):\n",
    "            carb_df.loc[i, 'CARB_si_d'] = np.inf"
   ]
  },
  {
   "cell_type": "markdown",
   "metadata": {},
   "source": [
    "#### Negash"
   ]
  },
  {
   "cell_type": "code",
   "execution_count": null,
   "metadata": {},
   "outputs": [],
   "source": [
    "fig, ax = plot_Miller_data(Miller2009a_Negash)\n",
    "plt.show(fig)"
   ]
  },
  {
   "cell_type": "markdown",
   "metadata": {},
   "source": [
    "Just make all samples pass the siliciclastic filter:"
   ]
  },
  {
   "cell_type": "code",
   "execution_count": null,
   "metadata": {},
   "outputs": [],
   "source": [
    "for i in range(len(carb_df.index)):\n",
    "    if carb_df['section'][i] == 'Miller2009a Negash':\n",
    "        if pd.notnull(carb_df['CARB_HEIGHT'][i]):\n",
    "            carb_df.loc[i, 'CARB_si_d'] = np.inf"
   ]
  },
  {
   "cell_type": "markdown",
   "metadata": {},
   "source": [
    "## Composites"
   ]
  },
  {
   "cell_type": "markdown",
   "metadata": {},
   "source": [
    "Add [Mn]/[Sr] and primary $^{87}$Sr/$^{86}$Sr columns to the master dataframes, based on the thresholds defined above:"
   ]
  },
  {
   "cell_type": "code",
   "execution_count": null,
   "metadata": {},
   "outputs": [],
   "source": [
    "carb_df['CARB_Mn/Sr'] = carb_df['CARB_Mn_ppm'] / carb_df['CARB_Sr_ppm']\n",
    "for i in range(len(carb_df.index)):\n",
    "    if (carb_df['CARB_Sr_ppm'][i] > Sr_threshold) and (carb_df['CARB_Mn/Sr'][i] < MnSr_threshold):\n",
    "        carb_df.loc[i,'CARB_87Sr/86Sr_primary'] = carb_df['CARB_87Sr/86Sr'][i]"
   ]
  },
  {
   "cell_type": "markdown",
   "metadata": {},
   "source": [
    "A function for plotting geochemical data from multiple sections at the same time:"
   ]
  },
  {
   "cell_type": "code",
   "execution_count": null,
   "metadata": {},
   "outputs": [],
   "source": [
    "def plot_composite_chemostratigraphy(sections, colors, filtered=False, s=20):\n",
    "    \"\"\"\n",
    "    Plots composite chemostratigraphy.\n",
    "    \n",
    "    Args:\n",
    "        - sections (list): list of strings of section names\n",
    "        - colors (list): list of colours\n",
    "        - filtered (boolean): if True, plot filtered values as open circles (default=False)\n",
    "        \n",
    "    Returns:\n",
    "        - fig (figure): figure handle\n",
    "        - ax (axes): axes handles\n",
    "    \"\"\"\n",
    "    fig, ax = plt.subplots(1, 5, sharey=True, figsize=(13,10))\n",
    "    \n",
    "    for i in range(len(sections)):\n",
    "        # pull out the specific section and separate mts and mtx\n",
    "        this_section = carb_df[carb_df['section']==sections[i]]\n",
    "        \n",
    "        mts_data = this_section[this_section['CARB_mts_mtx']=='mts']\n",
    "        mtx_data = this_section[this_section['CARB_mts_mtx']=='mtx']\n",
    "        \n",
    "        mts_facecolor = colors[i]\n",
    "        mts_edgecolor = 'k'\n",
    "        \n",
    "        if filtered==True:\n",
    "            ax[0].scatter(mtx_data[mtx_data['CARB_thresh_sel']==False]['CARB_d13C'],\n",
    "                          mtx_data[mtx_data['CARB_thresh_sel']==False]['cum_CARB_HEIGHT'],\n",
    "                          label='__nolabel__', facecolors='none', edgecolors=colors[i], linewidths=0.5, s=s)\n",
    "            ax[0].scatter(mtx_data[mtx_data['CARB_thresh_sel']==True]['CARB_d13C'],\n",
    "                          mtx_data[mtx_data['CARB_thresh_sel']==True]['cum_CARB_HEIGHT'],\n",
    "                          color=colors[i], label=sections[i], s=s)\n",
    "            ax[0].scatter(mts_data['CARB_d13C'], mts_data['cum_CARB_HEIGHT'],\n",
    "                          label='__nolabel__', marker='^', facecolors=mts_facecolor, edgecolors=mts_edgecolor, linewidths=0.5, zorder=99)\n",
    "            \n",
    "            ax[1].scatter(mtx_data[mtx_data['CARB_thresh_sel']==False]['CARB_d18O'],\n",
    "                          mtx_data[mtx_data['CARB_thresh_sel']==False]['cum_CARB_HEIGHT'],\n",
    "                          label='__nolabel__', facecolors='none', edgecolors=colors[i], linewidths=0.5, s=s)\n",
    "            ax[1].scatter(mtx_data[mtx_data['CARB_thresh_sel']==True]['CARB_d18O'],\n",
    "                          mtx_data[mtx_data['CARB_thresh_sel']==True]['cum_CARB_HEIGHT'],\n",
    "                          color=colors[i], label=sections[i], s=s)\n",
    "            ax[1].scatter(mts_data['CARB_d18O'], mts_data['cum_CARB_HEIGHT'],\n",
    "                          label='__nolabel__', marker='^', facecolors=mts_facecolor, edgecolors=mts_edgecolor, linewidths=0.5, zorder=99)\n",
    "            \n",
    "            ax[2].scatter(mtx_data['CARB_87Sr/86Sr_primary'], mtx_data['cum_CARB_HEIGHT'],\n",
    "                          color=colors[i], label=sections[i], s=s)\n",
    "            ax[2].scatter(mts_data['CARB_87Sr/86Sr_primary'], mts_data['cum_CARB_HEIGHT'],\n",
    "                          label='__nolabel__', marker='^', facecolors=mts_facecolor, edgecolors=mts_edgecolor, linewidths=0.5, zorder=99)\n",
    "            \n",
    "            ax[3].scatter(mtx_data[mtx_data['CARB_thresh_sel']==False]['CARB_Sr_ppm'],\n",
    "                          mtx_data[mtx_data['CARB_thresh_sel']==False]['cum_CARB_HEIGHT'],\n",
    "                          label='__nolabel__', facecolors='none', edgecolors=colors[i], linewidths=0.5, s=s)\n",
    "            ax[3].scatter(mtx_data[mtx_data['CARB_thresh_sel']==True]['CARB_Sr_ppm'],\n",
    "                          mtx_data[mtx_data['CARB_thresh_sel']==True]['cum_CARB_HEIGHT'],\n",
    "                          color=colors[i], label=sections[i], s=s)\n",
    "            ax[3].scatter(mts_data['CARB_Sr_ppm'], mts_data['cum_CARB_HEIGHT'],\n",
    "                          label='__nolabel__', marker='^', facecolors=mts_facecolor, edgecolors=mts_edgecolor, linewidths=0.5, zorder=99)\n",
    "            \n",
    "            ax[4].scatter(mtx_data[mtx_data['CARB_thresh_sel']==False]['CARB_Sr_ppm']/\\\n",
    "                          mtx_data[mtx_data['CARB_thresh_sel']==False]['CARB_Ca_ppm'],\n",
    "                          mtx_data[mtx_data['CARB_thresh_sel']==False]['cum_CARB_HEIGHT'],\n",
    "                          label='__nolabel__', facecolors='none', edgecolors=colors[i], linewidths=0.5, s=s)\n",
    "            ax[4].scatter(mtx_data[mtx_data['CARB_thresh_sel']==True]['CARB_Sr_ppm']/\\\n",
    "                          mtx_data[mtx_data['CARB_thresh_sel']==True]['CARB_Ca_ppm'],\n",
    "                          mtx_data[mtx_data['CARB_thresh_sel']==True]['cum_CARB_HEIGHT'],\n",
    "                          color=colors[i], label=sections[i], s=s)\n",
    "            ax[4].scatter(mts_data['CARB_Sr_ppm']/mts_data['CARB_Ca_ppm'], mts_data['cum_CARB_HEIGHT'],\n",
    "                          label='__nolabel__', marker='^', facecolors=mts_facecolor, edgecolors=mts_edgecolor, linewidths=0.5, zorder=99)\n",
    "        \n",
    "        else:\n",
    "            ax[0].scatter(mtx_data['CARB_d13C'], mtx_data['cum_CARB_HEIGHT'],\n",
    "                          color=colors[i], label=sections[i], s=s)\n",
    "            ax[0].scatter(mts_data['CARB_d13C'], mts_data['cum_CARB_HEIGHT'], label='__nolabel__',\n",
    "                          marker='^', facecolors=mts_facecolor, edgecolors=mts_edgecolor, linewidths=0.5, zorder=99)\n",
    "\n",
    "            ax[1].scatter(mtx_data['CARB_d18O'], mtx_data['cum_CARB_HEIGHT'], color=colors[i], s=s)\n",
    "            ax[1].scatter(mts_data['CARB_d18O'], mts_data['cum_CARB_HEIGHT'],\n",
    "                          marker='^', facecolors=mts_facecolor, edgecolors=mts_edgecolor, linewidths=0.5, zorder=99)\n",
    "\n",
    "            ax[2].scatter(mtx_data['CARB_87Sr/86Sr_primary'], mtx_data['cum_CARB_HEIGHT'], color=colors[i], s=s)\n",
    "            ax[2].scatter(mts_data['CARB_87Sr/86Sr_primary'], mts_data['cum_CARB_HEIGHT'],\n",
    "                          marker='^', facecolors=mts_facecolor, edgecolors=mts_edgecolor, linewidths=0.5, zorder=99)\n",
    "\n",
    "            ax[3].scatter(mtx_data['CARB_Sr_ppm'], mtx_data['cum_CARB_HEIGHT'], color=colors[i], s=s)\n",
    "            ax[3].scatter(mts_data['CARB_Sr_ppm'], mts_data['cum_CARB_HEIGHT'],\n",
    "                          marker='^', facecolors=mts_facecolor, edgecolors=mts_edgecolor, linewidths=0.5, zorder=99)\n",
    "\n",
    "            ax[4].scatter(mtx_data['CARB_Sr_ppm']/mtx_data['CARB_Ca_ppm'], mtx_data['cum_CARB_HEIGHT'],\n",
    "                          color=colors[i], s=s)\n",
    "            ax[4].scatter(mts_data['CARB_Sr_ppm']/mts_data['CARB_Ca_ppm'], mts_data['cum_CARB_HEIGHT'],\n",
    "                          marker='^', facecolors=mts_facecolor, edgecolors=mts_edgecolor, linewidths=0.5, zorder=99)\n",
    "    \n",
    "    ax[0].set_xlabel('$\\delta^{13}$C')\n",
    "    ax[0].set_xlim(-15,10)\n",
    "    ax[0].set_xticks([-15,-10,-5,0,5,10])\n",
    "    ax[0].set_axisbelow(True)\n",
    "    ax[0].xaxis.grid(ls='--')\n",
    "    ax[0].set_ylabel('stratigraphic height (m)')\n",
    "    ax[0].legend(bbox_to_anchor=(7.3,1))\n",
    "    \n",
    "    ax[1].set_xlabel('$\\delta^{18}$O')\n",
    "    ax[1].set_xlim(-20,5)\n",
    "    ax[1].set_xticks([-20,-15,-10,-5,0,5])\n",
    "    ax[1].set_axisbelow(True)\n",
    "    ax[1].xaxis.grid(ls='--')\n",
    "\n",
    "    ax[2].set_xlabel('$^{87}$Sr/$^{86}$Sr')\n",
    "    ax[2].set_xlim(0.706,0.707)\n",
    "    ax[2].set_xticks([0.706,0.70625,0.7065,0.70675,0.707])\n",
    "    ax[2].set_xticklabels([0.706,'',0.7065,'',0.707])\n",
    "    ax[2].set_axisbelow(True)\n",
    "    ax[2].xaxis.grid(ls='--')\n",
    "\n",
    "    ax[3].set_xlabel('[Sr] (ppm)')\n",
    "    ax[3].set_xlim(0,4000)\n",
    "    ax[3].set_xticks([0,1000,2000,3000,4000])\n",
    "    ax[3].set_axisbelow(True)\n",
    "    ax[3].xaxis.grid(ls='--')\n",
    "\n",
    "    ax[4].set_xlabel('[Sr]/[Ca]')\n",
    "    ax[4].set_xlim(0,0.01)\n",
    "    ax[4].set_xticks([0,0.0025,0.005,0.0075,0.01])\n",
    "    ax[4].set_xticklabels([0,'',0.005,'',0.01])\n",
    "    ax[4].set_axisbelow(True)\n",
    "    ax[4].xaxis.grid(ls='--')\n",
    "        \n",
    "    return fig, ax"
   ]
  },
  {
   "cell_type": "markdown",
   "metadata": {},
   "source": [
    "### Samre\n",
    "\n",
    "#### 2015\n",
    "\n",
    "Sections: T40, T42, T44, T45, T46, T50, T51, T52\n",
    "\n",
    "Not included in the final Samre composite data set:\n",
    "\n",
    "* T43 is aligned but not included for now - just a single sample\n",
    "* T48 is aligned but not included for now - noisy relative to T40\n",
    "\n",
    "Adjust the cumulative stratigraphic height:"
   ]
  },
  {
   "cell_type": "code",
   "execution_count": null,
   "metadata": {},
   "outputs": [],
   "source": [
    "# offset data by the given amount (no stretching/compressing)\n",
    "T42_shift = -82.6 #correlate Islay anomaly\n",
    "T43_shift = 669.6 #correlate to Mariam-Negash contact\n",
    "T44_shift = 84.8 #correlate Islay anomaly\n",
    "T45_shift = 359.3 #correlate Matheos-Mariam contact\n",
    "T46_shift = 7.4 #correlate Islay anomaly\n",
    "T48_shift = 236.9 #correlate Matheos-Mariam contact\n",
    "T49_shift = 544.8 #correlate Mariam-Negash contact\n",
    "T50_shift = 340.6 #correlate Matheos-Mariam contact\n",
    "T51_shift = 359.1 #correlate Matheos-Mariam contact\n",
    "T52_shift = 361.9 #correlate Matheos-Mariam contact\n",
    "\n",
    "# create the cum_CARB_HEIGHT column in the master dataframe\n",
    "carb_df.loc[carb_df['section']=='T40','cum_CARB_HEIGHT'] = carb_df[carb_df['section']=='T40']['CARB_HEIGHT']\n",
    "carb_df.loc[carb_df['section']=='T42','cum_CARB_HEIGHT'] = carb_df[carb_df['section']=='T42']['CARB_HEIGHT'] + T42_shift\n",
    "carb_df.loc[carb_df['section']=='T43','cum_CARB_HEIGHT'] = carb_df[carb_df['section']=='T43']['CARB_HEIGHT'] + T43_shift\n",
    "carb_df.loc[carb_df['section']=='T44','cum_CARB_HEIGHT'] = carb_df[carb_df['section']=='T44']['CARB_HEIGHT'] + T44_shift\n",
    "carb_df.loc[carb_df['section']=='T45','cum_CARB_HEIGHT'] = carb_df[carb_df['section']=='T45']['CARB_HEIGHT'] + T45_shift\n",
    "carb_df.loc[carb_df['section']=='T46','cum_CARB_HEIGHT'] = carb_df[carb_df['section']=='T46']['CARB_HEIGHT'] + T46_shift\n",
    "carb_df.loc[carb_df['section']=='T48','cum_CARB_HEIGHT'] = carb_df[carb_df['section']=='T48']['CARB_HEIGHT'] + T48_shift\n",
    "carb_df.loc[carb_df['section']=='T49','cum_CARB_HEIGHT'] = carb_df[carb_df['section']=='T49']['CARB_HEIGHT'] + T49_shift\n",
    "carb_df.loc[carb_df['section']=='T50','cum_CARB_HEIGHT'] = carb_df[carb_df['section']=='T50']['CARB_HEIGHT'] + T50_shift\n",
    "carb_df.loc[carb_df['section']=='T51','cum_CARB_HEIGHT'] = carb_df[carb_df['section']=='T51']['CARB_HEIGHT'] + T51_shift\n",
    "carb_df.loc[carb_df['section']=='T52','cum_CARB_HEIGHT'] = carb_df[carb_df['section']=='T52']['CARB_HEIGHT'] + T52_shift\n",
    "\n",
    "# squish the Mariam in just T45 (i.e. correlate the Matheos-Mariam and Mariam-Negash contacts)\n",
    "for i in range(len(carb_df.index)):\n",
    "    if (carb_df['section'][i] == 'T45') and (carb_df['CARB_HEIGHT'][i] >= 5.8):\n",
    "        carb_df.loc[i,'cum_CARB_HEIGHT'] = (((carb_df['cum_CARB_HEIGHT'][i]-(5.8+T45_shift))/696.1)*384.0)+T45_shift\n",
    "        \n",
    "# explicitly get rid of the Samre sections we are not including for now\n",
    "carb_df = carb_df[carb_df['section']!='T43'].copy()\n",
    "carb_df = carb_df[carb_df['section']!='T48'].copy()\n",
    "carb_df.reset_index(inplace=True, drop=True)"
   ]
  },
  {
   "cell_type": "markdown",
   "metadata": {},
   "source": [
    "Plot the composite:"
   ]
  },
  {
   "cell_type": "code",
   "execution_count": null,
   "metadata": {},
   "outputs": [],
   "source": [
    "Samre2015_sections = ['T40','T42','T44','T45','T46','T49','T50','T51','T52']\n",
    "Samre2015_colors = ['C0','C1','C2','C3','C4','C5','C6','C7','C8']\n",
    "\n",
    "fig, ax = plot_composite_chemostratigraphy(Samre2015_sections, Samre2015_colors)\n",
    "plt.show(fig)"
   ]
  },
  {
   "cell_type": "markdown",
   "metadata": {},
   "source": [
    "#### 2017\n",
    "\n",
    "Sections: T61, T63, T64\n",
    "\n",
    "Adjust the cumulative stratigraphic height:"
   ]
  },
  {
   "cell_type": "code",
   "execution_count": null,
   "metadata": {},
   "outputs": [],
   "source": [
    "# offset data by the given amount\n",
    "T61_shift = 526.9 #correlate Matheos-Mariam contact\n",
    "T64_shift = 785.5 #correlate Mariam-Negash contact\n",
    "\n",
    "# create the cum_CARB_HEIGHT column in the master dataframe\n",
    "carb_df.loc[carb_df['section']=='T63','cum_CARB_HEIGHT'] = carb_df[carb_df['section']=='T63']['CARB_HEIGHT']\n",
    "carb_df.loc[carb_df['section']=='T61','cum_CARB_HEIGHT'] = carb_df[carb_df['section']=='T61']['CARB_HEIGHT'] + T61_shift\n",
    "carb_df.loc[carb_df['section']=='T64','cum_CARB_HEIGHT'] = carb_df[carb_df['section']=='T64']['CARB_HEIGHT'] + T64_shift"
   ]
  },
  {
   "cell_type": "markdown",
   "metadata": {},
   "source": [
    "Plot the composite:"
   ]
  },
  {
   "cell_type": "code",
   "execution_count": null,
   "metadata": {},
   "outputs": [],
   "source": [
    "Samre2017_sections = ['T61','T63','T64']\n",
    "Samre2017_colors = ['C0','C1','C2']\n",
    "\n",
    "fig, ax = plot_composite_chemostratigraphy(Samre2017_sections, Samre2017_colors)\n",
    "plt.show(fig)"
   ]
  },
  {
   "cell_type": "markdown",
   "metadata": {},
   "source": [
    "#### Together"
   ]
  },
  {
   "cell_type": "code",
   "execution_count": null,
   "metadata": {},
   "outputs": [],
   "source": [
    "# shift the Samre2017 data together - align the Matheos-Mariam contact, and then shift the 2017 sections up a little\n",
    "for i in range(len(Samre2017_sections)):\n",
    "    carb_df.loc[carb_df['section']==Samre2017_sections[i],'cum_CARB_HEIGHT'] =\\\n",
    "    carb_df[carb_df['section']==Samre2017_sections[i]]['cum_CARB_HEIGHT'] - 92.5\n",
    "\n",
    "Samre_sections = Samre2015_sections + Samre2017_sections\n",
    "Samre_colors = ['MediumSlateBlue']*len(Samre2015_sections) + ['LightSalmon']*len(Samre2017_sections)\n",
    "\n",
    "fig, ax = plot_composite_chemostratigraphy(Samre_sections, Samre_colors)\n",
    "plt.show(fig)"
   ]
  },
  {
   "cell_type": "markdown",
   "metadata": {},
   "source": [
    "### Tigray (all data)\n",
    "\n",
    "Adjust the cumulative stratigraphic height:"
   ]
  },
  {
   "cell_type": "code",
   "execution_count": null,
   "metadata": {},
   "outputs": [],
   "source": [
    "T1_shift = -480.4\n",
    "T3_shift = 650\n",
    "T5_shift = 120\n",
    "T6_shift = -500\n",
    "T7_shift = 890\n",
    "T9_shift = 1380\n",
    "T10_shift = 2100\n",
    "T16_shift = -90\n",
    "T18_shift = -300\n",
    "T22_shift = 2080\n",
    "T23_shift = 3310\n",
    "T27_shift = 2966\n",
    "T28_shift = 3824\n",
    "T29_shift = 3995\n",
    "T30_shift = 4155.9\n",
    "T37_shift = 3716.2\n",
    "T38_shift = 3762.1\n",
    "T39_shift = 1246\n",
    "T41_shift = -465\n",
    "T53_shift = 3727.2\n",
    "T54_shift = 3216\n",
    "T55_shift = 3131\n",
    "Samre_shift = 3695\n",
    "Miller2009a_MaiKenetal_shift = -910\n",
    "Miller2009a_Negash_shift = 2600\n",
    "\n",
    "carb_df.loc[carb_df['section']=='T1','cum_CARB_HEIGHT'] = carb_df[carb_df['section']=='T1']['CARB_HEIGHT'] + T1_shift\n",
    "carb_df.loc[carb_df['section']=='T3','cum_CARB_HEIGHT'] = carb_df[carb_df['section']=='T3']['CARB_HEIGHT'] + T3_shift\n",
    "carb_df.loc[carb_df['section']=='T5','cum_CARB_HEIGHT'] = carb_df[carb_df['section']=='T5']['CARB_HEIGHT'] + T5_shift\n",
    "carb_df.loc[carb_df['section']=='T6','cum_CARB_HEIGHT'] = carb_df[carb_df['section']=='T6']['CARB_HEIGHT'] + T6_shift\n",
    "carb_df.loc[carb_df['section']=='T7','cum_CARB_HEIGHT'] = carb_df[carb_df['section']=='T7']['CARB_HEIGHT'] + T7_shift\n",
    "carb_df.loc[carb_df['section']=='T9','cum_CARB_HEIGHT'] = carb_df[carb_df['section']=='T9']['CARB_HEIGHT'] + T9_shift\n",
    "carb_df.loc[carb_df['section']=='T10','cum_CARB_HEIGHT'] = carb_df[carb_df['section']=='T10']['CARB_HEIGHT'] + T10_shift\n",
    "carb_df.loc[carb_df['section']=='T16','cum_CARB_HEIGHT'] = carb_df[carb_df['section']=='T16']['CARB_HEIGHT'] + T16_shift\n",
    "carb_df.loc[carb_df['section']=='T18','cum_CARB_HEIGHT'] = carb_df[carb_df['section']=='T18']['CARB_HEIGHT'] + T18_shift\n",
    "carb_df.loc[carb_df['section']=='T22','cum_CARB_HEIGHT'] = carb_df[carb_df['section']=='T22']['CARB_HEIGHT'] + T22_shift\n",
    "carb_df.loc[carb_df['section']=='T23','cum_CARB_HEIGHT'] = carb_df[carb_df['section']=='T23']['CARB_HEIGHT'] + T23_shift\n",
    "carb_df.loc[carb_df['section']=='T27','cum_CARB_HEIGHT'] = carb_df[carb_df['section']=='T27']['CARB_HEIGHT'] + T27_shift\n",
    "carb_df.loc[carb_df['section']=='T28','cum_CARB_HEIGHT'] = carb_df[carb_df['section']=='T28']['CARB_HEIGHT'] + T28_shift\n",
    "carb_df.loc[carb_df['section']=='T29','cum_CARB_HEIGHT'] = carb_df[carb_df['section']=='T29']['CARB_HEIGHT'] + T29_shift\n",
    "carb_df.loc[carb_df['section']=='T30','cum_CARB_HEIGHT'] = carb_df[carb_df['section']=='T30']['CARB_HEIGHT'] + T30_shift\n",
    "carb_df.loc[carb_df['section']=='T37','cum_CARB_HEIGHT'] = carb_df[carb_df['section']=='T37']['CARB_HEIGHT'] + T37_shift\n",
    "carb_df.loc[carb_df['section']=='T38','cum_CARB_HEIGHT'] = carb_df[carb_df['section']=='T38']['CARB_HEIGHT'] + T38_shift\n",
    "carb_df.loc[carb_df['section']=='T39','cum_CARB_HEIGHT'] = carb_df[carb_df['section']=='T39']['CARB_HEIGHT'] + T39_shift\n",
    "carb_df.loc[carb_df['section']=='T41','cum_CARB_HEIGHT'] = carb_df[carb_df['section']=='T41']['CARB_HEIGHT'] + T41_shift\n",
    "carb_df.loc[carb_df['section']=='T53','cum_CARB_HEIGHT'] = carb_df[carb_df['section']=='T53']['CARB_HEIGHT'] + T53_shift\n",
    "carb_df.loc[carb_df['section']=='T54','cum_CARB_HEIGHT'] = carb_df[carb_df['section']=='T54']['CARB_HEIGHT'] + T54_shift\n",
    "carb_df.loc[carb_df['section']=='T55','cum_CARB_HEIGHT'] = carb_df[carb_df['section']=='T55']['CARB_HEIGHT'] + T55_shift\n",
    "\n",
    "carb_df.loc[carb_df['section']=='Miller2009a Mai Kenetal','cum_CARB_HEIGHT'] =\\\n",
    "carb_df[carb_df['section']=='Miller2009a Mai Kenetal']['CARB_HEIGHT'] + Miller2009a_MaiKenetal_shift\n",
    "\n",
    "carb_df.loc[carb_df['section']=='Miller2009a Negash','cum_CARB_HEIGHT'] =\\\n",
    "carb_df[carb_df['section']=='Miller2009a Negash']['CARB_HEIGHT'] + Miller2009a_Negash_shift\n",
    "\n",
    "# shift the Samre data together\n",
    "for i in range(len(Samre_sections)):\n",
    "    carb_df.loc[carb_df['section']==Samre_sections[i],'cum_CARB_HEIGHT'] =\\\n",
    "    carb_df[carb_df['section']==Samre_sections[i]]['cum_CARB_HEIGHT'] + Samre_shift"
   ]
  },
  {
   "cell_type": "markdown",
   "metadata": {
    "collapsed": true
   },
   "source": [
    "#### Mai Kenetal\n",
    "\n",
    "T1, T3, T5, T7"
   ]
  },
  {
   "cell_type": "code",
   "execution_count": null,
   "metadata": {},
   "outputs": [],
   "source": [
    "sections = []\n",
    "colors = []\n",
    "colors_ind = []\n",
    "\n",
    "MaiKenetal_sections = ['T1','T3','T5','T7']\n",
    "MaiKenetal_colors_ind = ['C0','C1','C2','C3']\n",
    "MaiKenetal_colors = ['DarkRed'] * len(MaiKenetal_sections)\n",
    "\n",
    "colors_ind = colors[:]\n",
    "colors_ind.extend(MaiKenetal_colors_ind)\n",
    "sections.extend(MaiKenetal_sections)\n",
    "colors.extend(MaiKenetal_colors)\n",
    "\n",
    "fig, ax = plot_composite_chemostratigraphy(sections, colors_ind)\n",
    "plt.show(fig)"
   ]
  },
  {
   "cell_type": "markdown",
   "metadata": {},
   "source": [
    "#### Tsedia\n",
    "\n",
    "T6, T18, T41"
   ]
  },
  {
   "cell_type": "code",
   "execution_count": null,
   "metadata": {},
   "outputs": [],
   "source": [
    "Tsedia_sections = ['T6','T18','T41']\n",
    "Tsedia_colors_ind = ['C0','C1','C2']\n",
    "Tsedia_colors = ['DarkBlue'] * len(Tsedia_sections)\n",
    "\n",
    "colors_ind = colors[:]\n",
    "colors_ind.extend(Tsedia_colors_ind)\n",
    "sections.extend(Tsedia_sections)\n",
    "colors.extend(Tsedia_colors)\n",
    "\n",
    "fig, ax = plot_composite_chemostratigraphy(sections, colors_ind)\n",
    "plt.show(fig)"
   ]
  },
  {
   "cell_type": "markdown",
   "metadata": {},
   "source": [
    "#### Chemit\n",
    "\n",
    "T16"
   ]
  },
  {
   "cell_type": "code",
   "execution_count": null,
   "metadata": {},
   "outputs": [],
   "source": [
    "Chemit_sections = ['T16']\n",
    "Chemit_colors_ind = ['C0']\n",
    "Chemit_colors = ['GoldenRod'] * len(Chemit_sections)\n",
    "\n",
    "colors_ind = colors[:]\n",
    "colors_ind.extend(Chemit_colors_ind)\n",
    "sections.extend(Chemit_sections)\n",
    "colors.extend(Chemit_colors)\n",
    "\n",
    "fig, ax = plot_composite_chemostratigraphy(sections, colors_ind)\n",
    "plt.show(fig)"
   ]
  },
  {
   "cell_type": "markdown",
   "metadata": {},
   "source": [
    "#### Tekeze Dam\n",
    "\n",
    "T9, T10"
   ]
  },
  {
   "cell_type": "code",
   "execution_count": null,
   "metadata": {},
   "outputs": [],
   "source": [
    "Tekeze_sections = ['T9','T10']\n",
    "Tekeze_colors_ind = ['C0','C1']\n",
    "Tekeze_colors = ['LightGrey'] * len(Tekeze_sections)\n",
    "\n",
    "colors_ind = colors[:]\n",
    "colors_ind.extend(Tekeze_colors_ind)\n",
    "sections.extend(Tekeze_sections)\n",
    "colors.extend(Tekeze_colors)\n",
    "\n",
    "fig, ax = plot_composite_chemostratigraphy(sections, colors_ind)\n",
    "plt.show(fig)"
   ]
  },
  {
   "cell_type": "markdown",
   "metadata": {},
   "source": [
    "#### Negash\n",
    "\n",
    "T22, T23, T27, T28, T30, T37, T38, T39, T53, T54, T55\n",
    "\n",
    "T29 ignored for now: erratic data."
   ]
  },
  {
   "cell_type": "code",
   "execution_count": null,
   "metadata": {},
   "outputs": [],
   "source": [
    "Negash_sections = ['T22','T23','T27','T28','T29','T30','T37','T38','T39','T53','T54','T55']\n",
    "Negash_colors_ind = ['C0','C1','C2','C3','C4','C5','C6','C7','C8','C9','turquoise','lightgreen','dodgerblue']\n",
    "Negash_colors = ['YellowGreen'] * len(Negash_sections)\n",
    "\n",
    "colors_ind = colors[:]\n",
    "colors_ind.extend(Negash_colors_ind)\n",
    "sections.extend(Negash_sections)\n",
    "colors.extend(Negash_colors)\n",
    "\n",
    "fig, ax = plot_composite_chemostratigraphy(sections, colors_ind)\n",
    "plt.show(fig)"
   ]
  },
  {
   "cell_type": "markdown",
   "metadata": {
    "collapsed": true
   },
   "source": [
    "#### Samre\n",
    "\n",
    "See notes above."
   ]
  },
  {
   "cell_type": "code",
   "execution_count": null,
   "metadata": {},
   "outputs": [],
   "source": [
    "sections.extend(Samre_sections)\n",
    "colors.extend(Samre_colors)\n",
    "\n",
    "fig, ax = plot_composite_chemostratigraphy(sections, colors)\n",
    "plt.show(fig)"
   ]
  },
  {
   "cell_type": "markdown",
   "metadata": {
    "collapsed": true
   },
   "source": [
    "#### Miller et al. (2009)"
   ]
  },
  {
   "cell_type": "code",
   "execution_count": null,
   "metadata": {},
   "outputs": [],
   "source": [
    "Miller_sections = ['Miller2009a Mai Kenetal','Miller2009a Negash']\n",
    "Miller_colors = ['LightSeaGreen'] * len(Negash_sections)\n",
    "\n",
    "sections.extend(Miller_sections)\n",
    "colors.extend(Miller_colors)\n",
    "\n",
    "fig, ax = plot_composite_chemostratigraphy(sections, colors)\n",
    "plt.show(fig)"
   ]
  },
  {
   "cell_type": "markdown",
   "metadata": {},
   "source": [
    "### Siliciclastic Filtering"
   ]
  },
  {
   "cell_type": "code",
   "execution_count": null,
   "metadata": {},
   "outputs": [],
   "source": [
    "filtering_df = carb_df.copy()\n",
    "\n",
    "drop_ind = np.array([])\n",
    "\n",
    "# dropping based on sections that are not appropriate for this analysis, or no d13C data\n",
    "# T28 = inf si_d, but has element data\n",
    "# T65 = in the Negash\n",
    "for i in range(len(filtering_df.index)):\n",
    "    if filtering_df['section'][i] == 'Miller2009a Mai Kenetal' or\\\n",
    "       filtering_df['section'][i] == 'Miller2009a Negash' or\\\n",
    "       filtering_df['section'][i] == 'T11' or\\\n",
    "       filtering_df['section'][i] == 'T14' or\\\n",
    "       filtering_df['section'][i] == 'T15' or\\\n",
    "       filtering_df['section'][i] == 'T17' or\\\n",
    "       filtering_df['section'][i] == 'T28' or\\\n",
    "       filtering_df['section'][i] == 'T35' or\\\n",
    "       filtering_df['section'][i] == 'T4' or\\\n",
    "       filtering_df['section'][i] == 'T56' or\\\n",
    "       filtering_df['section'][i] == 'T60' or\\\n",
    "       filtering_df['section'][i] == 'T62' or\\\n",
    "       filtering_df['section'][i] == 'T65' or\\\n",
    "       filtering_df['section'][i] == 'T66' or\\\n",
    "       filtering_df['section'][i] == 'Y04' or\\\n",
    "       filtering_df['section'][i] == 'Y05' or\\\n",
    "       filtering_df['section'][i] == 'Y06' or\\\n",
    "       filtering_df['section'][i] == 'Y07' or\\\n",
    "       filtering_df['section'][i] == 'Y08' or\\\n",
    "       filtering_df['section'][i] == 'Y09' or\\\n",
    "       filtering_df['section'][i] == 'Y10' or\\\n",
    "       pd.isnull(filtering_df['CARB_d13C'][i]):\n",
    "        drop_ind = np.append(drop_ind, i)\n",
    "        \n",
    "filtering_df.drop(drop_ind, inplace=True)\n",
    "\n",
    "# get rid of some columns that we won't be using\n",
    "filtering_df = filtering_df[['section', 'CARB_HEIGHT', 'CARB_d13C', 'CARB_d18O',\n",
    "                   'cum_CARB_HEIGHT', 'CARB_mts_mtx', 'CARB_si_d', 'CARB_Ca_ppm',\n",
    "                   'CARB_Mg_ppm', 'CARB_Al_ppm', 'CARB_Fe_ppm', 'CARB_K_ppm', 'CARB_Mn_ppm', 'CARB_Na_ppm', 'CARB_Sr_ppm']]\n",
    "filtering_df.reset_index(drop=True, inplace=True)\n",
    "\n",
    "# now go through and change any BDL element data into 0 instead of NaN's - also get rid of outlier d18O\n",
    "for i in range(len(filtering_df.index)):\n",
    "    # Ca is never BDL\n",
    "    if np.isfinite(filtering_df['CARB_Ca_ppm'][i]):\n",
    "        if pd.isnull(filtering_df['CARB_Mg_ppm'][i]):\n",
    "            filtering_df.loc[i,'CARB_Mg_ppm'] = 0.0\n",
    "        if pd.isnull(filtering_df['CARB_Al_ppm'][i]):\n",
    "            filtering_df.loc[i,'CARB_Al_ppm'] = 0.0\n",
    "        if pd.isnull(filtering_df['CARB_Fe_ppm'][i]):\n",
    "            filtering_df.loc[i,'CARB_Fe_ppm'] = 0.0\n",
    "        if pd.isnull(filtering_df['CARB_K_ppm'][i]):\n",
    "            filtering_df.loc[i,'CARB_K_ppm'] = 0.0\n",
    "        if pd.isnull(filtering_df['CARB_Mn_ppm'][i]):\n",
    "            filtering_df.loc[i,'CARB_Mn_ppm'] = 0.0\n",
    "        if pd.isnull(filtering_df['CARB_Na_ppm'][i]):\n",
    "            filtering_df.loc[i,'CARB_Na_ppm'] = 0.0\n",
    "        if pd.isnull(filtering_df['CARB_Sr_ppm'][i]):\n",
    "            filtering_df.loc[i,'CARB_Sr_ppm'] = 0.0\n",
    "    if filtering_df['CARB_d18O'][i] < -20:\n",
    "        filtering_df.loc[i,'CARB_d18O'] = np.nan\n",
    "            \n",
    "# add some columns of interest\n",
    "filtering_df['CARB_Mg/Ca'] = filtering_df['CARB_Mg_ppm']/filtering_df['CARB_Ca_ppm']\n",
    "filtering_df['CARB_Mn/Sr'] = filtering_df['CARB_Mn_ppm']/filtering_df['CARB_Sr_ppm']\n",
    "filtering_df['CARB_Sr/Ca'] = filtering_df['CARB_Sr_ppm']/filtering_df['CARB_Ca_ppm']\n",
    "\n",
    "# take the log of certain columns too (the +1 is to get rid of infs/NaNs)\n",
    "filtering_df['log CARB_si_d'] = np.log10(filtering_df['CARB_si_d']+1)\n",
    "filtering_df['log CARB_Fe_ppm'] = np.log10(filtering_df['CARB_Fe_ppm']+1)\n",
    "filtering_df['log CARB_Al_ppm'] = np.log10(filtering_df['CARB_Al_ppm']+1)\n",
    "filtering_df['log CARB_Mg/Ca'] = np.log10(filtering_df['CARB_Mg/Ca']+1)\n",
    "filtering_df['log CARB_Mn/Sr'] = np.log10(filtering_df['CARB_Mn/Sr']+1)\n",
    "filtering_df['log CARB_Sr/Ca'] = np.log10(filtering_df['CARB_Sr/Ca']+1)\n",
    "\n",
    "# samples immediately on either side of the Islay\n",
    "Islay_filtering_df = filtering_df[(filtering_df['cum_CARB_HEIGHT']>3775)&(filtering_df['cum_CARB_HEIGHT']<3825)].copy()\n",
    "Islay_filtering_df.reset_index(drop=True, inplace=True)\n",
    "\n",
    "# only use points above the Islay for the rest of the analysis\n",
    "filtering_df = filtering_df[filtering_df['cum_CARB_HEIGHT']>=3825].copy()\n",
    "filtering_df.reset_index(drop=True, inplace=True)"
   ]
  },
  {
   "cell_type": "code",
   "execution_count": null,
   "metadata": {},
   "outputs": [],
   "source": [
    "fig, ax = plt.subplots(nrows=2, ncols=3, sharey=True, figsize=(9,6))\n",
    "\n",
    "ax[0][0].scatter(filtering_df[filtering_df['CARB_mts_mtx']=='mtx']['CARB_d13C'],\n",
    "                 filtering_df[filtering_df['CARB_mts_mtx']=='mtx']['CARB_si_d'], s=10, c='C7', label='matrix')\n",
    "ax[0][0].scatter(filtering_df[filtering_df['CARB_mts_mtx']=='mts']['CARB_d13C'],\n",
    "                 filtering_df[filtering_df['CARB_mts_mtx']=='mts']['CARB_si_d'], s=10, c='C1', label='molar tooth')\n",
    "ax[0][0].set_ylabel('d [m]')\n",
    "ax[0][0].set_xlabel('$\\delta^{13}$C')\n",
    "ax[0][0].xaxis.tick_top()\n",
    "ax[0][0].xaxis.set_label_position('top')\n",
    "ax[0][0].legend()\n",
    "\n",
    "ax[0][1].scatter(filtering_df[filtering_df['CARB_mts_mtx']=='mtx']['CARB_d18O'],\n",
    "                 filtering_df[filtering_df['CARB_mts_mtx']=='mtx']['CARB_si_d'], s=10, c='C7')\n",
    "ax[0][1].scatter(filtering_df[filtering_df['CARB_mts_mtx']=='mts']['CARB_d18O'],\n",
    "                 filtering_df[filtering_df['CARB_mts_mtx']=='mts']['CARB_si_d'], s=10, c='C1')\n",
    "ax[0][1].set_xlabel('$\\delta^{18}$O')\n",
    "ax[0][1].xaxis.tick_top()\n",
    "ax[0][1].xaxis.set_label_position('top')\n",
    "\n",
    "ax[0][2].scatter(filtering_df[filtering_df['CARB_mts_mtx']=='mtx']['CARB_Fe_ppm'],\n",
    "                 filtering_df[filtering_df['CARB_mts_mtx']=='mtx']['CARB_si_d'], s=10, c='C7')\n",
    "ax[0][2].scatter(filtering_df[filtering_df['CARB_mts_mtx']=='mts']['CARB_Fe_ppm'],\n",
    "                 filtering_df[filtering_df['CARB_mts_mtx']=='mts']['CARB_si_d'], s=10, c='C1')\n",
    "ax[0][2].set_xlabel('Fe [ppm]')\n",
    "ax[0][2].xaxis.tick_top()\n",
    "ax[0][2].xaxis.set_label_position('top')\n",
    "\n",
    "ax[1][0].scatter(filtering_df[filtering_df['CARB_mts_mtx']=='mtx']['CARB_Al_ppm'],\n",
    "                 filtering_df[filtering_df['CARB_mts_mtx']=='mtx']['CARB_si_d'], s=10, c='C7')\n",
    "ax[1][0].scatter(filtering_df[filtering_df['CARB_mts_mtx']=='mts']['CARB_Al_ppm'],\n",
    "                 filtering_df[filtering_df['CARB_mts_mtx']=='mts']['CARB_si_d'], s=10, c='C1')\n",
    "ax[1][0].set_ylabel('d [m]')\n",
    "ax[1][0].set_xlabel('Al [ppm]')\n",
    "\n",
    "ax[1][1].scatter(filtering_df[filtering_df['CARB_mts_mtx']=='mtx']['CARB_Mg/Ca'],\n",
    "                 filtering_df[filtering_df['CARB_mts_mtx']=='mtx']['CARB_si_d'], s=10, c='C7')\n",
    "ax[1][1].scatter(filtering_df[filtering_df['CARB_mts_mtx']=='mts']['CARB_Mg/Ca'],\n",
    "                 filtering_df[filtering_df['CARB_mts_mtx']=='mts']['CARB_si_d'], s=10, c='C1')\n",
    "ax[1][1].set_xlabel('Mg/Ca')\n",
    "\n",
    "ax[1][2].scatter(filtering_df[filtering_df['CARB_mts_mtx']=='mtx']['CARB_Mn/Sr'],\n",
    "                 filtering_df[filtering_df['CARB_mts_mtx']=='mtx']['CARB_si_d'], s=10, c='C7')\n",
    "ax[1][2].scatter(filtering_df[filtering_df['CARB_mts_mtx']=='mts']['CARB_Mn/Sr'],\n",
    "                 filtering_df[filtering_df['CARB_mts_mtx']=='mts']['CARB_si_d'], s=10, c='C1')\n",
    "ax[1][2].set_xlabel('Mn/Sr')\n",
    "\n",
    "fig.tight_layout()\n",
    "\n",
    "plt.show(fig)"
   ]
  },
  {
   "cell_type": "markdown",
   "metadata": {},
   "source": [
    "#### Standard Deviation"
   ]
  },
  {
   "cell_type": "markdown",
   "metadata": {},
   "source": [
    "Above Islay:"
   ]
  },
  {
   "cell_type": "code",
   "execution_count": null,
   "metadata": {},
   "outputs": [],
   "source": [
    "si_d = np.arange(0,750.1,0.1)\n",
    "\n",
    "d13C_std = np.array([])\n",
    "d18O_std = np.array([])\n",
    "Fe_std = np.array([])\n",
    "Al_std = np.array([])\n",
    "MgCa_std = np.array([])\n",
    "MnSr_std = np.array([])\n",
    "\n",
    "for i in range(len(si_d)):\n",
    "    curr_df = filtering_df[(filtering_df['CARB_si_d']>=si_d[i])]\n",
    "    d13C_std = np.append(d13C_std, np.nanstd(curr_df['CARB_d13C']))\n",
    "    d18O_std = np.append(d18O_std, np.nanstd(curr_df['CARB_d18O']))\n",
    "    Fe_std = np.append(Fe_std, np.nanstd(curr_df['CARB_Fe_ppm']))\n",
    "    Al_std = np.append(Al_std, np.nanstd(curr_df['CARB_Al_ppm']))\n",
    "    MgCa_std = np.append(MgCa_std, np.nanstd(curr_df['CARB_Mg/Ca']))\n",
    "    MnSr_std = np.append(MnSr_std, np.nanstd(curr_df['CARB_Mn/Sr']))"
   ]
  },
  {
   "cell_type": "code",
   "execution_count": null,
   "metadata": {},
   "outputs": [],
   "source": [
    "# set up the figure and gridspec\n",
    "fig = plt.figure(figsize=(11,12))\n",
    "\n",
    "gs = gridspec.GridSpec(100,3)\n",
    "ax0 = plt.subplot(gs[0:25,0])\n",
    "ax1 = plt.subplot(gs[0:25,1])\n",
    "ax2 = plt.subplot(gs[0:25,2])\n",
    "ax3 = plt.subplot(gs[27:52,0])\n",
    "ax4 = plt.subplot(gs[27:52,1])\n",
    "ax5 = plt.subplot(gs[27:52,2])\n",
    "ax6 = plt.subplot(gs[60:78,:])\n",
    "ax7 = plt.subplot(gs[82:100,:])\n",
    "\n",
    "ax = [ax0, ax1, ax2, ax3, ax4, ax5, ax6, ax7]\n",
    "\n",
    "ax[0].scatter(filtering_df['CARB_d13C'], filtering_df['CARB_si_d'], s=10, c='C7')\n",
    "ax[0].set_xlabel('$\\delta^{13}$C', labelpad=10)\n",
    "ax[0].set_ylabel('d [m]')\n",
    "ax[0].xaxis.tick_top()\n",
    "ax[0].xaxis.set_label_position('top')\n",
    "\n",
    "ax[1].scatter(filtering_df['CARB_d18O'], filtering_df['CARB_si_d'], s=10, c='C7')\n",
    "ax[1].set_xlabel('$\\delta^{18}$O', labelpad=10)\n",
    "ax[1].xaxis.tick_top()\n",
    "ax[1].xaxis.set_label_position('top')\n",
    "ax[1].set_yticklabels([])\n",
    "\n",
    "ax[2].scatter(filtering_df['CARB_Fe_ppm'],filtering_df['CARB_si_d'], s=10, c='C7')\n",
    "ax[2].set_xlabel('Fe [ppm]', labelpad=10)\n",
    "ax[2].xaxis.tick_top()\n",
    "ax[2].xaxis.set_label_position('top')\n",
    "ax[2].set_yticklabels([])\n",
    "\n",
    "ax[3].scatter(filtering_df['CARB_Al_ppm'],filtering_df['CARB_si_d'], s=10, c='C7')\n",
    "ax[3].set_ylabel('d [m]')\n",
    "ax[3].set_xlabel('Al [ppm]')\n",
    "\n",
    "ax[4].scatter(filtering_df['CARB_Mg/Ca'],filtering_df['CARB_si_d'], s=10, c='C7')\n",
    "ax[4].set_xlabel('Mg/Ca')\n",
    "ax[4].set_yticklabels([])\n",
    "\n",
    "ax[5].scatter(filtering_df['CARB_Mn/Sr'],filtering_df['CARB_si_d'], s=10, c='C7')\n",
    "ax[5].set_xlabel('Mn/Sr')\n",
    "ax[5].set_yticklabels([])\n",
    "\n",
    "ax[6].plot(si_d, d13C_std/np.nanmax(d13C_std), label='$\\delta^{13}$C', c='C0')\n",
    "ax[6].plot(si_d, d18O_std/np.nanmax(d18O_std), label='$\\delta^{18}$O', c='C1')\n",
    "ax[6].plot(si_d, Fe_std/np.nanmax(Fe_std), label='Fe', c='C2')\n",
    "ax[6].plot(si_d, Al_std/np.nanmax(Al_std), label='Al', c='C3')\n",
    "ax[6].plot(si_d, MgCa_std/np.nanmax(MgCa_std), label='Mg/Ca', c='C4')\n",
    "ax[6].plot(si_d, MnSr_std/np.nanmax(MnSr_std), label='Mn/Sr', c='C5')\n",
    "\n",
    "ax[6].set_ylabel('normalized $\\sigma$')\n",
    "ax[6].set_xticklabels([])\n",
    "\n",
    "ax[7].plot(si_d-0.05, np.gradient(d13C_std/np.nanmax(d13C_std), 0.1), label='$\\delta^{13}$C', c='C0')\n",
    "ax[7].plot(si_d-0.05, np.gradient(d18O_std/np.nanmax(d18O_std), 0.1), label='$\\delta^{18}$O', c='C1')\n",
    "ax[7].plot(si_d-0.05, np.gradient(Fe_std/np.nanmax(Fe_std), 0.1), label='Fe', c='C2')\n",
    "ax[7].plot(si_d-0.05, np.gradient(Al_std/np.nanmax(Al_std), 0.1), label='Al', c='C3')\n",
    "ax[7].plot(si_d-0.05, np.gradient(MgCa_std/np.nanmax(MgCa_std), 0.1), label='Mg/Ca', c='C4')\n",
    "ax[7].plot(si_d-0.05, np.gradient(MnSr_std/np.nanmax(MnSr_std), 0.1), label='Mn/Sr', c='C5')\n",
    "\n",
    "ax[7].set_ylabel('gradient of normalized $\\sigma$')\n",
    "ax[7].set_xlabel('threshold d [m]')\n",
    "ax[7].legend(loc=1)\n",
    "\n",
    "for i in [6,7]:\n",
    "    ax[i].set_xticks(np.arange(0,1.6,0.1))\n",
    "    ax[i].yaxis.grid(ls='--')\n",
    "    ax[i].axvline(0.2, c='k', ls='--')\n",
    "    ax[i].axvline(0.5, c='k', ls='--')\n",
    "    ax[i].set_xlim(0,1.5)\n",
    "\n",
    "plt.show(fig)"
   ]
  },
  {
   "cell_type": "markdown",
   "metadata": {},
   "source": [
    "Islay:"
   ]
  },
  {
   "cell_type": "code",
   "execution_count": null,
   "metadata": {},
   "outputs": [],
   "source": [
    "d13C_std_Islay = np.array([])\n",
    "d18O_std_Islay = np.array([])\n",
    "Fe_std_Islay = np.array([])\n",
    "Al_std_Islay = np.array([])\n",
    "MgCa_std_Islay = np.array([])\n",
    "MnSr_std_Islay = np.array([])\n",
    "\n",
    "for i in range(len(si_d)):\n",
    "    curr_df = Islay_filtering_df[(Islay_filtering_df['CARB_si_d']>=si_d[i])]\n",
    "    d13C_std_Islay = np.append(d13C_std_Islay, np.nanstd(curr_df['CARB_d13C']))\n",
    "    d18O_std_Islay = np.append(d18O_std_Islay, np.nanstd(curr_df['CARB_d18O']))\n",
    "    Fe_std_Islay = np.append(Fe_std_Islay, np.nanstd(curr_df['CARB_Fe_ppm']))\n",
    "    Al_std_Islay = np.append(Al_std_Islay, np.nanstd(curr_df['CARB_Al_ppm']))\n",
    "    MgCa_std_Islay = np.append(MgCa_std_Islay, np.nanstd(curr_df['CARB_Mg/Ca']))\n",
    "    MnSr_std_Islay = np.append(MnSr_std_Islay, np.nanstd(curr_df['CARB_Mn/Sr']))"
   ]
  },
  {
   "cell_type": "code",
   "execution_count": null,
   "metadata": {},
   "outputs": [],
   "source": [
    "# set up the figure and gridspec\n",
    "fig = plt.figure(figsize=(11,12))\n",
    "\n",
    "gs = gridspec.GridSpec(100,3)\n",
    "ax0 = plt.subplot(gs[0:25,0])\n",
    "ax1 = plt.subplot(gs[0:25,1])\n",
    "ax2 = plt.subplot(gs[0:25,2])\n",
    "ax3 = plt.subplot(gs[27:52,0])\n",
    "ax4 = plt.subplot(gs[27:52,1])\n",
    "ax5 = plt.subplot(gs[27:52,2])\n",
    "ax6 = plt.subplot(gs[60:78,:])\n",
    "ax7 = plt.subplot(gs[82:100,:])\n",
    "\n",
    "ax = [ax0, ax1, ax2, ax3, ax4, ax5, ax6, ax7]\n",
    "\n",
    "ax[0].scatter(Islay_filtering_df['CARB_d13C'], Islay_filtering_df['CARB_si_d'], s=10, c='C7')\n",
    "ax[0].set_xlabel('$\\delta^{13}$C', labelpad=10)\n",
    "ax[0].set_ylabel('d [m]')\n",
    "ax[0].xaxis.tick_top()\n",
    "ax[0].xaxis.set_label_position('top')\n",
    "\n",
    "ax[1].scatter(Islay_filtering_df['CARB_d18O'], Islay_filtering_df['CARB_si_d'], s=10, c='C7')\n",
    "ax[1].set_xlabel('$\\delta^{18}$O', labelpad=10)\n",
    "ax[1].xaxis.tick_top()\n",
    "ax[1].xaxis.set_label_position('top')\n",
    "ax[1].set_yticklabels([])\n",
    "\n",
    "ax[2].scatter(Islay_filtering_df['CARB_Fe_ppm'],Islay_filtering_df['CARB_si_d'], s=10, c='C7')\n",
    "ax[2].set_xlabel('Fe [ppm]', labelpad=10)\n",
    "ax[2].xaxis.tick_top()\n",
    "ax[2].xaxis.set_label_position('top')\n",
    "ax[2].set_yticklabels([])\n",
    "\n",
    "ax[3].scatter(Islay_filtering_df['CARB_Al_ppm'],Islay_filtering_df['CARB_si_d'], s=10, c='C7')\n",
    "ax[3].set_ylabel('d [m]')\n",
    "ax[3].set_xlabel('Al [ppm]')\n",
    "\n",
    "ax[4].scatter(Islay_filtering_df['CARB_Mg/Ca'],Islay_filtering_df['CARB_si_d'], s=10, c='C7')\n",
    "ax[4].set_xlabel('Mg/Ca')\n",
    "ax[4].set_yticklabels([])\n",
    "\n",
    "ax[5].scatter(Islay_filtering_df['CARB_Mn/Sr'],Islay_filtering_df['CARB_si_d'], s=10, c='C7')\n",
    "ax[5].set_xlabel('Mn/Sr')\n",
    "ax[5].set_yticklabels([])\n",
    "\n",
    "ax[6].plot(si_d, d13C_std_Islay/np.nanmax(d13C_std_Islay), label='$\\delta^{13}$C', c='C0')\n",
    "ax[6].plot(si_d, d18O_std_Islay/np.nanmax(d18O_std_Islay), label='$\\delta^{18}$O', c='C1')\n",
    "ax[6].plot(si_d, Fe_std_Islay/np.nanmax(Fe_std_Islay), label='Fe', c='C2')\n",
    "ax[6].plot(si_d, Al_std_Islay/np.nanmax(Al_std_Islay), label='Al', c='C3')\n",
    "ax[6].plot(si_d, MgCa_std_Islay/np.nanmax(MgCa_std_Islay), label='Mg/Ca', c='C4')\n",
    "ax[6].plot(si_d, MnSr_std_Islay/np.nanmax(MnSr_std_Islay), label='Mn/Sr', c='C5')\n",
    "\n",
    "ax[6].set_ylabel('normalized $\\sigma$')\n",
    "ax[6].set_xticklabels([])\n",
    "\n",
    "ax[7].plot(si_d-0.05, np.gradient(d13C_std_Islay/np.nanmax(d13C_std_Islay), 0.1), label='$\\delta^{13}$C', c='C0')\n",
    "ax[7].plot(si_d-0.05, np.gradient(d18O_std_Islay/np.nanmax(d18O_std_Islay), 0.1), label='$\\delta^{18}$O', c='C1')\n",
    "ax[7].plot(si_d-0.05, np.gradient(Fe_std_Islay/np.nanmax(Fe_std_Islay), 0.1), label='Fe', c='C2')\n",
    "ax[7].plot(si_d-0.05, np.gradient(Al_std_Islay/np.nanmax(Al_std_Islay), 0.1), label='Al', c='C3')\n",
    "ax[7].plot(si_d-0.05, np.gradient(MgCa_std_Islay/np.nanmax(MgCa_std_Islay), 0.1), label='Mg/Ca', c='C4')\n",
    "ax[7].plot(si_d-0.05, np.gradient(MnSr_std_Islay/np.nanmax(MnSr_std_Islay), 0.1), label='Mn/Sr', c='C5')\n",
    "\n",
    "ax[7].set_ylabel('gradient of normalized $\\sigma$')\n",
    "ax[7].set_xlabel('threshold d [m]')\n",
    "ax[7].legend(loc=1)\n",
    "\n",
    "for i in [6,7]:\n",
    "    ax[i].set_xticks(np.arange(0,1.6,0.1))\n",
    "    ax[i].yaxis.grid(ls='--')\n",
    "    ax[i].axvline(0.2, c='k', ls='--')\n",
    "    ax[i].axvline(0.5, c='k', ls='--')\n",
    "    ax[i].set_xlim(0,1.5)\n",
    "\n",
    "plt.show(fig)"
   ]
  },
  {
   "cell_type": "code",
   "execution_count": null,
   "metadata": {},
   "outputs": [],
   "source": [
    "# set up the figure and gridspec\n",
    "fig = plt.figure(figsize=(10,10))\n",
    "\n",
    "gs = gridspec.GridSpec(102,100)\n",
    "\n",
    "width = 30\n",
    "width_spacing = 5\n",
    "height_1 = 30\n",
    "height_2 = 15\n",
    "height_spacing_1 = 2\n",
    "height_spacing_2 = 8\n",
    "\n",
    "ax0 = plt.subplot(gs[:height_1,\n",
    "                     :width])\n",
    "ax1 = plt.subplot(gs[:height_1,\n",
    "                     width+width_spacing:width*2+width_spacing])\n",
    "ax2 = plt.subplot(gs[:height_1,\n",
    "                     width*2+width_spacing*2:])\n",
    "\n",
    "ax3 = plt.subplot(gs[height_1+height_spacing_1:height_1+height_2+height_spacing_1,\n",
    "                     :width])\n",
    "ax4 = plt.subplot(gs[height_1+height_spacing_1:height_1+height_2+height_spacing_1,\n",
    "                     width+width_spacing:width*2+width_spacing])\n",
    "ax5 = plt.subplot(gs[height_1+height_spacing_1:height_1+height_2+height_spacing_1,\n",
    "                     width*2+width_spacing*2:])\n",
    "\n",
    "ax6 = plt.subplot(gs[height_1+height_2+height_spacing_1+height_spacing_2:height_1*2+height_2+height_spacing_1+height_spacing_2,\n",
    "                     :width])\n",
    "ax7 = plt.subplot(gs[height_1+height_2+height_spacing_1+height_spacing_2:height_1*2+height_2+height_spacing_1+height_spacing_2,\n",
    "                     width+width_spacing:width*2+width_spacing])\n",
    "ax8 = plt.subplot(gs[height_1+height_2+height_spacing_1+height_spacing_2:height_1*2+height_2+height_spacing_1+height_spacing_2,\n",
    "                     width*2+width_spacing*2:])\n",
    "\n",
    "ax9 = plt.subplot(gs[height_1*2+height_2+height_spacing_1*2+height_spacing_2:,\n",
    "                     :width])\n",
    "ax10 = plt.subplot(gs[height_1*2+height_2+height_spacing_1*2+height_spacing_2:,\n",
    "                      width+width_spacing:width*2+width_spacing])\n",
    "ax11 = plt.subplot(gs[height_1*2+height_2+height_spacing_1*2+height_spacing_2:,\n",
    "                      width*2+width_spacing*2:])\n",
    "\n",
    "ax = [ax0, ax1, ax2, ax3, ax4, ax5, ax6, ax7, ax8, ax9, ax10, ax11]\n",
    "\n",
    "ax[0].scatter(filtering_df['CARB_si_d'],filtering_df['CARB_d13C'], s=10, c='C7', label='above Islay')\n",
    "ax[0].scatter(Islay_filtering_df['CARB_si_d'],Islay_filtering_df['CARB_d13C'], s=10, c='C1', label='within Islay')\n",
    "ax[0].set_ylabel('$\\delta^{13}$C')\n",
    "ax[0].set_xlabel('d [m]', labelpad=10)\n",
    "ax[0].xaxis.tick_top()\n",
    "ax[0].xaxis.set_label_position('top')\n",
    "ax[0].legend()\n",
    "ax[0].set_ylim(-15,10)\n",
    "ax[0].axhline(0, ls='--', c='k')\n",
    "\n",
    "ax[1].scatter(filtering_df['CARB_d18O'], filtering_df['CARB_d13C'], s=10, c='C7')\n",
    "ax[1].scatter(Islay_filtering_df['CARB_d18O'],Islay_filtering_df['CARB_d13C'], s=10, c='C1')\n",
    "ax[1].set_xlabel('$\\delta^{18}$O', labelpad=10)\n",
    "ax[1].xaxis.tick_top()\n",
    "ax[1].xaxis.set_label_position('top')\n",
    "ax[1].set_ylim(-15,10)\n",
    "ax[1].set_yticklabels([])\n",
    "ax[1].axhline(0, ls='--', c='k')\n",
    "\n",
    "ax[2].scatter(filtering_df['CARB_Fe_ppm'],filtering_df['CARB_d13C'], s=10, c='C7')\n",
    "ax[2].scatter(Islay_filtering_df['CARB_Fe_ppm'],Islay_filtering_df['CARB_d13C'], s=10, c='C1')\n",
    "ax[2].set_xlabel('Fe [ppm]', labelpad=10)\n",
    "ax[2].xaxis.tick_top()\n",
    "ax[2].xaxis.set_label_position('top')\n",
    "ax[2].set_ylim(-15,10)\n",
    "ax[2].set_yticklabels([])\n",
    "ax[2].axhline(0, ls='--', c='k')\n",
    "\n",
    "var = 'CARB_si_d'\n",
    "bins = np.linspace(np.min(filtering_df[var]),np.max(filtering_df[var]),20)\n",
    "hist_array = filtering_df[(np.isfinite(filtering_df[var]))&(filtering_df['CARB_d13C']<=0)][var]\n",
    "weights = np.ones_like(hist_array)/float(len(hist_array))\n",
    "ax[3].hist(hist_array,histtype='stepfilled',weights=weights,color='C7',alpha=0.5,bins=bins)\n",
    "hist_array = Islay_filtering_df[(np.isfinite(Islay_filtering_df[var]))&(Islay_filtering_df['CARB_d13C']<=0)][var]\n",
    "weights = np.ones_like(hist_array)/float(len(hist_array))\n",
    "ax[3].hist(hist_array,histtype='stepfilled',weights=weights,color='C1',alpha=0.5,bins=bins)\n",
    "ax[3].xaxis.tick_top()\n",
    "ax[3].set_xticklabels([])\n",
    "ax[3].set_ylim(0,0.5)\n",
    "ax[3].set_ylabel('normalized n')\n",
    "ax[3].text(0.5,0.5,'all samples with\\n$\\delta^{13}C\\leq$0 fall into\\nthe first bin ($d\\leq$'+str(np.round(bins[1],2))+')',\n",
    "           horizontalalignment='center',verticalalignment='center',transform=ax[3].transAxes)\n",
    "\n",
    "var = 'CARB_d18O'\n",
    "bins = np.linspace(np.min(filtering_df[var]),np.max(filtering_df[var]),20)\n",
    "hist_array1 = filtering_df[(np.isfinite(filtering_df[var]))&(filtering_df['CARB_d13C']<=0)][var]\n",
    "weights = np.ones_like(hist_array1)/float(len(hist_array1))\n",
    "ax[4].hist(hist_array1,histtype='stepfilled',weights=weights,color='C7',alpha=0.5,bins=bins)\n",
    "hist_array2 = Islay_filtering_df[(np.isfinite(Islay_filtering_df[var]))&(Islay_filtering_df['CARB_d13C']<=0)][var]\n",
    "weights = np.ones_like(hist_array2)/float(len(hist_array2))\n",
    "ax[4].hist(hist_array2,histtype='stepfilled',weights=weights,color='C1',alpha=0.5,bins=bins)\n",
    "ax[4].xaxis.tick_top()\n",
    "ax[4].set_xticklabels([])\n",
    "ax[4].set_ylim(0,0.5)\n",
    "ax[4].set_yticklabels([])\n",
    "stat, pval = stats.ks_2samp(hist_array1, hist_array2)\n",
    "crit_stat = 1.36*np.sqrt((len(hist_array1)+len(hist_array2))/(len(hist_array1)*len(hist_array2)))\n",
    "ax[4].text(0.98,0.9,'stat. = '+str(np.round(stat,2))+' ('+str(np.round(crit_stat,2))+')',\n",
    "           horizontalalignment='right',verticalalignment='center',transform=ax[4].transAxes)\n",
    "ax[4].text(0.98,0.75,'p-val. = '+str(np.round(pval,2)),\n",
    "           horizontalalignment='right',verticalalignment='center',transform=ax[4].transAxes)\n",
    "\n",
    "var = 'CARB_Fe_ppm'\n",
    "bins = np.linspace(np.min(filtering_df[var]),np.max(filtering_df[var]),20)\n",
    "hist_array1 = filtering_df[(np.isfinite(filtering_df[var]))&(filtering_df['CARB_d13C']<=0)][var]\n",
    "weights = np.ones_like(hist_array1)/float(len(hist_array1))\n",
    "ax[5].hist(hist_array1,histtype='stepfilled',weights=weights,color='C7',alpha=0.5,bins=bins)\n",
    "hist_array2 = Islay_filtering_df[(np.isfinite(Islay_filtering_df[var]))&(Islay_filtering_df['CARB_d13C']<=0)][var]\n",
    "weights = np.ones_like(hist_array2)/float(len(hist_array2))\n",
    "ax[5].hist(hist_array2,histtype='stepfilled',weights=weights,color='C1',alpha=0.5,bins=bins)\n",
    "ax[5].xaxis.tick_top()\n",
    "ax[5].set_xticklabels([])\n",
    "ax[5].set_ylim(0,0.5)\n",
    "ax[5].set_yticklabels([])\n",
    "stat, pval = stats.ks_2samp(hist_array1, hist_array2)\n",
    "print(len(hist_array1))\n",
    "print(len(hist_array2))\n",
    "crit_stat = 1.36*np.sqrt((len(hist_array1)+len(hist_array2))/(len(hist_array1)*len(hist_array2)))\n",
    "ax[5].text(0.98,0.9,'stat. = '+str(np.round(stat,2))+' ('+str(np.round(crit_stat,2))+')',\n",
    "           horizontalalignment='right',verticalalignment='center',transform=ax[5].transAxes)\n",
    "ax[5].text(0.98,0.75,'p-val. = '+str(np.round(pval,2)),\n",
    "           horizontalalignment='right',verticalalignment='center',transform=ax[5].transAxes)\n",
    "\n",
    "ax[6].scatter(filtering_df['CARB_Al_ppm'],filtering_df['CARB_d13C'], s=10, c='C7')\n",
    "ax[6].scatter(Islay_filtering_df['CARB_Al_ppm'],Islay_filtering_df['CARB_d13C'], s=10, c='C1')\n",
    "ax[6].set_ylabel('$\\delta^{13}$C')\n",
    "ax[6].set_ylim(-15,10)\n",
    "ax[6].set_xticklabels([])\n",
    "ax[6].axhline(0, ls='--', c='k')\n",
    "\n",
    "ax[7].scatter(filtering_df['CARB_Mg/Ca'],filtering_df['CARB_d13C'], s=10, c='C7')\n",
    "ax[7].scatter(Islay_filtering_df['CARB_Mg/Ca'],Islay_filtering_df['CARB_d13C'], s=10, c='C1')\n",
    "ax[7].set_ylim(-15,10)\n",
    "ax[7].set_yticklabels([])\n",
    "ax[7].set_xticklabels([])\n",
    "ax[7].axhline(0, ls='--', c='k')\n",
    "\n",
    "ax[8].scatter(filtering_df['CARB_Mn/Sr'],filtering_df['CARB_d13C'], s=10, c='C7')\n",
    "ax[8].scatter(Islay_filtering_df['CARB_Mn/Sr'],Islay_filtering_df['CARB_d13C'], s=10, c='C1')\n",
    "ax[8].set_ylim(-15,10)\n",
    "ax[8].set_yticklabels([])\n",
    "ax[8].set_xticklabels([])\n",
    "ax[8].axhline(0, ls='--', c='k')\n",
    "\n",
    "var = 'CARB_Al_ppm'\n",
    "bins = np.linspace(np.min(filtering_df[var]),np.max(filtering_df[var]),20)\n",
    "hist_array1 = filtering_df[(np.isfinite(filtering_df[var]))&(filtering_df['CARB_d13C']<=0)][var]\n",
    "weights = np.ones_like(hist_array1)/float(len(hist_array1))\n",
    "ax[9].hist(hist_array1,histtype='stepfilled',weights=weights,color='C7',alpha=0.5,bins=bins)\n",
    "hist_array2 = Islay_filtering_df[(np.isfinite(Islay_filtering_df[var]))&(Islay_filtering_df['CARB_d13C']<=0)][var]\n",
    "weights = np.ones_like(hist_array2)/float(len(hist_array2))\n",
    "ax[9].hist(hist_array2,histtype='stepfilled',weights=weights,color='C1',alpha=0.5,bins=bins)\n",
    "ax[9].set_ylim(0,0.5)\n",
    "ax[9].set_ylabel('normalized n')\n",
    "ax[9].set_xlabel('Al [ppm]')\n",
    "stat, pval = stats.ks_2samp(hist_array1, hist_array2)\n",
    "crit_stat = 1.36*np.sqrt((len(hist_array1)+len(hist_array2))/(len(hist_array1)*len(hist_array2)))\n",
    "ax[9].text(0.98,0.9,'stat. = '+str(np.round(stat,2))+' ('+str(np.round(crit_stat,2))+')',\n",
    "           horizontalalignment='right',verticalalignment='center',transform=ax[9].transAxes)\n",
    "ax[9].text(0.98,0.75,'p-val. = '+str(np.round(pval,2)),\n",
    "           horizontalalignment='right',verticalalignment='center',transform=ax[9].transAxes)\n",
    "\n",
    "var = 'CARB_Mg/Ca'\n",
    "bins = np.linspace(np.min(filtering_df[var]),np.max(filtering_df[var]),20)\n",
    "hist_array1 = filtering_df[(np.isfinite(filtering_df[var]))&(filtering_df['CARB_d13C']<=0)][var]\n",
    "weights = np.ones_like(hist_array1)/float(len(hist_array1))\n",
    "ax[10].hist(hist_array1,histtype='stepfilled',weights=weights,color='C7',alpha=0.5,bins=bins)\n",
    "hist_array2 = Islay_filtering_df[(np.isfinite(Islay_filtering_df[var]))&(Islay_filtering_df['CARB_d13C']<=0)][var]\n",
    "weights = np.ones_like(hist_array2)/float(len(hist_array2))\n",
    "ax[10].hist(hist_array2,histtype='stepfilled',weights=weights,color='C1',alpha=0.5,bins=bins)\n",
    "ax[10].set_ylim(0,0.5)\n",
    "ax[10].set_yticklabels([])\n",
    "ax[10].set_xlabel('Mg/Ca')\n",
    "stat, pval = stats.ks_2samp(hist_array1, hist_array2)\n",
    "crit_stat = 1.36*np.sqrt((len(hist_array1)+len(hist_array2))/(len(hist_array1)*len(hist_array2)))\n",
    "ax[10].text(0.98,0.9,'stat. = '+str(np.round(stat,2))+' ('+str(np.round(crit_stat,2))+')',\n",
    "            horizontalalignment='right',verticalalignment='center',transform=ax[10].transAxes)\n",
    "ax[10].text(0.98,0.75,'p-val. = '+str(np.round(pval,2)),\n",
    "            horizontalalignment='right',verticalalignment='center',transform=ax[10].transAxes)\n",
    "\n",
    "var = 'CARB_Mn/Sr'\n",
    "bins = np.linspace(np.min(filtering_df[var]),np.max(filtering_df[var]),20)\n",
    "hist_array1 = filtering_df[(np.isfinite(filtering_df[var]))&(filtering_df['CARB_d13C']<=0)][var]\n",
    "weights = np.ones_like(hist_array1)/float(len(hist_array1))\n",
    "ax[11].hist(hist_array1,histtype='stepfilled',weights=weights,color='C7',alpha=0.5,bins=bins)\n",
    "hist_array2 = Islay_filtering_df[(np.isfinite(Islay_filtering_df[var]))&(Islay_filtering_df['CARB_d13C']<=0)][var]\n",
    "weights = np.ones_like(hist_array2)/float(len(hist_array2))\n",
    "ax[11].hist(hist_array2,histtype='stepfilled',weights=weights,color='C1',alpha=0.5,bins=bins)\n",
    "ax[11].set_ylim(0,0.5)\n",
    "ax[11].set_yticklabels([])\n",
    "ax[11].set_xlabel('Mn/Sr')\n",
    "stat, pval = stats.ks_2samp(hist_array1, hist_array2)\n",
    "crit_stat = 1.36*np.sqrt((len(hist_array1)+len(hist_array2))/(len(hist_array1)*len(hist_array2)))\n",
    "ax[11].text(0.98,0.9,'stat. = '+str(np.round(stat,2))+' ('+str(np.round(crit_stat,2))+')',\n",
    "            horizontalalignment='right',verticalalignment='center',transform=ax[11].transAxes)\n",
    "ax[11].text(0.98,0.75,'p-val. = '+str(np.round(pval,2)),\n",
    "            horizontalalignment='right',verticalalignment='center',transform=ax[11].transAxes)\n",
    "\n",
    "#plt.savefig('../../Manuscript/Figures/Siliciclastic_Filtering_Islay.pdf', bbox_inches='tight')\n",
    "plt.show(fig)"
   ]
  },
  {
   "cell_type": "markdown",
   "metadata": {},
   "source": [
    "#### PCA"
   ]
  },
  {
   "cell_type": "code",
   "execution_count": null,
   "metadata": {},
   "outputs": [],
   "source": [
    "PCA_cols = ['CARB_d13C','CARB_d18O','log CARB_si_d','log CARB_Mg/Ca','log CARB_Mn/Sr',\n",
    "            'log CARB_Fe_ppm','log CARB_Al_ppm','CARB_mts_mtx']\n",
    "PCA_df = filtering_df[PCA_cols].copy()\n",
    "PCA_df.dropna(inplace=True)\n",
    "PCA_df.reset_index(drop=True, inplace=True)\n",
    "\n",
    "# we want to boolean mask for mts vs mtx\n",
    "mtx_mask = PCA_df['CARB_mts_mtx']=='mtx'\n",
    "mts_mask = PCA_df['CARB_mts_mtx']=='mts'\n",
    "\n",
    "PCA_cols = ['CARB_d13C','CARB_d18O','log CARB_si_d','log CARB_Mg/Ca','log CARB_Mn/Sr',\n",
    "            'log CARB_Fe_ppm','log CARB_Al_ppm']\n",
    "PCA_df = filtering_df[PCA_cols].copy()\n",
    "PCA_df.dropna(inplace=True)\n",
    "PCA_df.reset_index(drop=True, inplace=True)\n",
    "\n",
    "print('n = ' + str(len(PCA_df.index)))\n",
    "\n",
    "# convert into a numpy array\n",
    "X = PCA_df.values\n",
    "\n",
    "X_std = StandardScaler().fit_transform(X)\n",
    "\n",
    "pca = PCA()\n",
    "Y = pca.fit_transform(X_std)"
   ]
  },
  {
   "cell_type": "code",
   "execution_count": null,
   "metadata": {},
   "outputs": [],
   "source": [
    "fig, ax = plt.subplots()\n",
    "\n",
    "rects = ax.bar(np.arange(len(pca.explained_variance_))+1, pca.explained_variance_, color='C0')\n",
    "ax.set_ylabel('variance/eigenvalue', color='C0')\n",
    "ax.set_xlabel('principal component')\n",
    "ax.set_ylim(0,3)\n",
    "\n",
    "twinax = ax.twinx()\n",
    "twinax.plot(np.arange(len(pca.explained_variance_ratio_))+1,\n",
    "            np.cumsum(pca.explained_variance_ratio_)*100, '-+', color='C1')\n",
    "twinax.set_ylim(0,100)\n",
    "twinax.set_ylabel('cumulative variance explained [%]', rotation=270, color='C1')\n",
    "\n",
    "def autolabel(rects):\n",
    "    \"\"\"\n",
    "    Attach a text label above each bar displaying its height\n",
    "    \"\"\"\n",
    "    for rect in rects:\n",
    "        height = rect.get_height()\n",
    "        if height>=0:\n",
    "            ax.text(rect.get_x() + rect.get_width()/2, height+0.08,\n",
    "                    np.round(height,2),\n",
    "                    ha='center', va='center')\n",
    "        else:\n",
    "            ax.text(rect.get_x() + rect.get_width()/2, height-0.08,\n",
    "                    np.round(height,2),\n",
    "                    ha='center', va='center')\n",
    "            \n",
    "autolabel(rects)\n",
    "\n",
    "#plt.savefig('../../Manuscript/Figures/Siliciclastic_Filtering_Components.pdf', bbox_inches='tight')\n",
    "plt.show(fig)"
   ]
  },
  {
   "cell_type": "code",
   "execution_count": null,
   "metadata": {},
   "outputs": [],
   "source": [
    "N = len(PCA_cols)\n",
    "for i in range(N):\n",
    "    print('PC' + str(i+1) + ': ' + str(np.round(pca.explained_variance_ratio_[i]*100,1)) + '%')"
   ]
  },
  {
   "cell_type": "code",
   "execution_count": null,
   "metadata": {
    "scrolled": false
   },
   "outputs": [],
   "source": [
    "ind = np.arange(N)\n",
    "\n",
    "PCA_cols_nice = ['$\\delta^{13}$C','$\\delta^{18}$O','log$_{10}$ d','log$_{10}$ Mg/Ca','log$_{10}$ Mn/Sr',\n",
    "                  'log$_{10}$ Fe','log$_{10}$ Al']\n",
    "\n",
    "component_names = []\n",
    "for i in range(len(PCA_cols)):\n",
    "    component_names.append('PC ' + str(i+1))\n",
    "\n",
    "eigenvectors = pd.DataFrame(pca.components_.T, columns=component_names, index=PCA_cols)\n",
    "\n",
    "cutoff = np.sqrt(1/len(PCA_cols))\n",
    "\n",
    "fig, ax = plt.subplots(ncols=2, nrows=3, figsize=(14,10), sharex=True)\n",
    "\n",
    "ax = ax.flatten()\n",
    "\n",
    "for i in range(N-1):\n",
    "    ax[i].bar(ind, eigenvectors['PC ' + str(i+1)], color='C0')\n",
    "    ax[i].set_ylabel('loading')\n",
    "    ax[i].set_ylim(-0.8,0.8)\n",
    "    ax[i].yaxis.grid(ls='--')\n",
    "    ax[i].axhline(cutoff, ls='--', c='k')\n",
    "    ax[i].axhline(-cutoff, ls='--', c='k')\n",
    "    ax[i].set_title('PC ' + str(i+1))\n",
    "    \n",
    "ax[4].set_xticks(ind)\n",
    "ax[4].set_xticklabels(PCA_cols_nice, rotation=20)\n",
    "ax[5].set_xticklabels(PCA_cols_nice, rotation=20)\n",
    "\n",
    "plt.show(fig)"
   ]
  },
  {
   "cell_type": "code",
   "execution_count": null,
   "metadata": {},
   "outputs": [],
   "source": [
    "PCA_cols_nice = ['$\\delta^{13}$C','$\\delta^{18}$O','log$_{10}$ d','log$_{10}$ Mg/Ca','log$_{10}$ Mn/Sr',\n",
    "                  'log$_{10}$ Fe','log$_{10}$ Al']\n",
    "\n",
    "fig, ax = plt.subplots(ncols=2, nrows=1, figsize=(14,5), gridspec_kw={'width_ratios':[1,2]})\n",
    "\n",
    "# loadings plot\n",
    "x_component = 1\n",
    "y_component = 2\n",
    "\n",
    "for i in range(len(PCA_cols)):\n",
    "    ax[0].arrow(0,0,pca.components_[x_component-1,i],pca.components_[y_component-1,i],\n",
    "                color='C7')\n",
    "    ax[0].text(pca.components_[x_component-1,i]*1.2,pca.components_[y_component-1,i]*1.2,PCA_cols_nice[i],\n",
    "               ha='center',va='center',fontweight='bold')\n",
    "\n",
    "ax[0].set_xlim(-1,1)\n",
    "ax[0].set_xticks([-1,-0.5,0,0.5,1])\n",
    "ax[0].set_ylim(-1,1)\n",
    "ax[0].set_yticks([-1,-0.5,0,0.5,1])\n",
    "ax[0].set_xlabel('Principal Component ' + str(x_component) + ' (' + \\\n",
    "                 str(np.round(pca.explained_variance_ratio_[x_component-1]*100,1)) + '%)')\n",
    "ax[0].set_ylabel('Principal Component ' + str(y_component) + ' (' + \\\n",
    "                 str(np.round(pca.explained_variance_ratio_[y_component-1]*100,1)) + '%)')\n",
    "\n",
    "# loadings histogram\n",
    "\n",
    "width=0.35\n",
    "\n",
    "rects1 = ax[1].bar(ind, eigenvectors['PC 1'], width, color='C0')\n",
    "rects2 = ax[1].bar(ind + width, eigenvectors['PC 2'], width, color='C1')\n",
    "\n",
    "ax[1].set_ylabel('loading', rotation=270)\n",
    "ax[1].set_xticks(ind + width / 2)\n",
    "ax[1].set_xticklabels(PCA_cols_nice, rotation=20)\n",
    "\n",
    "ax[1].legend((rects1[0], rects2[0]), ('Principal Component 1', 'Principal Component 2'))\n",
    "\n",
    "def autolabel(rects):\n",
    "    \"\"\"\n",
    "    Attach a text label above each bar displaying its height\n",
    "    \"\"\"\n",
    "    for rect in rects:\n",
    "        height = rect.get_height()\n",
    "        if height>=0:\n",
    "            ax[1].text(rect.get_x() + rect.get_width()/2, height+0.05,\n",
    "                    np.round(height,2),\n",
    "                    ha='center', va='center')\n",
    "        else:\n",
    "            ax[1].text(rect.get_x() + rect.get_width()/2, height-0.05,\n",
    "                    np.round(height,2),\n",
    "                    ha='center', va='center')\n",
    "\n",
    "autolabel(rects1)\n",
    "autolabel(rects2)\n",
    "\n",
    "ax[1].set_ylim(-0.8,0.8)\n",
    "ax[1].yaxis.grid(ls='--')\n",
    "ax[1].axhline(cutoff, ls='--', c='k')\n",
    "ax[1].axhline(-cutoff, ls='--', c='k')\n",
    "ax[1].yaxis.tick_right()\n",
    "ax[1].yaxis.set_label_position('right')\n",
    "\n",
    "fig.tight_layout()\n",
    "\n",
    "plt.show(fig)"
   ]
  },
  {
   "cell_type": "code",
   "execution_count": null,
   "metadata": {},
   "outputs": [],
   "source": [
    "# print some statistics\n",
    "print(str(carb_df['CARB_d13C'].count()) + ' = total number of d13C values')\n",
    "for i in range(len(ds)):\n",
    "    n_samples = 0\n",
    "    for j in range(len(carb_df.index)):\n",
    "        if carb_df['CARB_si_d'][j]>=ds[i] and np.isfinite(carb_df['CARB_d13C'][j]):\n",
    "            n_samples = n_samples + 1\n",
    "    print(str(n_samples) + ' = number of carbonate samples after ' + str(ds[i]) + ' m filter')\n",
    "\n",
    "fig, ax = plt.subplots(nrows=1, ncols=len(ds)+1, sharey=True, figsize=(14,10))\n",
    "\n",
    "ax[0].scatter(carb_df['CARB_d13C'], carb_df['cum_CARB_HEIGHT'], s=10)\n",
    "ax[0].set_xlabel('$\\delta^{13}$C')\n",
    "ax[0].set_xlim(-15,10)\n",
    "ax[0].set_xticks([-15,-10,-5,0,5,10])\n",
    "ax[0].xaxis.grid(ls='--')\n",
    "ax[0].set_title('all data')\n",
    "ax[0].set_ylabel('stratigraphic height [m]')\n",
    "\n",
    "for i in range(len(ds)):\n",
    "    ax[i+1].scatter(carb_df[carb_df['CARB_si_d']<ds[i]]['CARB_d13C'],\n",
    "                    carb_df[carb_df['CARB_si_d']<ds[i]]['cum_CARB_HEIGHT'],\n",
    "                    c='C7', s=10)\n",
    "    ax[i+1].scatter(carb_df[carb_df['CARB_si_d']>=ds[i]]['CARB_d13C'],\n",
    "                    carb_df[carb_df['CARB_si_d']>=ds[i]]['cum_CARB_HEIGHT'],\n",
    "                    c='C1', s=10)\n",
    "    ax[i+1].set_xlabel('$\\delta^{13}$C')\n",
    "    ax[i+1].set_xlim(-15,10)\n",
    "    ax[i+1].set_xticks([-15,-10,-5,0,5,10])\n",
    "    ax[i+1].xaxis.grid(ls='--')\n",
    "    ax[i+1].set_title(str(ds[i]) + ' m')"
   ]
  },
  {
   "cell_type": "code",
   "execution_count": null,
   "metadata": {},
   "outputs": [],
   "source": [
    "fig, ax = plt.subplots(nrows=4, ncols=1, sharex=True, figsize=(14,8))\n",
    "\n",
    "ds_plot = [0.2, 0.5, 1.0, 5.0]\n",
    "\n",
    "for i in range(len(ds_plot)):\n",
    "    ax[i].scatter(carb_df[carb_df['CARB_si_d']<ds_plot[i]]['cum_CARB_HEIGHT'],\n",
    "                  carb_df[carb_df['CARB_si_d']<ds_plot[i]]['CARB_d13C'],\n",
    "                  c='C7', s=10, label='below threshold')\n",
    "    ax[i].scatter(carb_df[carb_df['CARB_si_d']>=ds_plot[i]]['cum_CARB_HEIGHT'],\n",
    "                  carb_df[carb_df['CARB_si_d']>=ds_plot[i]]['CARB_d13C'],\n",
    "                  c='C1', s=10, label='above threshold')\n",
    "    ax[i].set_ylabel('$\\delta^{13}$C')\n",
    "    ax[i].set_ylim(-15,10)\n",
    "    ax[i].set_yticks([-15,-10,-5,0,5,10])\n",
    "    ax[i].set_axisbelow(True)\n",
    "    ax[i].yaxis.grid(ls='--')\n",
    "    ax[i].text(1.03, 0.5, str(ds_plot[i]) + ' m',\n",
    "               horizontalalignment='center',verticalalignment='center',transform=ax[i].transAxes,fontweight='bold')\n",
    "    \n",
    "ax[3].set_xlabel('stratigraphic height [m]')\n",
    "ax[0].legend(loc=(0.23,0.05))\n",
    "    \n",
    "#plt.savefig('../../Manuscript/Figures/Siliciclastic_Filtering_Comparison.pdf', bbox_inches='tight')\n",
    "plt.show(fig)"
   ]
  },
  {
   "cell_type": "code",
   "execution_count": null,
   "metadata": {},
   "outputs": [],
   "source": [
    "# set up the figure and gridspec\n",
    "fig = plt.figure(figsize=(13,13))\n",
    "\n",
    "gs = gridspec.GridSpec(100,100)\n",
    "ax0 = plt.subplot(gs[0:31,0:31])\n",
    "ax1 = plt.subplot(gs[0:31,35:100])\n",
    "ax2 = plt.subplot(gs[38:60,0:22])\n",
    "ax3 = plt.subplot(gs[38:60,26:48])\n",
    "ax4 = plt.subplot(gs[38:60,52:74])\n",
    "ax5 = plt.subplot(gs[38:60,78:100])\n",
    "ax6 = plt.subplot(gs[67:82,:])\n",
    "ax7 = plt.subplot(gs[85:100,:])\n",
    "\n",
    "ax = [ax0, ax1, ax2, ax3, ax4, ax5, ax6, ax7]\n",
    "\n",
    "### loadings plot\n",
    "\n",
    "PCA_cols_nice = ['$\\delta^{13}$C','$\\delta^{18}$O','d','Mg/Ca','Mn/Sr','Fe','Al']\n",
    "\n",
    "x_component = 1\n",
    "y_component = 2\n",
    "\n",
    "for i in range(len(PCA_cols)):\n",
    "    ax[0].arrow(0,0,pca.components_[x_component-1,i],pca.components_[y_component-1,i],\n",
    "                color='C7')\n",
    "    ax[0].text(pca.components_[x_component-1,i]*1.2,pca.components_[y_component-1,i]*1.2,PCA_cols_nice[i],\n",
    "               ha='center',va='center',fontweight='bold')\n",
    "\n",
    "ax[0].set_xlim(-1,1)\n",
    "ax[0].set_xticks([-1,-0.5,0,0.5,1])\n",
    "ax[0].set_ylim(-1,1)\n",
    "ax[0].set_yticks([-1,-0.5,0,0.5,1])\n",
    "ax[0].set_xlabel('Principal Component ' + str(x_component) + ' (' + \\\n",
    "                 str(np.round(pca.explained_variance_ratio_[x_component-1]*100,1)) + '%)')\n",
    "ax[0].set_ylabel('Principal Component ' + str(y_component) + ' (' + \\\n",
    "                 str(np.round(pca.explained_variance_ratio_[y_component-1]*100,1)) + '%)')\n",
    "\n",
    "### loadings histogram\n",
    "component_names = []\n",
    "for i in range(len(PCA_cols)):\n",
    "    component_names.append('PC ' + str(i+1))\n",
    "\n",
    "eigenvectors = pd.DataFrame(pca.components_.T, columns=component_names, index=PCA_cols)\n",
    "eigenvectors\n",
    "\n",
    "cutoff = np.sqrt(1/len(PCA_cols))\n",
    "\n",
    "N = len(PCA_cols)\n",
    "ind = np.arange(N)\n",
    "width=0.35\n",
    "\n",
    "rects1 = ax[1].bar(ind, eigenvectors['PC 1'], width, color='C0')\n",
    "rects2 = ax[1].bar(ind + width, eigenvectors['PC 2'], width, color='C1')\n",
    "\n",
    "ax[1].set_ylabel('loading', rotation=270, labelpad=20)\n",
    "ax[1].set_xticks(ind + width / 2)\n",
    "ax[1].set_xticklabels(PCA_cols_nice, rotation=20)\n",
    "\n",
    "ax[1].legend((rects1[0], rects2[0]), ('Principal Component 1', 'Principal Component 2'), loc=2)\n",
    "\n",
    "def autolabel(rects):\n",
    "    \"\"\"\n",
    "    Attach a text label above each bar displaying its height\n",
    "    \"\"\"\n",
    "    for rect in rects:\n",
    "        height = rect.get_height()\n",
    "        if height>=0:\n",
    "            ax[1].text(rect.get_x() + rect.get_width()/2, height+0.05,\n",
    "                    np.round(height,2),\n",
    "                    ha='center', va='center')\n",
    "        else:\n",
    "            ax[1].text(rect.get_x() + rect.get_width()/2, height-0.05,\n",
    "                    np.round(height,2),\n",
    "                    ha='center', va='center')\n",
    "\n",
    "autolabel(rects1)\n",
    "autolabel(rects2)\n",
    "\n",
    "ax[1].set_ylim(-0.8,0.8)\n",
    "ax[1].set_axisbelow(True)\n",
    "ax[1].yaxis.grid(ls='--')\n",
    "ax[1].axhline(cutoff, ls='--', c='k')\n",
    "ax[1].axhline(-cutoff, ls='--', c='k')\n",
    "ax[1].yaxis.tick_right()\n",
    "ax[1].yaxis.set_label_position('right')\n",
    "\n",
    "### element concentrations\n",
    "\n",
    "ax[2].scatter(filtering_df['CARB_d13C'], filtering_df['CARB_si_d'], s=10, c='C7')\n",
    "ax[2].set_xlabel('$\\delta^{13}$C')\n",
    "ax[2].set_ylabel('d [m]')\n",
    "\n",
    "ax[3].scatter(filtering_df['CARB_Fe_ppm'],filtering_df['CARB_si_d'], s=10, c='C7')\n",
    "ax[3].set_xlabel('Fe [ppm]')\n",
    "ax[3].set_yticklabels([])\n",
    "\n",
    "ax[4].scatter(filtering_df['CARB_Mg/Ca'],filtering_df['CARB_si_d'], s=10, c='C7')\n",
    "ax[4].set_xlabel('Mg/Ca')\n",
    "ax[4].set_yticklabels([])\n",
    "\n",
    "ax[5].scatter(filtering_df['CARB_Mn/Sr'],filtering_df['CARB_si_d'], s=10, c='C7')\n",
    "ax[5].set_xlabel('Mn/Sr')\n",
    "ax[5].set_yticklabels([])\n",
    "\n",
    "### element concentration insets\n",
    "\n",
    "def add_subplot_axes(ax,rect,facecolor='w'):\n",
    "    box = ax.get_position()\n",
    "    width = box.width\n",
    "    height = box.height\n",
    "    inax_position  = ax.transAxes.transform(rect[0:2])\n",
    "    transFigure = fig.transFigure.inverted()\n",
    "    infig_position = transFigure.transform(inax_position)    \n",
    "    x = infig_position[0]\n",
    "    y = infig_position[1]\n",
    "    width *= rect[2]\n",
    "    height *= rect[3]  # <= Typo was here\n",
    "    subax = fig.add_axes([x,y,width,height],facecolor=facecolor)\n",
    "    x_labelsize = subax.get_xticklabels()[0].get_size()\n",
    "    y_labelsize = subax.get_yticklabels()[0].get_size()\n",
    "    x_labelsize *= rect[2]**0.5 * 1.2\n",
    "    y_labelsize *= rect[3]**0.5 * 1.2\n",
    "    subax.xaxis.set_tick_params(labelsize=x_labelsize)\n",
    "    subax.yaxis.set_tick_params(labelsize=y_labelsize)\n",
    "    return subax\n",
    "\n",
    "rect = [0.05,0.55,0.4,0.4]\n",
    "ax2_inset = add_subplot_axes(ax[2],rect)\n",
    "ax2_inset.scatter(filtering_df['CARB_d13C'], filtering_df['CARB_si_d'], s=7.5, c='C7')\n",
    "ax2_inset.axhline(0.2, c='k', ls='--')\n",
    "ax2_inset.set_ylim(-0.1,1.5)\n",
    "ax2_inset.yaxis.tick_right()\n",
    "ax2_inset.yaxis.set_label_position('right')\n",
    "\n",
    "rect = [0.55,0.55,0.4,0.4]\n",
    "ax3_inset = add_subplot_axes(ax[3],rect)\n",
    "ax3_inset.scatter(filtering_df['CARB_Fe_ppm'],filtering_df['CARB_si_d'], s=7.5, c='C7')\n",
    "ax3_inset.axhline(0.2, c='k', ls='--')\n",
    "ax3_inset.set_ylim(-0.1,1.5)\n",
    "\n",
    "rect = [0.4,0.55,0.4,0.4]\n",
    "ax4_inset = add_subplot_axes(ax[4],rect)\n",
    "ax4_inset.scatter(filtering_df['CARB_Mg/Ca'],filtering_df['CARB_si_d'], s=7.5, c='C7')\n",
    "ax4_inset.axhline(0.2, c='k', ls='--')\n",
    "ax4_inset.set_ylim(-0.1,1.5)\n",
    "\n",
    "rect = [0.55,0.55,0.4,0.4]\n",
    "ax5_inset = add_subplot_axes(ax[5],rect)\n",
    "ax5_inset.scatter(filtering_df['CARB_Mn/Sr'],filtering_df['CARB_si_d'], s=7.5, c='C7')\n",
    "ax5_inset.axhline(0.2, c='k', ls='--')\n",
    "ax5_inset.set_ylim(-0.1,1.5)\n",
    "\n",
    "### standard deviations\n",
    "\n",
    "ax[6].plot(si_d, d13C_std/np.nanmax(d13C_std), label='$\\delta^{13}$C', c='C0')\n",
    "ax[6].plot(si_d, d18O_std/np.nanmax(d18O_std), label='$\\delta^{18}$O', c='C1')\n",
    "ax[6].plot(si_d, Fe_std/np.nanmax(Fe_std), label='Fe', c='C2')\n",
    "ax[6].plot(si_d, Al_std/np.nanmax(Al_std), label='Al', c='C3')\n",
    "ax[6].plot(si_d, MgCa_std/np.nanmax(MgCa_std), label='Mg/Ca', c='C4')\n",
    "ax[6].plot(si_d, MnSr_std/np.nanmax(MnSr_std), label='Mn/Sr', c='C5')\n",
    "\n",
    "ax[6].set_ylabel('normalized $\\sigma$')\n",
    "ax[6].set_xticklabels([])\n",
    "\n",
    "ax[7].plot(si_d-0.05, np.gradient(d13C_std/np.nanmax(d13C_std), 0.1), label='$\\delta^{13}$C', c='C0')\n",
    "ax[7].plot(si_d-0.05, np.gradient(d18O_std/np.nanmax(d18O_std), 0.1), label='$\\delta^{18}$O', c='C1')\n",
    "ax[7].plot(si_d-0.05, np.gradient(Fe_std/np.nanmax(Fe_std), 0.1), label='Fe', c='C2')\n",
    "ax[7].plot(si_d-0.05, np.gradient(Al_std/np.nanmax(Al_std), 0.1), label='Al', c='C3')\n",
    "ax[7].plot(si_d-0.05, np.gradient(MgCa_std/np.nanmax(MgCa_std), 0.1), label='Mg/Ca', c='C4')\n",
    "ax[7].plot(si_d-0.05, np.gradient(MnSr_std/np.nanmax(MnSr_std), 0.1), label='Mn/Sr', c='C5')\n",
    "\n",
    "ax[7].set_ylabel('gradient of\\nnormalized $\\sigma$')\n",
    "ax[7].set_xlabel('threshold d [m]')\n",
    "ax[7].legend(loc=4, ncol=2)\n",
    "\n",
    "for i in [6,7]:\n",
    "    ax[i].set_xticks(np.arange(0,1.6,0.1))\n",
    "    ax[i].set_axisbelow(True)\n",
    "    ax[i].yaxis.grid(ls='--')\n",
    "    ax[i].axvline(0.2, c='k', ls='--')\n",
    "    ax[i].axvline(0.5, c='k', ls='--')\n",
    "    ax[i].set_xlim(0,1.5)\n",
    "    \n",
    "labelsize = 12\n",
    "ticksize = 10    \n",
    "\n",
    "for i in range(len(ax)):\n",
    "    ax[i].tick_params(axis='both', which='major', labelsize=ticksize)\n",
    "    ax[i].xaxis.label.set_size(labelsize)\n",
    "    ax[i].yaxis.label.set_size(labelsize)\n",
    "\n",
    "#plt.savefig('../../Manuscript/Figures/Siliciclastic_Filtering_raw.pdf')\n",
    "plt.show(fig)"
   ]
  },
  {
   "cell_type": "markdown",
   "metadata": {},
   "source": [
    "Based on the above, select a threshold:"
   ]
  },
  {
   "cell_type": "code",
   "execution_count": null,
   "metadata": {},
   "outputs": [],
   "source": [
    "for i in range(len(carb_df.index)):\n",
    "    if carb_df['CARB_si_d'][i] >= 0.2:\n",
    "        carb_df.loc[i,'CARB_thresh_sel'] = True\n",
    "    else:\n",
    "        carb_df.loc[i,'CARB_thresh_sel'] = False"
   ]
  },
  {
   "cell_type": "markdown",
   "metadata": {},
   "source": [
    "Inspect the results:"
   ]
  },
  {
   "cell_type": "code",
   "execution_count": null,
   "metadata": {},
   "outputs": [],
   "source": [
    "from bokeh.plotting import figure, show, ColumnDataSource\n",
    "from bokeh.models import HoverTool, BoxZoomTool, ResetTool, WheelZoomTool, PanTool\n",
    "from bokeh.io import output_notebook\n",
    "\n",
    "output_notebook()"
   ]
  },
  {
   "cell_type": "code",
   "execution_count": null,
   "metadata": {},
   "outputs": [],
   "source": [
    "fail_source = ColumnDataSource(data=dict(d13C = carb_df[carb_df['CARB_thresh_sel']==False]['CARB_d13C'],\n",
    "                                         strat_m = carb_df[carb_df['CARB_thresh_sel']==False]['cum_CARB_HEIGHT'],\n",
    "                                         section = carb_df[carb_df['CARB_thresh_sel']==False]['section'],))\n",
    "\n",
    "pass_source = ColumnDataSource(data=dict(d13C = carb_df[carb_df['CARB_thresh_sel']==True]['CARB_d13C'],\n",
    "                                         strat_m = carb_df[carb_df['CARB_thresh_sel']==True]['cum_CARB_HEIGHT'],\n",
    "                                         section = carb_df[carb_df['CARB_thresh_sel']==True]['section'],))\n",
    "\n",
    "hover = HoverTool(tooltips=[\n",
    "    ('strat. height', '@strat_m{0.2}'),\n",
    "    ('section', '@section'),\n",
    "])\n",
    "\n",
    "p = figure(plot_width=900, plot_height=300, tools=[hover, PanTool(), BoxZoomTool(), ResetTool(), WheelZoomTool()],\n",
    "           x_axis_label='stratigraphic height [m]', y_axis_label='\\u03B4 C')\n",
    "\n",
    "p.circle('strat_m', 'd13C', size=4, source=fail_source, color='lightslategrey')\n",
    "p.circle('strat_m', 'd13C', size=4, source=pass_source, color='darkorange')\n",
    "\n",
    "show(p)"
   ]
  },
  {
   "cell_type": "markdown",
   "metadata": {},
   "source": [
    "### Entire Tambien Group"
   ]
  },
  {
   "cell_type": "code",
   "execution_count": null,
   "metadata": {},
   "outputs": [],
   "source": [
    "fig, ax = plot_composite_chemostratigraphy(sections, colors, filtered=True, s=10)\n",
    "ax[0].set_ylim(-500, 4470)\n",
    "#plt.savefig('../../Manuscript/Figures/Tambien_Chemostratigraphy.pdf')\n",
    "plt.show(fig)"
   ]
  },
  {
   "cell_type": "markdown",
   "metadata": {},
   "source": [
    "### Upper Tambien Group Comparison"
   ]
  },
  {
   "cell_type": "code",
   "execution_count": null,
   "metadata": {},
   "outputs": [],
   "source": [
    "Negash_compare_section_list = ['T23','T27','T28','T29','T30','T37','T38','T53','T54']\n",
    "E_Samre_compare_section_list = ['T61','T63','T64']\n",
    "W_Samre_compare_section_list = ['T40','T42','T44','T45','T46','T51','T52']\n",
    "markers = ['o','v','s','D','^','<','>','P','X']\n",
    "\n",
    "thresh = 0.2\n",
    "            \n",
    "fig, ax = plt.subplots(nrows=1, ncols=4, figsize=(14,8), sharex=True, sharey=True)\n",
    "\n",
    "for i in range(len(Negash_compare_section_list)):\n",
    "    this_df = carb_df[(carb_df['section']==Negash_compare_section_list[i]) & (carb_df['CARB_si_d']<thresh)]\n",
    "    ax[0].scatter(this_df['CARB_d13C'],this_df['cum_CARB_HEIGHT'],marker=markers[i],c='C7',edgecolor='k',linewidth=0.2)\n",
    "for i in range(len(Negash_compare_section_list)):\n",
    "    this_df = carb_df[(carb_df['section']==Negash_compare_section_list[i]) & (carb_df['CARB_si_d']>=thresh)]\n",
    "    ax[0].scatter(this_df['CARB_d13C'],this_df['cum_CARB_HEIGHT'],marker=markers[i],c='C1',edgecolor='k',linewidth=0.2)\n",
    "ax[0].set_title('Negash')\n",
    "\n",
    "for i in range(len(W_Samre_compare_section_list)):\n",
    "    this_df = carb_df[(carb_df['section']==W_Samre_compare_section_list[i]) & (carb_df['CARB_si_d']<thresh)]\n",
    "    ax[1].scatter(this_df['CARB_d13C'],this_df['cum_CARB_HEIGHT'],marker=markers[i],c='C7',edgecolor='k',linewidth=0.2)\n",
    "for i in range(len(W_Samre_compare_section_list)):    \n",
    "    this_df = carb_df[(carb_df['section']==W_Samre_compare_section_list[i]) & (carb_df['CARB_si_d']>=thresh)]\n",
    "    ax[1].scatter(this_df['CARB_d13C'],this_df['cum_CARB_HEIGHT'],marker=markers[i],c='C1',edgecolor='k',linewidth=0.2)\n",
    "ax[1].set_title('W. Samre')\n",
    "\n",
    "for i in range(len(E_Samre_compare_section_list)):\n",
    "    this_df = carb_df[(carb_df['section']==E_Samre_compare_section_list[i]) & (carb_df['CARB_si_d']<thresh)]\n",
    "    ax[2].scatter(this_df['CARB_d13C'],this_df['cum_CARB_HEIGHT'],marker=markers[i],c='C7',edgecolor='k',linewidth=0.2)\n",
    "for i in range(len(E_Samre_compare_section_list)):    \n",
    "    this_df = carb_df[(carb_df['section']==E_Samre_compare_section_list[i]) & (carb_df['CARB_si_d']>=thresh)]\n",
    "    ax[2].scatter(this_df['CARB_d13C'],this_df['cum_CARB_HEIGHT'],marker=markers[i],c='C1',edgecolor='k',linewidth=0.2)\n",
    "ax[2].set_title('E. Samre')\n",
    "\n",
    "for i in range(len(Negash_compare_section_list)):\n",
    "    this_df = carb_df[(carb_df['section']==Negash_compare_section_list[i]) & (carb_df['CARB_si_d']<thresh)]\n",
    "    ax[3].scatter(this_df['CARB_d13C'],this_df['cum_CARB_HEIGHT'],c='C7')\n",
    "for i in range(len(W_Samre_compare_section_list)):\n",
    "    this_df = carb_df[(carb_df['section']==W_Samre_compare_section_list[i]) & (carb_df['CARB_si_d']<thresh)]\n",
    "    ax[3].scatter(this_df['CARB_d13C'],this_df['cum_CARB_HEIGHT'],c='C7')\n",
    "for i in range(len(E_Samre_compare_section_list)):\n",
    "    this_df = carb_df[(carb_df['section']==E_Samre_compare_section_list[i]) & (carb_df['CARB_si_d']<thresh)]\n",
    "    ax[3].scatter(this_df['CARB_d13C'],this_df['cum_CARB_HEIGHT'],c='C7')\n",
    "for i in range(len(Negash_compare_section_list)):\n",
    "    this_df = carb_df[(carb_df['section']==Negash_compare_section_list[i]) & (carb_df['CARB_si_d']>=thresh)]\n",
    "    ax[3].scatter(this_df['CARB_d13C'],this_df['cum_CARB_HEIGHT'],c='C1')\n",
    "for i in range(len(W_Samre_compare_section_list)):\n",
    "    this_df = carb_df[(carb_df['section']==W_Samre_compare_section_list[i]) & (carb_df['CARB_si_d']>=thresh)]\n",
    "    ax[3].scatter(this_df['CARB_d13C'],this_df['cum_CARB_HEIGHT'],c='C1')\n",
    "for i in range(len(E_Samre_compare_section_list)):\n",
    "    this_df = carb_df[(carb_df['section']==E_Samre_compare_section_list[i]) & (carb_df['CARB_si_d']>=thresh)]\n",
    "    ax[3].scatter(this_df['CARB_d13C'],this_df['cum_CARB_HEIGHT'],c='C1')\n",
    "ax[3].set_title('all')\n",
    "\n",
    "ax[0].set_ylim(3700, 4500)\n",
    "\n",
    "for i in range(len(ax)):\n",
    "    ax[i].set_xlim(-15,10)\n",
    "    ax[i].set_xticks([-15,-10,-5,0,5,10])\n",
    "    ax[i].xaxis.grid(ls='--')\n",
    "    ax[i].set_xlabel('$\\delta^{13}$C')\n",
    "    \n",
    "#plt.savefig('../../Manuscript/Figures/Upper_Tambien_Chemostratigraphy.pdf')\n",
    "plt.show(fig)"
   ]
  },
  {
   "cell_type": "code",
   "execution_count": null,
   "metadata": {},
   "outputs": [],
   "source": [
    "fig, ax = plt.subplots(nrows=1, ncols=4, figsize=(14,8), sharex=True, sharey=True)\n",
    "\n",
    "ax[0].scatter(T58['CARB_d13C'], T58['CARB_HEIGHT'])\n",
    "ax[0].set_title('T58')\n",
    "\n",
    "ax[1].scatter(T65['CARB_d13C'], T65['CARB_HEIGHT'])\n",
    "ax[1].set_title('T65')\n",
    "\n",
    "ax[0].set_ylim(0,800)\n",
    "\n",
    "for i in range(len(ax)):\n",
    "    ax[i].set_xlim(-15,10)\n",
    "    ax[i].set_xticks([-15,-10,-5,0,5,10])\n",
    "    ax[i].xaxis.grid(ls='--')\n",
    "    ax[i].set_xlabel('$\\delta^{13}$C')\n",
    "\n",
    "plt.show(fig)"
   ]
  },
  {
   "cell_type": "markdown",
   "metadata": {},
   "source": [
    "### Islay Anomaly\n",
    "\n",
    "Zoom in to the Islay Anomaly:"
   ]
  },
  {
   "cell_type": "code",
   "execution_count": null,
   "metadata": {
    "scrolled": false
   },
   "outputs": [],
   "source": [
    "fig, ax = plot_composite_chemostratigraphy(sections, colors, filtered=True)\n",
    "ax[0].set_ylim(3600,3900)\n",
    "plt.show(fig)"
   ]
  },
  {
   "cell_type": "markdown",
   "metadata": {},
   "source": [
    "### Onset of Glaciation"
   ]
  },
  {
   "cell_type": "code",
   "execution_count": null,
   "metadata": {},
   "outputs": [],
   "source": [
    "fig, ax = plot_composite_chemostratigraphy(sections, colors, filtered=True)\n",
    "ax[0].set_ylim(3600,4500)\n",
    "plt.show(fig)"
   ]
  },
  {
   "cell_type": "markdown",
   "metadata": {},
   "source": [
    "### vs. Sr Alteration"
   ]
  },
  {
   "cell_type": "code",
   "execution_count": null,
   "metadata": {},
   "outputs": [],
   "source": [
    "Sr_p_si20_p = carb_df[(carb_df['CARB_Sr_ppm']>=Sr_threshold) &\n",
    "                      (carb_df['CARB_Mn/Sr']<=MnSr_threshold) &\n",
    "                      (np.isfinite(carb_df['CARB_87Sr/86Sr'])) &\n",
    "                      (carb_df['CARB_si_d']>=0.2)].copy()\n",
    "\n",
    "Sr_f_si20_f = carb_df[((carb_df['CARB_Sr_ppm']<Sr_threshold) |\n",
    "                      (carb_df['CARB_Mn/Sr']>MnSr_threshold)) &\n",
    "                      (np.isfinite(carb_df['CARB_87Sr/86Sr'])) &\n",
    "                      (carb_df['CARB_si_d']<0.2)].copy()\n",
    "\n",
    "Sr_f_si20_p = carb_df[((carb_df['CARB_Sr_ppm']<Sr_threshold) |\n",
    "                      (carb_df['CARB_Mn/Sr']>MnSr_threshold)) &\n",
    "                      (np.isfinite(carb_df['CARB_87Sr/86Sr'])) &\n",
    "                      (carb_df['CARB_si_d']>=0.2)].copy()\n",
    "\n",
    "Sr_p_si20_f = carb_df[(carb_df['CARB_Sr_ppm']>=Sr_threshold) &\n",
    "                      (carb_df['CARB_Mn/Sr']<=MnSr_threshold) &\n",
    "                      (np.isfinite(carb_df['CARB_87Sr/86Sr'])) &\n",
    "                      (carb_df['CARB_si_d']<0.2)].copy()"
   ]
  },
  {
   "cell_type": "code",
   "execution_count": null,
   "metadata": {},
   "outputs": [],
   "source": [
    "Sr_p_si50_p = carb_df[(carb_df['CARB_Sr_ppm']>=Sr_threshold) &\n",
    "                      (carb_df['CARB_Mn/Sr']<=MnSr_threshold) &\n",
    "                      (np.isfinite(carb_df['CARB_87Sr/86Sr'])) &\n",
    "                      (carb_df['CARB_si_d']>=0.5)].copy()\n",
    "\n",
    "Sr_f_si50_f = carb_df[((carb_df['CARB_Sr_ppm']<Sr_threshold) |\n",
    "                      (carb_df['CARB_Mn/Sr']>MnSr_threshold)) &\n",
    "                      (np.isfinite(carb_df['CARB_87Sr/86Sr'])) &\n",
    "                      (carb_df['CARB_si_d']<0.5)].copy()\n",
    "\n",
    "Sr_f_si50_p = carb_df[((carb_df['CARB_Sr_ppm']<Sr_threshold) |\n",
    "                      (carb_df['CARB_Mn/Sr']>MnSr_threshold)) &\n",
    "                      (np.isfinite(carb_df['CARB_87Sr/86Sr'])) &\n",
    "                      (carb_df['CARB_si_d']>=0.5)].copy()\n",
    "\n",
    "Sr_p_si50_f = carb_df[(carb_df['CARB_Sr_ppm']>=Sr_threshold) &\n",
    "                      (carb_df['CARB_Mn/Sr']<=MnSr_threshold) &\n",
    "                      (np.isfinite(carb_df['CARB_87Sr/86Sr'])) &\n",
    "                      (carb_df['CARB_si_d']<0.5)].copy()"
   ]
  },
  {
   "cell_type": "code",
   "execution_count": null,
   "metadata": {},
   "outputs": [],
   "source": [
    "Mn_p_si20_p = carb_df[(carb_df['CARB_Mn/Sr']<=MnSr_threshold) &\n",
    "                      (np.isfinite(carb_df['CARB_87Sr/86Sr'])) &\n",
    "                      (carb_df['CARB_si_d']>=0.2)].copy()\n",
    "\n",
    "Mn_f_si20_f = carb_df[(carb_df['CARB_Mn/Sr']>MnSr_threshold) &\n",
    "                      (np.isfinite(carb_df['CARB_87Sr/86Sr'])) &\n",
    "                      (carb_df['CARB_si_d']<0.2)].copy()\n",
    "\n",
    "Mn_f_si20_p = carb_df[(carb_df['CARB_Mn/Sr']>MnSr_threshold) &\n",
    "                      (np.isfinite(carb_df['CARB_87Sr/86Sr'])) &\n",
    "                      (carb_df['CARB_si_d']>=0.2)].copy()\n",
    "\n",
    "Mn_p_si20_f = carb_df[(carb_df['CARB_Mn/Sr']<=MnSr_threshold) &\n",
    "                      (np.isfinite(carb_df['CARB_87Sr/86Sr'])) &\n",
    "                      (carb_df['CARB_si_d']<0.2)].copy()"
   ]
  },
  {
   "cell_type": "code",
   "execution_count": null,
   "metadata": {},
   "outputs": [],
   "source": [
    "Mn_p_si50_p = carb_df[(carb_df['CARB_Mn/Sr']<=MnSr_threshold) &\n",
    "                      (np.isfinite(carb_df['CARB_87Sr/86Sr'])) &\n",
    "                      (carb_df['CARB_si_d']>=0.5)].copy()\n",
    "\n",
    "Mn_f_si50_f = carb_df[(carb_df['CARB_Mn/Sr']>MnSr_threshold) &\n",
    "                      (np.isfinite(carb_df['CARB_87Sr/86Sr'])) &\n",
    "                      (carb_df['CARB_si_d']<0.5)].copy()\n",
    "\n",
    "Mn_f_si50_p = carb_df[(carb_df['CARB_Mn/Sr']>MnSr_threshold) &\n",
    "                      (np.isfinite(carb_df['CARB_87Sr/86Sr'])) &\n",
    "                      (carb_df['CARB_si_d']>=0.5)].copy()\n",
    "\n",
    "Mn_p_si50_f = carb_df[(carb_df['CARB_Mn/Sr']<=MnSr_threshold) &\n",
    "                      (np.isfinite(carb_df['CARB_87Sr/86Sr'])) &\n",
    "                      (carb_df['CARB_si_d']<0.5)].copy()"
   ]
  },
  {
   "cell_type": "code",
   "execution_count": null,
   "metadata": {},
   "outputs": [],
   "source": [
    "fig, ax = plt.subplots(nrows=2, ncols=2, figsize=(10,10))\n",
    "\n",
    "ax = ax.flatten()\n",
    "\n",
    "# ax0\n",
    "\n",
    "labels = ['excluded\\nby both', 'excluded\\nby neither',\n",
    "          'excluded by\\n$d$ filter only', 'excluded by\\n[Sr] and Mn/Sr\\nfilter only']\n",
    "\n",
    "sizes = [len(Sr_f_si20_f), len(Sr_p_si20_p),\n",
    "         len(Sr_p_si20_f), len(Sr_f_si20_p)]\n",
    "\n",
    "colors = ['C1', 'C1', 'C7', 'C7']\n",
    "\n",
    "explode = (0.05, 0.05, 0.05, 0.05)\n",
    "\n",
    "def func(pct, allvals):\n",
    "    absolute = int(pct/100.*np.sum(allvals))\n",
    "    return \"{:.1f}%\\n(n={:d})\".format(pct, absolute)\n",
    "\n",
    "ax[0].pie(sizes, explode=explode, labels=labels, colors=colors, autopct=lambda pct: func(pct, sizes),\n",
    "       shadow=True, startangle=90)\n",
    "ax[0].axis('equal')\n",
    "ax[0].set_title('[Sr] and Mn/Sr filter\\n$d$ threshold = 0.2 m',fontweight='bold')\n",
    "\n",
    "# ax1\n",
    "\n",
    "sizes = [len(Sr_f_si50_f), len(Sr_p_si50_p),\n",
    "         len(Sr_p_si50_f), len(Sr_f_si50_p)]\n",
    "\n",
    "ax[1].pie(sizes, explode=explode, labels=labels, colors=colors, autopct=lambda pct: func(pct, sizes),\n",
    "       shadow=True, startangle=90)\n",
    "ax[1].axis('equal')\n",
    "ax[1].set_title('[Sr] and Mn/Sr filter\\n$d$ threshold = 0.5 m',fontweight='bold')\n",
    "\n",
    "# ax2\n",
    "\n",
    "labels = ['excluded\\nby both', 'excluded\\nby neither',\n",
    "          'excluded by\\n$d$ filter only', 'excluded by\\nMn/Sr filter only']\n",
    "\n",
    "sizes = [len(Mn_f_si20_f), len(Mn_p_si20_p),\n",
    "         len(Mn_p_si20_f), len(Mn_f_si20_p)]\n",
    "\n",
    "ax[2].pie(sizes, explode=explode, labels=labels, colors=colors, autopct=lambda pct: func(pct, sizes),\n",
    "       shadow=True, startangle=90)\n",
    "ax[2].axis('equal')\n",
    "ax[2].set_title('Mn/Sr filter only\\n$d$ threshold = 0.2 m',fontweight='bold')\n",
    "\n",
    "#ax3\n",
    "\n",
    "sizes = [len(Mn_f_si50_f), len(Mn_p_si50_p),\n",
    "         len(Mn_p_si50_f), len(Mn_f_si50_p)]\n",
    "\n",
    "ax[3].pie(sizes, explode=explode, labels=labels, colors=colors, autopct=lambda pct: func(pct, sizes),\n",
    "       shadow=True, startangle=90)\n",
    "ax[3].axis('equal')\n",
    "ax[3].set_title('Mn/Sr filter only\\n$d$ threshold = 0.5 m',fontweight='bold')\n",
    "\n",
    "fig.subplots_adjust(wspace=0.5)\n",
    "#plt.savefig('../../Manuscript/Figures/Filter_Comparison.pdf', bbox_inches='tight')\n",
    "\n",
    "plt.show()"
   ]
  },
  {
   "cell_type": "markdown",
   "metadata": {},
   "source": [
    "## Output Data\n",
    "\n",
    "Clean up the data and output:"
   ]
  },
  {
   "cell_type": "code",
   "execution_count": null,
   "metadata": {},
   "outputs": [],
   "source": [
    "# pull out critical columns and rename\n",
    "output_df = pd.DataFrame({'section':carb_df['section'],\n",
    "                          'section_height':carb_df['CARB_HEIGHT'],\n",
    "                          'd13C':carb_df['CARB_d13C'],\n",
    "                          'd13C_std':carb_df['CARB_d13C_std'],\n",
    "                          'd18O':carb_df['CARB_d18O'],\n",
    "                          'd18O_std':carb_df['CARB_d18O_std'],\n",
    "                          'strat_m':carb_df['cum_CARB_HEIGHT'],\n",
    "                          'mts_mtx':carb_df['CARB_mts_mtx'],\n",
    "                          'si_d':carb_df['CARB_si_d'],\n",
    "                          'd44_40Ca':carb_df['CARB_d44_40Ca'],\n",
    "                          '87Sr/86Sr':carb_df['CARB_87Sr/86Sr'],\n",
    "                          'Ca_ppm':carb_df['CARB_Ca_ppm'],\n",
    "                          'Mg_ppm':carb_df['CARB_Mg_ppm'],\n",
    "                          'Al_ppm':carb_df['CARB_Al_ppm'],\n",
    "                          'Fe_ppm':carb_df['CARB_Fe_ppm'],\n",
    "                          'K_ppm':carb_df['CARB_K_ppm'],\n",
    "                          'Mn_ppm':carb_df['CARB_Mn_ppm'],\n",
    "                          'Na_ppm':carb_df['CARB_Na_ppm'],\n",
    "                          'Sr_ppm':carb_df['CARB_Sr_ppm']})\n",
    "\n",
    "# sort\n",
    "output_df.sort_values(by=['section','section_height'],inplace=True)\n",
    "output_df.reset_index(inplace=True,drop=True)\n",
    "\n",
    "# round the data\n",
    "output_df['d13C'] = np.round(output_df['d13C'],2)\n",
    "output_df['d13C_std'] = np.round(output_df['d13C_std'].astype('float'),4)\n",
    "output_df['d18O'] = np.round(output_df['d18O'],2)\n",
    "output_df['d18O_std'] = np.round(output_df['d18O_std'].astype('float'),4)\n",
    "output_df['strat_m'] = np.round(output_df['strat_m'],2)\n",
    "output_df['si_d'] = np.round(output_df['si_d'],2)\n",
    "output_df['d44_40Ca'] = np.round(output_df['d44_40Ca'],5)\n",
    "output_df['87Sr/86Sr'] = np.round(output_df['87Sr/86Sr'],5)\n",
    "output_df['Ca_ppm'] = np.round(output_df['Ca_ppm'],0)\n",
    "output_df['Mg_ppm'] = np.round(output_df['Mg_ppm'],0)\n",
    "output_df['Al_ppm'] = np.round(output_df['Al_ppm'],0)\n",
    "output_df['Fe_ppm'] = np.round(output_df['Fe_ppm'],0)\n",
    "output_df['K_ppm'] = np.round(output_df['K_ppm'],0)\n",
    "output_df['Mn_ppm'] = np.round(output_df['Mn_ppm'],0)\n",
    "output_df['Na_ppm'] = np.round(output_df['Na_ppm'],0)\n",
    "output_df['Sr_ppm'] = np.round(output_df['Sr_ppm'],0)\n",
    "\n",
    "# re-order the columns\n",
    "output_df_cols = ['section','section_height','d13C','d13C_std','d18O','d18O_std','strat_m','mts_mtx','si_d','d44_40Ca',\n",
    "                  '87Sr/86Sr','Ca_ppm','Mg_ppm','Al_ppm','Fe_ppm','K_ppm','Mn_ppm','Na_ppm','Sr_ppm']\n",
    "output_df = output_df[output_df_cols]\n",
    "\n",
    "# write\n",
    "output_df.to_csv('../../Chemostratigraphy/Data/Composite_Data/Tambien.csv', index=False)"
   ]
  },
  {
   "cell_type": "markdown",
   "metadata": {},
   "source": [
    "## Inspect the Composite"
   ]
  },
  {
   "cell_type": "code",
   "execution_count": null,
   "metadata": {},
   "outputs": [],
   "source": [
    "source = ColumnDataSource(data=dict(d13C = output_df['d13C'],\n",
    "                                    strat_m = output_df['strat_m'],\n",
    "                                    section = output_df['section'],))\n",
    "\n",
    "hover = HoverTool(tooltips=[\n",
    "    ('strat. height', '@strat_m{0.2}'),\n",
    "    ('section', '@section'),\n",
    "])\n",
    "\n",
    "p = figure(plot_width=900, plot_height=300, tools=[hover, PanTool(), BoxZoomTool(), ResetTool(), WheelZoomTool()],\n",
    "           x_axis_label='stratigraphic height [m]', y_axis_label='\\u03B4 C')\n",
    "\n",
    "p.circle('strat_m', 'd13C', size=4, source=source)\n",
    "\n",
    "show(p)"
   ]
  },
  {
   "cell_type": "markdown",
   "metadata": {},
   "source": [
    "## Diamictite Clasts"
   ]
  },
  {
   "cell_type": "code",
   "execution_count": null,
   "metadata": {},
   "outputs": [],
   "source": [
    "def plot_clast_data(clasts):\n",
    "    \"\"\"\n",
    "    Plot clast data.\n",
    "    \n",
    "    Args:\n",
    "        - clasts (dataframe): dataframe of clast data\n",
    "        \n",
    "    Returns:\n",
    "        - fig (figure): figure handle\n",
    "        - ax (axes): axes handles\n",
    "    \"\"\"\n",
    "    # get rid of the NaN data\n",
    "    clasts_d13C = clasts['d13C'][~np.isnan(clasts['d13C'])]\n",
    "    clasts_d18O = clasts['d18O'][~np.isnan(clasts['d18O'])]\n",
    "\n",
    "    # plot\n",
    "    fig, ax = plt.subplots(1, 3, figsize=(15,4))\n",
    "\n",
    "    ax[0].scatter(clasts['d13C'],clasts['d18O'])\n",
    "    ax[0].set_xlabel('$\\delta^{13}C$')\n",
    "    ax[0].set_ylabel('$\\delta^{18}O$')\n",
    "    ax[0].grid(ls='--')\n",
    "\n",
    "    ax[1].hist(clasts_d13C, bins=10, normed=True)\n",
    "    ax[1].set_ylabel('normalized n')\n",
    "    ax[1].set_xlabel('$\\delta^{13}C$')\n",
    "    ax[1].set_xlim(-12,10)\n",
    "    ax[1].text(0.9, 0.95, 'n = ' + str(len(clasts_d13C)),\n",
    "               horizontalalignment='center', verticalalignment='center', transform=ax[1].transAxes)\n",
    "\n",
    "    ax[2].hist(clasts_d18O, bins=10, normed=True)\n",
    "    ax[2].set_xlabel('$\\delta^{18}O$')\n",
    "    ax[2].set_ylabel('normalized n')\n",
    "    ax[2].set_xlim(-20,5)\n",
    "    ax[2].text(0.9, 0.95, 'n = ' + str(len(clasts_d18O)),\n",
    "               horizontalalignment='center', verticalalignment='center', transform=ax[2].transAxes)\n",
    "    \n",
    "    # make the ylim consistent between the two histograms\n",
    "    d13C_ylim = ax[1].get_ylim()\n",
    "    d18O_ylim = ax[2].get_ylim()\n",
    "    if d13C_ylim[1] > d18O_ylim[1]:\n",
    "        hist_ylim = d13C_ylim\n",
    "    else:\n",
    "        hist_ylim = d18O_ylim\n",
    "    ax[1].set_ylim(hist_ylim)\n",
    "    ax[2].set_ylim(hist_ylim)\n",
    "    \n",
    "    fig.subplots_adjust(wspace=0.3)\n",
    "    \n",
    "    return fig, ax"
   ]
  },
  {
   "cell_type": "markdown",
   "metadata": {},
   "source": [
    "### Negash"
   ]
  },
  {
   "cell_type": "code",
   "execution_count": null,
   "metadata": {},
   "outputs": [],
   "source": [
    "fig, ax = plot_clast_data(Negash_Clasts)\n",
    "plt.show(fig)"
   ]
  },
  {
   "cell_type": "markdown",
   "metadata": {},
   "source": [
    "### Samre\n",
    "\n",
    "All the clast data:"
   ]
  },
  {
   "cell_type": "code",
   "execution_count": null,
   "metadata": {},
   "outputs": [],
   "source": [
    "fig, ax = plot_clast_data(Samre_Clasts)\n",
    "plt.show(fig)"
   ]
  },
  {
   "cell_type": "markdown",
   "metadata": {},
   "source": [
    "Just clasts from the top (~180m upwards in T47):"
   ]
  },
  {
   "cell_type": "code",
   "execution_count": null,
   "metadata": {},
   "outputs": [],
   "source": [
    "Samre_Clasts_top = Samre_Clasts[Samre_Clasts['strat_height']==180].copy()\n",
    "Samre_Clasts_top.reset_index(drop=True, inplace=True)\n",
    "\n",
    "fig, ax = plot_clast_data(Samre_Clasts_top)\n",
    "plt.show(fig)"
   ]
  },
  {
   "cell_type": "markdown",
   "metadata": {},
   "source": [
    "Just clasts from the bottom (~70-90m in T47):"
   ]
  },
  {
   "cell_type": "code",
   "execution_count": null,
   "metadata": {},
   "outputs": [],
   "source": [
    "Samre_Clasts_bot = Samre_Clasts[Samre_Clasts['strat_height']==80].copy()\n",
    "Samre_Clasts_bot.reset_index(drop=True, inplace=True)\n",
    "\n",
    "fig, ax = plot_clast_data(Samre_Clasts_bot)\n",
    "plt.show(fig)"
   ]
  },
  {
   "cell_type": "markdown",
   "metadata": {},
   "source": [
    "### Together"
   ]
  },
  {
   "cell_type": "code",
   "execution_count": null,
   "metadata": {},
   "outputs": [],
   "source": [
    "# get rid of the nan data\n",
    "Negash_Clasts_d13C = Negash_Clasts['d13C'][~np.isnan(Negash_Clasts['d13C'])]\n",
    "Negash_Clasts_d18O = Negash_Clasts['d18O'][~np.isnan(Negash_Clasts['d18O'])]\n",
    "\n",
    "Samre_Clasts_bot_d13C = Samre_Clasts_bot['d13C'][~np.isnan(Samre_Clasts_bot['d13C'])]\n",
    "Samre_Clasts_bot_d18O = Samre_Clasts_bot['d18O'][~np.isnan(Samre_Clasts_bot['d18O'])]\n",
    "\n",
    "Samre_Clasts_top_d13C = Samre_Clasts_top['d13C'][~np.isnan(Samre_Clasts_top['d13C'])]\n",
    "Samre_Clasts_top_d18O = Samre_Clasts_top['d18O'][~np.isnan(Samre_Clasts_top['d18O'])]      \n",
    "\n",
    "# plot\n",
    "fig, ax = plt.subplots(1, 3, figsize=(14,4))\n",
    "\n",
    "tick_fontsize = 12\n",
    "label_fontsize = 14\n",
    "letter_fontsize = 18\n",
    "\n",
    "bins = np.linspace(-15,10,20)\n",
    "ax[0].hist([Negash_Clasts_d13C, Samre_Clasts_bot_d13C, Samre_Clasts_top_d13C],\n",
    "           label=['Negash (n='+str(len(Negash_Clasts_d18O))+')',\n",
    "                  'Samre - lower (n='+str(len(Samre_Clasts_bot_d18O))+')',\n",
    "                  'Samre - upper (n='+str(len(Samre_Clasts_top_d18O))+')'],\n",
    "           bins=bins,histtype='barstacked',normed=True)\n",
    "ax[0].set_ylabel('normalized n', fontsize=label_fontsize)\n",
    "ax[0].set_xlabel('$\\delta^{13}$C', fontsize=label_fontsize)\n",
    "ax[0].set_xlim(-7.5,7.5)\n",
    "ax[0].set_ylim(0,0.4)\n",
    "ax[0].tick_params(labelsize=tick_fontsize)\n",
    "ax[0].legend(loc=2, fontsize=12)\n",
    "ax[0].text(0.93, 0.91, 'A', fontweight='bold', fontsize=letter_fontsize,\n",
    "           horizontalalignment='center',verticalalignment='center',transform=ax[0].transAxes)\n",
    "\n",
    "bins = np.linspace(-15,10,20)\n",
    "ax[1].hist([Negash_Clasts_d18O, Samre_Clasts_bot_d18O, Samre_Clasts_top_d18O],\n",
    "           label=['Negash (n='+str(len(Negash_Clasts_d18O))+')',\n",
    "                  'Samre - lower (n='+str(len(Samre_Clasts_bot_d18O))+')',\n",
    "                  'Samre - upper (n='+str(len(Samre_Clasts_top_d18O))+')'],\n",
    "           bins=bins,histtype='barstacked',normed=True)\n",
    "ax[1].set_xlabel('$\\delta^{18}$O', fontsize=label_fontsize)\n",
    "ax[1].set_xlim(-15,5)\n",
    "ax[1].set_xticks([-15,-10,-5,0,5])\n",
    "ax[1].set_ylim(0,0.4)\n",
    "ax[1].set_yticklabels([])\n",
    "ax[1].tick_params(labelsize=tick_fontsize)\n",
    "ax[1].text(0.93, 0.91, 'B', fontweight='bold', fontsize=letter_fontsize,\n",
    "           horizontalalignment='center',verticalalignment='center',transform=ax[1].transAxes)\n",
    "\n",
    "ax[2].scatter(Negash_Clasts_d13C, Negash_Clasts_d18O, c='C0')\n",
    "ax[2].scatter(Samre_Clasts_bot_d13C, Samre_Clasts_bot_d18O, c='C1')\n",
    "ax[2].scatter(Samre_Clasts_top_d13C, Samre_Clasts_top_d18O, c='C2')\n",
    "ax[2].set_xlabel('$\\delta^{13}$C', fontsize=label_fontsize)\n",
    "ax[2].set_ylabel('$\\delta^{18}$O', rotation=270, labelpad=20, fontsize=label_fontsize)\n",
    "ax[2].yaxis.tick_right()\n",
    "ax[2].yaxis.set_label_position('right')\n",
    "ax[2].tick_params(labelsize=tick_fontsize)\n",
    "ax[2].text(0.93, 0.91, 'C', fontweight='bold', fontsize=letter_fontsize,\n",
    "           horizontalalignment='center',verticalalignment='center',transform=ax[2].transAxes)\n",
    "\n",
    "plt.show(fig)"
   ]
  },
  {
   "cell_type": "code",
   "execution_count": null,
   "metadata": {},
   "outputs": [],
   "source": [
    "all_Clasts_d13C = np.concatenate([Negash_Clasts_d13C,Samre_Clasts_bot_d13C,Samre_Clasts_top_d13C])\n",
    "all_Clasts_d18O = np.concatenate([Negash_Clasts_d18O,Samre_Clasts_bot_d18O,Samre_Clasts_top_d18O])"
   ]
  },
  {
   "cell_type": "markdown",
   "metadata": {},
   "source": [
    "### Erosion Analysis"
   ]
  },
  {
   "cell_type": "markdown",
   "metadata": {},
   "source": [
    "All unfiltered data:"
   ]
  },
  {
   "cell_type": "code",
   "execution_count": null,
   "metadata": {},
   "outputs": [],
   "source": [
    "# plot\n",
    "fig, ax = plt.subplots(1, 3, figsize=(14,4))\n",
    "\n",
    "tick_fontsize = 12\n",
    "label_fontsize = 14\n",
    "letter_fontsize = 18\n",
    "\n",
    "bins = np.linspace(-15,10,20)\n",
    "ax[0].hist([Negash_Clasts_d13C, Samre_Clasts_bot_d13C, Samre_Clasts_top_d13C],\n",
    "           label=['Negash (n='+str(len(Negash_Clasts_d18O))+')',\n",
    "                  'Samre - lower (n='+str(len(Samre_Clasts_bot_d18O))+')',\n",
    "                  'Samre - upper (n='+str(len(Samre_Clasts_top_d18O))+')'],\n",
    "           bins=bins,histtype='barstacked',normed=True)\n",
    "ax[0].hist(carb_df[np.isfinite(carb_df['CARB_d13C'])]['CARB_d13C'],label='stratigraphy',\n",
    "           bins=bins,histtype='step',normed=True,color='grey',linewidth=3)\n",
    "ax[0].set_ylabel('normalized n', fontsize=label_fontsize)\n",
    "ax[0].set_xlabel('$\\delta^{13}$C', fontsize=label_fontsize)\n",
    "ax[0].set_xlim(-7.5,7.5)\n",
    "ax[0].set_ylim(0,0.4)\n",
    "ax[0].tick_params(labelsize=tick_fontsize)\n",
    "ax[0].legend(loc=2, fontsize=12)\n",
    "ax[0].text(0.93, 0.91, 'A', fontweight='bold', fontsize=letter_fontsize,\n",
    "           horizontalalignment='center',verticalalignment='center',transform=ax[0].transAxes)\n",
    "\n",
    "bins = np.linspace(-15,10,20)\n",
    "ax[1].hist([Negash_Clasts_d18O, Samre_Clasts_bot_d18O, Samre_Clasts_top_d18O],\n",
    "           label=['Negash (n='+str(len(Negash_Clasts_d18O))+')',\n",
    "                  'Samre - lower (n='+str(len(Samre_Clasts_bot_d18O))+')',\n",
    "                  'Samre - upper (n='+str(len(Samre_Clasts_top_d18O))+')'],\n",
    "           bins=bins,histtype='barstacked',normed=True)\n",
    "ax[1].hist(carb_df[np.isfinite(carb_df['CARB_d18O'])]['CARB_d18O'],label='stratigraphy',\n",
    "           bins=bins,histtype='step',normed=True,color='grey',linewidth=3)\n",
    "ax[1].set_xlabel('$\\delta^{18}$O', fontsize=label_fontsize)\n",
    "ax[1].set_xlim(-15,5)\n",
    "ax[1].set_xticks([-15,-10,-5,0,5])\n",
    "ax[1].set_ylim(0,0.4)\n",
    "ax[1].set_yticklabels([])\n",
    "ax[1].tick_params(labelsize=tick_fontsize)\n",
    "ax[1].text(0.93, 0.91, 'B', fontweight='bold', fontsize=letter_fontsize,\n",
    "           horizontalalignment='center',verticalalignment='center',transform=ax[1].transAxes)\n",
    "\n",
    "ax[2].scatter(carb_df['CARB_d13C'], carb_df['CARB_d18O'], c='grey', alpha=0.2)\n",
    "ax[2].scatter(Negash_Clasts_d13C, Negash_Clasts_d18O, c='C0')\n",
    "ax[2].scatter(Samre_Clasts_bot_d13C, Samre_Clasts_bot_d18O, c='C1')\n",
    "ax[2].scatter(Samre_Clasts_top_d13C, Samre_Clasts_top_d18O, c='C2')\n",
    "ax[2].set_xlabel('$\\delta^{13}$C', fontsize=label_fontsize)\n",
    "ax[2].set_ylabel('$\\delta^{18}$O', rotation=270, labelpad=20, fontsize=label_fontsize)\n",
    "ax[2].set_ylim(-20,10)\n",
    "ax[2].set_xlim(-15,10)\n",
    "ax[2].yaxis.tick_right()\n",
    "ax[2].yaxis.set_label_position('right')\n",
    "ax[2].tick_params(labelsize=tick_fontsize)\n",
    "ax[2].text(0.93, 0.91, 'C', fontweight='bold', fontsize=letter_fontsize,\n",
    "           horizontalalignment='center',verticalalignment='center',transform=ax[2].transAxes)\n",
    "\n",
    "#plt.savefig('../../Manuscript/Figures/Clast_Analysis.pdf', bbox_inches='tight')\n",
    "\n",
    "plt.show(fig)"
   ]
  },
  {
   "cell_type": "markdown",
   "metadata": {},
   "source": [
    "All filtered data:"
   ]
  },
  {
   "cell_type": "code",
   "execution_count": null,
   "metadata": {},
   "outputs": [],
   "source": [
    "fig, ax = plt.subplots(1, 3, figsize=(14,4))\n",
    "\n",
    "bins = np.linspace(-15,10,20)\n",
    "ax[0].hist([Negash_Clasts_d13C, Samre_Clasts_bot_d13C, Samre_Clasts_top_d13C],\n",
    "           label=['Negash (n='+str(len(Negash_Clasts_d18O))+')',\n",
    "                  'Samre - lower (n='+str(len(Samre_Clasts_bot_d18O))+')',\n",
    "                  'Samre - upper (n='+str(len(Samre_Clasts_top_d18O))+')'],\n",
    "           bins=bins,histtype='barstacked',normed=True)\n",
    "ax[0].hist(carb_df[(np.isfinite(carb_df['CARB_d13C']))&(carb_df['CARB_thresh_sel'])]['CARB_d13C'],label='stratigraphy',\n",
    "           bins=bins,histtype='step',normed=True,color='grey',linewidth=3)\n",
    "ax[0].set_ylabel('normalized n')\n",
    "ax[0].set_xlabel('$\\delta^{13}$C')\n",
    "ax[0].set_ylim(0,0.4)\n",
    "ax[0].legend(loc=2)\n",
    "\n",
    "bins = np.linspace(-20,10,20)\n",
    "ax[1].hist([Negash_Clasts_d18O, Samre_Clasts_bot_d18O, Samre_Clasts_top_d18O],\n",
    "           label=['Negash (n='+str(len(Negash_Clasts_d18O))+')',\n",
    "                  'Samre - lower (n='+str(len(Samre_Clasts_bot_d18O))+')',\n",
    "                  'Samre - upper (n='+str(len(Samre_Clasts_top_d18O))+')'],\n",
    "           bins=bins,histtype='barstacked',normed=True)\n",
    "ax[1].hist(carb_df[(np.isfinite(carb_df['CARB_d18O']))&(carb_df['CARB_thresh_sel'])]['CARB_d18O'],label='stratigraphy',\n",
    "           bins=bins,histtype='step',normed=True,color='grey',linewidth=3)\n",
    "ax[1].set_xlabel('$\\delta^{18}$O')\n",
    "ax[1].set_ylim(0,0.4)\n",
    "ax[1].set_yticklabels([])\n",
    "\n",
    "ax[2].scatter(carb_df[carb_df['CARB_thresh_sel']]['CARB_d13C'],\n",
    "              carb_df[carb_df['CARB_thresh_sel']]['CARB_d18O'], c='grey', alpha=0.2)\n",
    "ax[2].scatter(Negash_Clasts_d13C, Negash_Clasts_d18O, c='C0')\n",
    "ax[2].scatter(Samre_Clasts_bot_d13C, Samre_Clasts_bot_d18O, c='C1')\n",
    "ax[2].scatter(Samre_Clasts_top_d13C, Samre_Clasts_top_d18O, c='C2')\n",
    "ax[2].set_xlabel('$\\delta^{13}$C')\n",
    "ax[2].set_ylabel('$\\delta^{18}$O', rotation=270, labelpad=20)\n",
    "ax[2].yaxis.tick_right()\n",
    "ax[2].yaxis.set_label_position('right')\n",
    "ax[2].set_ylim(-20,10)\n",
    "ax[2].set_xlim(-15,10)\n",
    "\n",
    "plt.show(fig)"
   ]
  },
  {
   "cell_type": "code",
   "execution_count": null,
   "metadata": {},
   "outputs": [],
   "source": [
    "print('min height = ' + str(np.min(carb_df[np.isfinite(carb_df['CARB_d13C'])]['cum_CARB_HEIGHT'])))\n",
    "print('max height = ' + str(np.max(carb_df[np.isfinite(carb_df['CARB_d13C'])]['cum_CARB_HEIGHT'])))"
   ]
  },
  {
   "cell_type": "code",
   "execution_count": null,
   "metadata": {},
   "outputs": [],
   "source": [
    "# test all erosion heights, and run Monte Carlo 1000 times\n",
    "pval_start_height = -500\n",
    "pval_end_height = 4450\n",
    "n = 1000\n",
    "increment = 50\n",
    "pval_heights = np.arange(pval_start_height, pval_end_height+increment, increment)\n",
    "\n",
    "Tambien_d13C = np.array([])\n",
    "Tambien_height = np.array([])\n",
    "Tambien_d13C_filtered = np.array([])\n",
    "Tambien_height_filtered = np.array([])\n",
    "\n",
    "for i in range(len(carb_df.index)):\n",
    "    # make sure we are getting rid of any NaN cells\n",
    "    if (np.isfinite(carb_df['CARB_d13C'][i])) and\\\n",
    "       (np.isfinite(carb_df['CARB_d18O'][i])) and\\\n",
    "       (carb_df['CARB_thresh_sel'][i]):\n",
    "        Tambien_d13C_filtered = np.append(Tambien_d13C_filtered, carb_df['CARB_d13C'][i])\n",
    "        Tambien_height_filtered = np.append(Tambien_height_filtered, carb_df['cum_CARB_HEIGHT'][i])\n",
    "    if (np.isfinite(carb_df['CARB_d13C'][i])) and\\\n",
    "       (np.isfinite(carb_df['CARB_d18O'][i])):\n",
    "        Tambien_d13C = np.append(Tambien_d13C, carb_df['CARB_d13C'][i])\n",
    "        Tambien_height = np.append(Tambien_height, carb_df['cum_CARB_HEIGHT'][i])\n",
    "        \n",
    "# get the window thickness and number\n",
    "n_windows = len(pval_heights)\n",
    "window_thickness = increment\n",
    "n_windows_filtered = len(pval_heights)\n",
    "window_thickness_filtered = increment\n",
    "\n",
    "# create lists that hold arrays for each window\n",
    "Tambien_d13C_windows = []\n",
    "Tambien_height_windows = []\n",
    "Tambien_d13C_filtered_windows = []\n",
    "Tambien_height_filtered_windows = []\n",
    "\n",
    "# initiate counting of window bottom and top (with a small buffer on the bottom to include all samples)\n",
    "window_bot = pval_start_height\n",
    "window_top = window_bot + window_thickness\n",
    "# loop over the windows\n",
    "for i in range(n_windows):\n",
    "    # pull out the indices for this window\n",
    "    window_inds = np.where((Tambien_height>window_bot) & (Tambien_height<=window_top))\n",
    "    # pull out the data and store\n",
    "    Tambien_d13C_windows.append(Tambien_d13C[window_inds[0]])\n",
    "    Tambien_height_windows.append(Tambien_height[window_inds[0]])\n",
    "    # tick the window bottom and top\n",
    "    window_bot = window_top\n",
    "    window_top = window_top + window_thickness\n",
    "    \n",
    "# initiate counting of window bottom and top (with a small buffer on the bottom to include all samples)\n",
    "window_bot = pval_start_height\n",
    "window_top = window_bot + window_thickness_filtered\n",
    "# loop over the windows\n",
    "for i in range(n_windows_filtered):\n",
    "    # pull out the indices for this window\n",
    "    window_inds = np.where((Tambien_height_filtered>window_bot) & (Tambien_height_filtered<=window_top))\n",
    "    # pull out the data and store\n",
    "    Tambien_d13C_filtered_windows.append(Tambien_d13C_filtered[window_inds[0]])\n",
    "    Tambien_height_filtered_windows.append(Tambien_height_filtered[window_inds[0]])\n",
    "    # tick the window bottom and top\n",
    "    window_bot = window_top\n",
    "    window_top = window_top + window_thickness_filtered\n",
    "    \n",
    "# create lists that hold MC sampled arrays for each window\n",
    "Tambien_d13C_sampled_windows = []\n",
    "Tambien_height_sampled_windows = []\n",
    "Tambien_d13C_filtered_sampled_windows = []\n",
    "Tambien_height_filtered_sampled_windows = []\n",
    "    \n",
    "# Monte Carlo sample\n",
    "for i in range(n_windows):\n",
    "    d13C_sampled = np.array([])\n",
    "    height_sampled = np.array([])\n",
    "    if len(Tambien_d13C_windows[i])>0:\n",
    "        for j in range(n):\n",
    "            selected_ind = np.random.choice(len(Tambien_d13C_windows[i]))\n",
    "            d13C_sampled = np.append(d13C_sampled, Tambien_d13C_windows[i][selected_ind])\n",
    "            height_sampled = np.append(height_sampled, Tambien_height_windows[i][selected_ind])\n",
    "    Tambien_d13C_sampled_windows.append(d13C_sampled)\n",
    "    Tambien_height_sampled_windows.append(height_sampled)\n",
    "    \n",
    "# Monte Carlo sample\n",
    "for i in range(n_windows_filtered):\n",
    "    d13C_sampled = np.array([])\n",
    "    height_sampled = np.array([])\n",
    "    if len(Tambien_d13C_filtered_windows[i])>0:\n",
    "        for j in range(n):\n",
    "            selected_ind = np.random.choice(len(Tambien_d13C_filtered_windows[i]))\n",
    "            d13C_sampled = np.append(d13C_sampled, Tambien_d13C_filtered_windows[i][selected_ind])\n",
    "            height_sampled = np.append(height_sampled, Tambien_height_filtered_windows[i][selected_ind])\n",
    "    Tambien_d13C_filtered_sampled_windows.append(d13C_sampled)\n",
    "    Tambien_height_filtered_sampled_windows.append(height_sampled)\n",
    "    \n",
    "KSstats = np.array([])\n",
    "pvals = np.array([])\n",
    "KSstats_filtered = np.array([])\n",
    "pvals_filtered = np.array([])\n",
    "    \n",
    "# KS\n",
    "for i in range(n_windows):\n",
    "    this_d13C = np.concatenate(Tambien_d13C_sampled_windows[i:])\n",
    "    d13C_stat, d13C_pval = stats.ks_2samp(this_d13C, all_Clasts_d13C)\n",
    "    KSstats = np.append(KSstats, d13C_stat)\n",
    "    pvals = np.append(pvals, d13C_pval)\n",
    "    \n",
    "for i in range(n_windows_filtered):\n",
    "    this_d13C = np.concatenate(Tambien_d13C_filtered_sampled_windows[i:])\n",
    "    d13C_stat, d13C_pval = stats.ks_2samp(this_d13C, all_Clasts_d13C)\n",
    "    KSstats_filtered = np.append(KSstats_filtered, d13C_stat)\n",
    "    pvals_filtered = np.append(pvals_filtered, d13C_pval)\n",
    "    \n",
    "print('mean of all clasts                         = ' + str(np.mean(all_Clasts_d13C)))\n",
    "print('mean of MC sampled stratigraphy (all)      = ' + str(np.mean(np.concatenate(Tambien_d13C_sampled_windows))))\n",
    "print('mean of MC sampled stratigraphy (filtered) = ' + str(np.mean(np.concatenate(Tambien_d13C_sampled_windows))))"
   ]
  },
  {
   "cell_type": "code",
   "execution_count": null,
   "metadata": {},
   "outputs": [],
   "source": [
    "fig, ax = plt.subplots(figsize=(8,3))\n",
    "\n",
    "ax.plot(pval_heights, pvals, '+-', c='C0', label='unfiltered')\n",
    "ax.plot(pval_heights, pvals_filtered, '+-', c='C1', label='filtered')\n",
    "ax.set_ylabel('p value')\n",
    "ax.set_xlabel('erosion height [m]')\n",
    "ax.legend()\n",
    "ax.grid(ls='--')\n",
    "\n",
    "plt.show(fig)"
   ]
  },
  {
   "cell_type": "code",
   "execution_count": null,
   "metadata": {
    "scrolled": false
   },
   "outputs": [],
   "source": [
    "# set up the figure and gridspec\n",
    "fig = plt.figure(figsize=(15,12))\n",
    "\n",
    "gs = gridspec.GridSpec(116,100)\n",
    "ax0 = plt.subplot(gs[0:30,0:22])\n",
    "ax1 = plt.subplot(gs[0:30,26:48])\n",
    "ax2 = plt.subplot(gs[0:30,52:74])\n",
    "ax3 = plt.subplot(gs[0:30,78:100])\n",
    "ax4 = plt.subplot(gs[42:64,:])\n",
    "ax5 = plt.subplot(gs[68:90,:])\n",
    "ax6 = plt.subplot(gs[94:116,:])\n",
    "\n",
    "ax = [ax0, ax1, ax2, ax3, ax4, ax5, ax6]\n",
    "\n",
    "bins = np.linspace(-15,10,20)\n",
    "ax[0].hist([Negash_Clasts_d13C, Samre_Clasts_bot_d13C, Samre_Clasts_top_d13C],\n",
    "           label=['Negash (n='+str(len(Negash_Clasts_d18O))+')',\n",
    "                  'Samre - lower (n='+str(len(Samre_Clasts_bot_d18O))+')',\n",
    "                  'Samre - upper (n='+str(len(Samre_Clasts_top_d18O))+')'],\n",
    "           bins=bins,histtype='barstacked',normed=True,color=['C0','C2','C3'])\n",
    "ax[0].hist(carb_df[np.isfinite(carb_df['CARB_d13C'])]['CARB_d13C'],\n",
    "           label='strat. - all',bins=bins,histtype='step',normed=True,color='C7',linewidth=3)\n",
    "ax[0].hist(carb_df[(np.isfinite(carb_df['CARB_d13C']))&(carb_df['CARB_thresh_sel'])]['CARB_d13C'],\n",
    "           label='strat. - filtered',bins=bins,histtype='step',normed=True,color='C1',linewidth=3)\n",
    "ax[0].set_ylabel('normalized n')\n",
    "ax[0].set_xlabel('$\\delta^{13}$C')\n",
    "ax[0].set_ylim(0,0.4)\n",
    "ax[0].legend(loc=(0.03, 0.58), framealpha=1)\n",
    "ax[0].text(0.93, 0.91, 'A', fontweight='bold', fontsize=16,\n",
    "           horizontalalignment='center',verticalalignment='center',transform=ax[0].transAxes)\n",
    "\n",
    "bins = np.linspace(-20,10,20)\n",
    "ax[1].hist([Negash_Clasts_d18O, Samre_Clasts_bot_d18O, Samre_Clasts_top_d18O],\n",
    "           label=['Negash (n='+str(len(Negash_Clasts_d18O))+')',\n",
    "                  'Samre - lower (n='+str(len(Samre_Clasts_bot_d18O))+')',\n",
    "                  'Samre - upper (n='+str(len(Samre_Clasts_top_d18O))+')'],\n",
    "           bins=bins,histtype='barstacked',normed=True,color=['C0','C2','C3'])\n",
    "ax[1].hist(carb_df[np.isfinite(carb_df['CARB_d18O'])]['CARB_d18O'],\n",
    "           label='strat. - all',bins=bins,histtype='step',normed=True,color='C7',linewidth=3)\n",
    "ax[1].hist(carb_df[(np.isfinite(carb_df['CARB_d18O']))&(carb_df['CARB_thresh_sel'])]['CARB_d18O'],\n",
    "           label='strat. - filtered',bins=bins,histtype='step',normed=True,color='C1',linewidth=3)\n",
    "ax[1].set_xlabel('$\\delta^{18}$O')\n",
    "ax[1].set_ylim(0,0.4)\n",
    "ax[1].set_yticklabels([])\n",
    "ax[1].text(0.93, 0.91, 'B', fontweight='bold', fontsize=16,\n",
    "           horizontalalignment='center',verticalalignment='center',transform=ax[1].transAxes)\n",
    "\n",
    "ax[2].scatter(carb_df['CARB_d13C'], carb_df['CARB_d18O'], c='C7', alpha=0.2)\n",
    "ax[2].scatter(Negash_Clasts_d13C, Negash_Clasts_d18O, c='C0')\n",
    "ax[2].scatter(Samre_Clasts_bot_d13C, Samre_Clasts_bot_d18O, c='C2')\n",
    "ax[2].scatter(Samre_Clasts_top_d13C, Samre_Clasts_top_d18O, c='C3')\n",
    "ax[2].set_xlabel('$\\delta^{13}$C')\n",
    "ax[2].yaxis.tick_right()\n",
    "ax[2].set_ylim(-20,10)\n",
    "ax[2].set_xlim(-15,10)\n",
    "ax[2].set_yticklabels([])\n",
    "ax[2].text(0.93, 0.91, 'C', fontweight='bold', fontsize=16,\n",
    "           horizontalalignment='center',verticalalignment='center',transform=ax[2].transAxes)\n",
    "\n",
    "ax[3].scatter(carb_df[carb_df['CARB_thresh_sel']]['CARB_d13C'],\n",
    "              carb_df[carb_df['CARB_thresh_sel']]['CARB_d18O'], c='C1', alpha=0.2)\n",
    "ax[3].scatter(Negash_Clasts_d13C, Negash_Clasts_d18O, c='C0')\n",
    "ax[3].scatter(Samre_Clasts_bot_d13C, Samre_Clasts_bot_d18O, c='C2')\n",
    "ax[3].scatter(Samre_Clasts_top_d13C, Samre_Clasts_top_d18O, c='C3')\n",
    "ax[3].set_xlabel('$\\delta^{13}$C')\n",
    "ax[3].set_ylabel('$\\delta^{18}$O', rotation=270, labelpad=20)\n",
    "ax[3].yaxis.tick_right()\n",
    "ax[3].yaxis.set_label_position('right')\n",
    "ax[3].set_ylim(-20,10)\n",
    "ax[3].set_xlim(-15,10)\n",
    "ax[3].text(0.93, 0.91, 'D', fontweight='bold', fontsize=16,\n",
    "           horizontalalignment='center',verticalalignment='center',transform=ax[3].transAxes)\n",
    "\n",
    "ax[4].scatter(carb_df[~carb_df['CARB_thresh_sel']]['cum_CARB_HEIGHT'],\n",
    "              carb_df[~carb_df['CARB_thresh_sel']]['CARB_d13C'], c='C7', s=10, label='all')\n",
    "ax[4].scatter(carb_df[carb_df['CARB_thresh_sel']]['cum_CARB_HEIGHT'],\n",
    "              carb_df[carb_df['CARB_thresh_sel']]['CARB_d13C'], c='C1', s=10, label='filtered')\n",
    "ax[4].set_ylabel('$\\delta^{13}$C')\n",
    "ax[4].set_xlim(-500,4500)\n",
    "ax[4].set_xticklabels([])\n",
    "ax[4].set_ylim(-15,10)\n",
    "ax[4].legend(loc=(0.25,0.1))\n",
    "ax[4].text(0.02, 0.88, 'E', fontweight='bold', fontsize=16,\n",
    "           horizontalalignment='center',verticalalignment='center',transform=ax[4].transAxes)\n",
    "ax[4].set_axisbelow(True)\n",
    "ax[4].grid(ls='--')\n",
    "\n",
    "ax[5].plot(pval_heights, KSstats, '+-', c='C7', label='all')\n",
    "ax[5].plot(pval_heights, KSstats_filtered, '+-', c='C1', label='filtered')\n",
    "ax[5].set_ylabel('KS statistic')\n",
    "ax[5].set_ylim(0,0.5)\n",
    "ax[5].set_xlim(-500,4500)\n",
    "ax[5].set_xticklabels([])\n",
    "ax[5].legend(loc=(0.18,0.65))\n",
    "ax[5].text(0.02, 0.88, 'F', fontweight='bold', fontsize=16,\n",
    "           horizontalalignment='center',verticalalignment='center',transform=ax[5].transAxes)\n",
    "ax[5].set_axisbelow(True)\n",
    "ax[5].grid(ls='--')\n",
    "\n",
    "ax[6].plot(pval_heights, pvals, '+-', c='C7', label='all')\n",
    "ax[6].plot(pval_heights, pvals_filtered, '+-', c='C1', label='filtered')\n",
    "ax[6].set_ylim(0,0.6)\n",
    "ax[6].set_ylabel('KS p-value')\n",
    "ax[6].set_xlabel('stratigraphic height [m]')\n",
    "ax[6].set_xlim(-500,4500)\n",
    "ax[6].text(0.02, 0.88, 'G', fontweight='bold', fontsize=16,\n",
    "           horizontalalignment='center',verticalalignment='center',transform=ax[6].transAxes)\n",
    "ax[6].set_axisbelow(True)\n",
    "ax[6].grid(ls='--')\n",
    "\n",
    "#plt.savefig('../../Manuscript/Figures/Clast_Analysis_Pval.pdf', bbox_inches='tight')\n",
    "plt.show(fig)"
   ]
  },
  {
   "cell_type": "code",
   "execution_count": null,
   "metadata": {},
   "outputs": [],
   "source": [
    "def erosion_analysis(erosion_height, n, filtered):\n",
    "    \"\"\"\n",
    "    Perform the erosion analysis and plot results.\n",
    "    \n",
    "    Args:\n",
    "        - erosion_height (float): the cumulative stratigraphic height to which\n",
    "                                  erosion occurred\n",
    "        - n (float): number of Monte Carlo sampling runs to perform\n",
    "        - filtered (boolean): if True, perform on filtered version of the data\n",
    "        \n",
    "    Returns:\n",
    "        - d13C_sampled (array): sampled d13C values\n",
    "        - d18O_sampled (array): sampled d18O values\n",
    "        - height_sampled (array): sampled heights\n",
    "        - fig (figure): figure handle\n",
    "        - ax (axes): axes handles\n",
    "    \"\"\"\n",
    "    # pull out data with height greater than erosion_height\n",
    "    Tambien_d13C = np.array([])\n",
    "    Tambien_d18O = np.array([])\n",
    "    Tambien_height = np.array([])\n",
    "    \n",
    "    if filtered:\n",
    "        for i in range(len(carb_df.index)):\n",
    "\n",
    "            # make sure we are getting rid of any NaN cells\n",
    "            if (carb_df['cum_CARB_HEIGHT'][i]>=erosion_height) and\\\n",
    "               (np.isfinite(carb_df['CARB_d13C'][i])) and\\\n",
    "               (np.isfinite(carb_df['CARB_d18O'][i])) and\\\n",
    "               (carb_df['CARB_thresh_sel'][i]):\n",
    "                Tambien_d13C = np.append(Tambien_d13C, carb_df['CARB_d13C'][i])\n",
    "                Tambien_d18O = np.append(Tambien_d18O, carb_df['CARB_d18O'][i])\n",
    "                Tambien_height = np.append(Tambien_height, carb_df['cum_CARB_HEIGHT'][i])\n",
    "    else:\n",
    "        for i in range(len(carb_df.index)):\n",
    "\n",
    "            # make sure we are getting rid of any NaN cells\n",
    "            if (carb_df['cum_CARB_HEIGHT'][i]>=erosion_height) and\\\n",
    "               (np.isfinite(carb_df['CARB_d13C'][i])) and\\\n",
    "               (np.isfinite(carb_df['CARB_d18O'][i])):\n",
    "                Tambien_d13C = np.append(Tambien_d13C, carb_df['CARB_d13C'][i])\n",
    "                Tambien_d18O = np.append(Tambien_d18O, carb_df['CARB_d18O'][i])\n",
    "                Tambien_height = np.append(Tambien_height, carb_df['cum_CARB_HEIGHT'][i])\n",
    "            \n",
    "    # get the window thickness and number (approx window thickness is 50m)\n",
    "    n_windows = int((np.max(Tambien_height) - np.min(Tambien_height))/50)\n",
    "    window_thickness = (np.max(Tambien_height) - np.min(Tambien_height)) / n_windows\n",
    "    \n",
    "    # create lists that hold arrays for each window\n",
    "    Tambien_d13C_windows = []\n",
    "    Tambien_d18O_windows = []\n",
    "    Tambien_height_windows = []\n",
    "    \n",
    "    # initiate counting of window bottom and top (with a small buffer on the bottom to include all samples)\n",
    "    window_bot = np.min(Tambien_height) - 0.1\n",
    "    window_top = window_bot + window_thickness\n",
    "    \n",
    "    # loop over the windows\n",
    "    for i in range(n_windows):\n",
    "        \n",
    "        # pull out the indices for this window\n",
    "        window_inds = np.where((Tambien_height > window_bot) & (Tambien_height <=window_top))\n",
    "        \n",
    "        # pull out the data and store\n",
    "        Tambien_d13C_windows.append(Tambien_d13C[window_inds[0]])\n",
    "        Tambien_d18O_windows.append(Tambien_d18O[window_inds[0]])\n",
    "        Tambien_height_windows.append(Tambien_height[window_inds[0]])\n",
    "        \n",
    "        # tick the window bottom and top\n",
    "        window_bot = window_top\n",
    "        window_top = window_top + window_thickness\n",
    "        \n",
    "    # Monte Carlo sample\n",
    "    d13C_sampled = np.array([])\n",
    "    d18O_sampled = np.array([])\n",
    "    height_sampled = np.array([])\n",
    "    for i in range(n):\n",
    "        for j in range(n_windows):\n",
    "            try:\n",
    "                selected_ind = np.random.choice(len(Tambien_d13C_windows[j]))\n",
    "                d13C_sampled = np.append(d13C_sampled, Tambien_d13C_windows[j][selected_ind])\n",
    "                d18O_sampled = np.append(d18O_sampled, Tambien_d18O_windows[j][selected_ind])\n",
    "                height_sampled = np.append(height_sampled, Tambien_height_windows[j][selected_ind])\n",
    "            except:\n",
    "                pass\n",
    "    \n",
    "    # first, set up the gridspec\n",
    "    fig = plt.figure(figsize=(10,10))\n",
    "\n",
    "    gs = gridspec.GridSpec(3, 3)\n",
    "    ax0 = plt.subplot(gs[0, :])\n",
    "    ax1 = plt.subplot(gs[1, :])\n",
    "    ax2 = plt.subplot(gs[2, 0])\n",
    "    ax3 = plt.subplot(gs[2, 1])\n",
    "    ax4 = plt.subplot(gs[2, 2])\n",
    "\n",
    "    ax = [ax0, ax1, ax2, ax3, ax4]\n",
    "\n",
    "    # now plot\n",
    "    alpha = 0.2\n",
    "    \n",
    "    ax[0].scatter(Tambien_height, Tambien_d13C, label='all data', color='mediumseagreen', alpha=alpha)\n",
    "    ax[0].scatter(height_sampled, d13C_sampled, label='Monte Carlo sampled', color='grey')\n",
    "    ax[0].set_ylabel('$\\delta^{13}$C')\n",
    "    ax[0].set_ylim(-15,10)\n",
    "    ax[0].set_yticks([-15,-10,-5,0,5,10])\n",
    "    ax[0].yaxis.grid(ls='--')\n",
    "    ax[0].xaxis.tick_top()\n",
    "    ax[0].xaxis.set_label_position('top')\n",
    "    ax[0].set_xlabel('stratigraphic height [m]', labelpad=15)\n",
    "    ax[0].text(0.97,0.9,'A',fontweight='bold',fontsize=15,\n",
    "               verticalalignment='center',horizontalalignment='center',transform=ax[0].transAxes)\n",
    "    ax[0].legend()\n",
    "    \n",
    "    ax[1].scatter(Tambien_height, Tambien_d18O, color='mediumseagreen', alpha=alpha)\n",
    "    ax[1].scatter(height_sampled, d18O_sampled, color='grey')\n",
    "    ax[1].set_ylabel('$\\delta^{18}$O')\n",
    "    ax[1].set_ylim(-20,5)\n",
    "    ax[1].set_yticks([-20,-15,-10,-5,0,5])\n",
    "    ax[1].yaxis.grid(ls='--')\n",
    "    ax[1].xaxis.tick_top()\n",
    "    ax[1].set_xticklabels([])\n",
    "    ax[1].text(0.97,0.9,'B',fontweight='bold',fontsize=15,\n",
    "               verticalalignment='center',horizontalalignment='center',transform=ax[1].transAxes)\n",
    "    \n",
    "    bins = np.linspace(-15,10,20)\n",
    "    ax[2].hist([Negash_Clasts_d13C,Samre_Clasts_bot_d13C,Samre_Clasts_top_d13C],\n",
    "               label=['Negash','Samre - lower','Samre - upper'],bins=bins,histtype='barstacked',normed=True)\n",
    "    ax[2].hist(d13C_sampled,label='stratigraphy',\n",
    "               bins=bins,histtype='step',normed=True,color='grey',linewidth=3)\n",
    "    ax[2].legend(loc=2)\n",
    "    ax[2].set_ylabel('normalized n')\n",
    "    ax[2].set_xlabel('$\\delta^{13}$C')\n",
    "    ax[2].set_xlim(-15,10)\n",
    "    ax[2].text(0.91,0.9,'C',fontweight='bold',fontsize=15,\n",
    "               verticalalignment='center',horizontalalignment='center',transform=ax[2].transAxes)\n",
    "\n",
    "    ax[3].hist([Negash_Clasts_d18O,Samre_Clasts_bot_d18O,Samre_Clasts_top_d18O],\n",
    "               label=['Negash','Samre - lower','Samre - upper'],bins=bins,histtype='barstacked',normed=True)\n",
    "    ax[3].hist(d18O_sampled,label='stratigraphy',\n",
    "               bins=bins,histtype='step',normed=True,color='grey',linewidth=3)\n",
    "    ax[3].set_yticklabels([])\n",
    "    ax[3].set_xlabel('$\\delta^{18}$O')\n",
    "    ax[3].set_xlim(-20,5)\n",
    "    ax[3].text(0.91,0.9,'D',fontweight='bold',fontsize=15,\n",
    "               verticalalignment='center',horizontalalignment='center',transform=ax[3].transAxes)\n",
    "    \n",
    "    if ax[2].get_ylim()[1] > ax[3].get_ylim()[1]:\n",
    "        ax[3].set_ylim(ax[2].get_ylim())\n",
    "    else:\n",
    "        ax[2].set_ylim(ax[3].get_ylim())\n",
    "    ax[3].set_yticklabels([])\n",
    "    \n",
    "    ax[4].scatter(d13C_sampled,d18O_sampled,label='stratigraphy',color='grey',alpha=alpha)\n",
    "    ax[4].scatter(Negash_Clasts_d13C,Negash_Clasts_d18O,label='Negash',color='C0')\n",
    "    ax[4].scatter(Samre_Clasts_bot_d13C,Samre_Clasts_bot_d18O,label='Samre - lower',color='C1')\n",
    "    ax[4].scatter(Samre_Clasts_top_d13C,Samre_Clasts_top_d18O,label='Samre - upper',color='C2')\n",
    "    ax[4].set_ylabel('$\\delta^{18}$O', rotation=270, labelpad=15)\n",
    "    ax[4].set_xlabel('$\\delta^{13}$C')\n",
    "    ax[4].set_xlim(-15,10)\n",
    "    ax[4].set_ylim(-20,5)\n",
    "    ax[4].yaxis.tick_right()\n",
    "    ax[4].yaxis.set_label_position('right')\n",
    "    ax[4].grid(ls='--')\n",
    "    ax[4].text(0.91,0.9,'E',fontweight='bold',fontsize=15,\n",
    "               verticalalignment='center',horizontalalignment='center',transform=ax[4].transAxes)\n",
    "    \n",
    "    d13C_stat, d13C_pval = stats.ks_2samp(d13C_sampled,all_Clasts_d13C)\n",
    "    d18O_stat, d18O_pval = stats.ks_2samp(d18O_sampled,all_Clasts_d18O)\n",
    "\n",
    "    print('d13C pval = ' + str(d13C_pval))\n",
    "    print('d18O pval = ' + str(d18O_pval))\n",
    "    \n",
    "    return d13C_sampled, d18O_sampled, height_sampled, fig, ax"
   ]
  },
  {
   "cell_type": "code",
   "execution_count": null,
   "metadata": {},
   "outputs": [],
   "source": [
    "d13C_sampled, d18O_sampled, height_sampled, fig, ax = erosion_analysis(4210, 100, False)\n",
    "plt.show(fig)"
   ]
  },
  {
   "cell_type": "code",
   "execution_count": null,
   "metadata": {},
   "outputs": [],
   "source": [
    "d13C_sampled, d18O_sampled, height_sampled, fig, ax = erosion_analysis(4210, 100, True)\n",
    "plt.show(fig)"
   ]
  },
  {
   "cell_type": "code",
   "execution_count": null,
   "metadata": {},
   "outputs": [],
   "source": [
    "d13C_sampled, d18O_sampled, height_sampled, fig, ax = erosion_analysis(-500, 100, False)\n",
    "plt.show(fig)"
   ]
  },
  {
   "cell_type": "code",
   "execution_count": null,
   "metadata": {},
   "outputs": [],
   "source": [
    "d13C_sampled, d18O_sampled, height_sampled, fig, ax = erosion_analysis(-500, 100, True)\n",
    "plt.show(fig)"
   ]
  },
  {
   "cell_type": "markdown",
   "metadata": {
    "collapsed": true
   },
   "source": [
    "## Calcium Isotopes"
   ]
  },
  {
   "cell_type": "code",
   "execution_count": null,
   "metadata": {},
   "outputs": [],
   "source": [
    "T40_Ca = pd.read_csv('../Data/Ca/T40_Ca.csv')\n",
    "\n",
    "fig, ax = plt.subplots(nrows=1, ncols=4, sharey=True, figsize=(15,10))\n",
    "\n",
    "ax[0].scatter(T40_Ca['d13C'], T40_Ca['height'])\n",
    "ax[0].set_xlabel('$\\delta^{13}$C')\n",
    "ax[0].set_xlim(-15,10)\n",
    "\n",
    "ax[1].scatter(T40_Ca['d18O'], T40_Ca['height'])\n",
    "ax[1].set_xlabel('$\\delta^{18}$O')\n",
    "ax[1].set_xlim(-20,5)\n",
    "\n",
    "ax[2].scatter(T40_Ca['d44_40Ca'], T40_Ca['height'])\n",
    "ax[2].set_xlabel('$\\delta^{44/40}$Ca')\n",
    "\n",
    "ax[3].scatter(T40_Ca['Sr/Ca_mmol/mol'], T40_Ca['height'])\n",
    "ax[3].set_xlabel('Sr/Ca [mmol/mol]')\n",
    "\n",
    "for i in range(len(ax)):\n",
    "    ax[i].xaxis.grid()\n",
    "\n",
    "plt.show(fig)"
   ]
  }
 ],
 "metadata": {
  "kernelspec": {
   "display_name": "Python 3",
   "language": "python",
   "name": "python3"
  },
  "language_info": {
   "codemirror_mode": {
    "name": "ipython",
    "version": 3
   },
   "file_extension": ".py",
   "mimetype": "text/x-python",
   "name": "python",
   "nbconvert_exporter": "python",
   "pygments_lexer": "ipython3",
   "version": "3.6.6"
  },
  "toc": {
   "nav_menu": {
    "height": "120px",
    "width": "252px"
   },
   "number_sections": false,
   "sideBar": true,
   "skip_h1_title": false,
   "title_cell": "Table of Contents",
   "title_sidebar": "Contents",
   "toc_cell": false,
   "toc_position": {
    "height": "826px",
    "left": "0px",
    "right": "1228px",
    "top": "111px",
    "width": "268px"
   },
   "toc_section_display": "block",
   "toc_window_display": true
  }
 },
 "nbformat": 4,
 "nbformat_minor": 2
}
